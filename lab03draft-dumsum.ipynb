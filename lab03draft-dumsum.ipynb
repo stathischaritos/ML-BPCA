{
 "metadata": {
  "name": ""
 },
 "nbformat": 3,
 "nbformat_minor": 0,
 "worksheets": [
  {
   "cells": [
    {
     "cell_type": "markdown",
     "metadata": {},
     "source": [
      "# Lab 2: Bayesian PCA\n",
      "\n",
      "### Machine Learning: Principles and Methods, November 2013\n",
      "\n",
      "* The lab exercises should be made in groups of three people, or at least two people.\n",
      "* The deadline is Wednesday, 11 December, 23:59.\n",
      "* Assignment should be sent to T.S.Cohen at uva dot nl (Taco Cohen). The subject line of your email should be \"[MLPM2013] lab#_lastname1\\_lastname2\\_lastname3\". \n",
      "* Put your and your teammates' names in the body of the email\n",
      "* Attach the .IPYNB (IPython Notebook) file containing your code and answers. Naming of the file follows the same rule as the subject line. For example, if the subject line is \"[MLPM2013] lab01\\_Kingma\\_Hu\", the attached file should be \"lab01\\_Kingma\\_Hu.ipynb\". Only use underscores (\"\\_\") to connect names, otherwise the files cannot be parsed.\n",
      "\n",
      "Notes on implementation:\n",
      "\n",
      "* You should write your code and answers in an IPython Notebook: http://ipython.org/notebook.html. If you have problems, please contact us.\n",
      "* Among the first lines of your notebook should be \"%pylab inline\". This imports all required modules, and your plots will appear inline.\n",
      "* NOTE: test your code and make sure we can run your notebook / scripts!"
     ]
    },
    {
     "cell_type": "markdown",
     "metadata": {},
     "source": [
      "### Introduction\n",
      "\n",
      "In this lab assignment, we will implement a variational algorithm for Bayesian PCA. Unlike regular PCA based on maximization of retained variance or minimization of projection error (see Bishop, 12.1.1 and 12.1.2), probabilistic PCA defines a proper density model over observed and latent variables. We will work with a fully Bayesian model this time, which is to say that we will put priors on our parameters and will be interested in learning the posterior over those parameters. Bayesian methods are very elegant, but require a shift in mindset: we are no longer looking for a point estimate of the parameters (as in maximum likelihood or MAP), but for a full posterior distribution.\n",
      "\n",
      "The integrals involved in a Bayesian analysis are usually analytically intractable, so that we must resort to approximations. In this lab assignment, we will implement the variational method described in Bishop99. Chapters 10 and 12 of the PRML book contain additional material that may be useful when doing this exercise.\n",
      "\n",
      "* [Bishop99] Variational Principal Components, C. Bishop, ICANN 1999 - http://research.microsoft.com/pubs/67241/bishop-vpca-icann-99.pdf\n",
      "\n",
      "Below, you will find some code to get you started."
     ]
    },
    {
     "cell_type": "code",
     "collapsed": false,
     "input": [
      "%pylab inline\n",
      "import scipy.special as sp\n",
      "\n",
      "class BayesianPCA(object):\n",
      "    \n",
      "    def __init__(self, d, N, a_alpha=10e-3, b_alpha=10e-3, a_tau=10e-3, b_tau=10e-3, beta=10e-3):\n",
      "        \n",
      "        self.d = d # number of dimensions\n",
      "        self.N = N # number of data points\n",
      "        \n",
      "        # Hyperparameters\n",
      "        self.a_alpha = a_alpha\n",
      "        self.b_alpha = b_alpha\n",
      "        self.a_tau = a_tau\n",
      "        self.b_tau = b_tau\n",
      "        self.beta = beta\n",
      "\n",
      "        # Variational parameters\n",
      "        self.means_x = np.random.randn(d, N)\n",
      "        self.sigma_x = np.random.randn(d, d)\n",
      "        self.mean_mu = np.random.randn(d, 1)\n",
      "        self.sigma_mu = np.random.randn(d, d)\n",
      "        self.means_w = np.random.randn(d, d)\n",
      "        self.sigma_w = np.random.randn(d, d)\n",
      "        self.a_alpha_tilde = self.a_alpha + d/2.0\n",
      "        self.bs_alpha_tilde = np.abs(np.random.randn(d, 1))\n",
      "        self.a_tau_tilde = self.a_tau + (N*d)/2.0\n",
      "        self.b_tau_tilde = np.abs(np.random.randn(1)) \n",
      "    \n",
      "    # WtW = E[W.t W]. element WtW(i,j) = sum_d E[W_id * W_dj] = sum_d cov(W_id, W_dj) + E[W_id] * E[W_dj] \n",
      "    # covariance is zero unless the two elements are in the same column, which is only  \n",
      "    # the case during the summation if d = j so WtW(i,j) = sigma_w[i,j] + mean_w_i: * mean_w_:j\n",
      "    def get_exp_WtW(self):\n",
      "        return np.add( np.dot(self.means_w.T, self.means_w), self.sigma_w)\n",
      "        \n",
      "    \n",
      "    def update_x(self, D):\n",
      "        #update sigma of x\n",
      "        exp_tau = self.a_tau_tilde / float(self.b_tau_tilde)\n",
      "        exp_WtW = self.get_exp_WtW()\n",
      "        to_invert = numpy.identity(self.d)+(exp_tau * exp_WtW)\n",
      "        if np.linalg.det(to_invert)==0:\n",
      "            print 'determinant is 0:\\n', to_invert\n",
      "        self.sigma_x = numpy.linalg.inv(to_invert)\n",
      "                \n",
      "        # update mu of x\n",
      "        for n in range(self.N):\n",
      "            diff = np.array([D[:,n]]).T - self.mean_mu \n",
      "            product1 = np.dot(self.sigma_x, self.means_w.T)\n",
      "            product2 = np.dot(product1, diff)\n",
      "            self.means_x[:,n] = exp_tau * product2[:,0]            \n",
      "        \n",
      "    \n",
      "    def update_mu(self, D):\n",
      "        # Update sigma of mu        \n",
      "        exp_tau = self.a_tau_tilde / float(self.b_tau_tilde)\n",
      "        self.sigma_mu = (1/float(self.beta+N*exp_tau)) * numpy.identity(self.d)\n",
      "                \n",
      "        \n",
      "        # Update means of mu \n",
      "        summed = np.zeros((self.d,1))\n",
      "        for n in range(self.N):\n",
      "            exp_xn = np.array([self.means_x[:,n]]).T\n",
      "            tn = np.array([D[:,n]]).T\n",
      "            product  = np.dot(self.means_w, exp_xn)\n",
      "            diff = tn - product\n",
      "            summed += diff\n",
      "        final_product = np.dot(self.sigma_mu, summed)\n",
      "        self.mean_mu = exp_tau *  final_product\n",
      "        \n",
      "            \n",
      "    def update_w(self, D):\n",
      "        # Update sigma of W\n",
      "        exp_tau = self.a_tau_tilde / float(self.b_tau_tilde)\n",
      "        \n",
      "        exp_alpha = map( lambda x : self.a_alpha_tilde/float(x), self.bs_alpha_tilde)\n",
      "        exp_alpha_diag = np.diag(exp_alpha)         \n",
      "        \n",
      "        sum_exp_xxt = np.zeros((self.d,self.d))\n",
      "        for i in range(self.N):\n",
      "            exp_x = np.array([self.means_x[:,i]]).T\n",
      "            exp_xxt = np.dot(exp_x, exp_x.T) + self.sigma_x\n",
      "            sum_exp_xxt = sum_exp_xxt +  exp_xxt\n",
      "                \n",
      "        self.sigma_w = numpy.linalg.inv(exp_alpha_diag +  (exp_tau * sum_exp_xxt))\n",
      "                \n",
      "        # Update mu of W\n",
      "        # w(k) is a column\n",
      "        for k in range(self.d):# for each column\n",
      "            summed = np.zeros((self.d,1))\n",
      "            for i in range(self.N):\n",
      "                exp_xn = self.means_x[:,i]\n",
      "                diff = D[k,i] - self.mean_mu[k]\n",
      "                product = exp_xn * diff                \n",
      "                summed = summed + array([product]).T\n",
      "                        \n",
      "            self.means_w[:,k] = np.dot(np.multiply(exp_tau, self.sigma_mu), summed)[:,0]        \n",
      "        \n",
      "        \n",
      "    def update_alpha(self):\n",
      "        # a_alpha_tilde is a constant: a_alpha + d/2 so set it in the initialization and do not change anymore\n",
      "        \n",
      "        # b alpha tilde\n",
      "        for i in range(self.d):\n",
      "            wi = np.array([self.means_w[:,i]]).T\n",
      "            exp_wtw =  np.trace(self.sigma_w) + np.dot(wi.T, wi)\n",
      "                        \n",
      "            self.bs_alpha_tilde[i,0] = self.b_alpha + exp_wtw/2.0\n",
      "                \n",
      "        \n",
      "    def update_tau(self, D):\n",
      "        # a_tau is a constant so set in the initialization\n",
      "        \n",
      "        exp_WtW = self.get_exp_WtW()\n",
      "        exp_mutmu = np.trace(self.sigma_mu) + np.dot(self.mean_mu.T, self.mean_mu)        \n",
      "        summed = 0.0\n",
      "        \n",
      "        for i in range(N):\n",
      "            tn = np.array([D[:,i]]).T\n",
      "            exp_xn = np.array([self.means_x[:,i]]).T\n",
      "            exp_xxt = np.dot(exp_xn, exp_xn.T) + self.sigma_x\n",
      "            \n",
      "            summed += np.dot(tn.T, tn) + exp_mutmu                         \n",
      "            summed += np.trace(np.dot(exp_WtW, exp_xxt))\n",
      "            summed += 2.0 * np.dot(np.dot(self.mean_mu.T, self.means_w), exp_xn)\n",
      "            summed -= 2.0 * np.dot(np.dot(tn.T, self.means_w), exp_xn)\n",
      "            summed -= 2.0 * np.dot(tn.T, self.mean_mu)\n",
      "                \n",
      "        self.b_tau_tilde = self.b_tau + 0.5* summed\n",
      "        \n",
      "        \n",
      "        \n",
      "    def L(self, X):\n",
      "        L = 0.0\n",
      "        return L\n",
      "    \n",
      "    def fit(self, X, max_it):\n",
      "        print 'dimensions data:', X.shape\n",
      "        print 'a alpha tilde =', self.a_alpha_tilde\n",
      "        self.update_tau(X)\n",
      "        for i in range(max_it):\n",
      "            if i%10 == 0:\n",
      "                print i,\n",
      "            \n",
      "            self.update_tau(X)\n",
      "            self.update_mu(X)\n",
      "            self.update_alpha()            \n",
      "            self.update_w(X)\n",
      "            self.update_x(X)  \n",
      "                        \n",
      "            #print '\\n w at',i, ':\\n', self.means_w\n",
      "            \n",
      "            if i%5==0:                \n",
      "                #print '\\n w after',i+1, 'iterations:\\n', self.means_w\n",
      "                \n",
      "                print 'means of mu:', self.mean_mu.T\n",
      "                exp_tau = self.a_tau_tilde / float(self.b_tau_tilde)\n",
      "                print 'expectation of tau:', exp_tau\n",
      "                #exp_alpha = map( lambda x : self.a_alpha_tilde/float(x), self.bs_alpha_tilde) \n",
      "                #print 'expectation of alpha:', exp_alpha\n",
      "                #print 'bs of alpha:', self.bs_alpha_tilde.T\n",
      "                print '\\n\\n'\n",
      "                \n",
      "        print '\\n w final:\\n', self.means_w"
     ],
     "language": "python",
     "metadata": {},
     "outputs": [
      {
       "output_type": "stream",
       "stream": "stdout",
       "text": [
        "Populating the interactive namespace from numpy and matplotlib\n"
       ]
      }
     ],
     "prompt_number": 1
    },
    {
     "cell_type": "code",
     "collapsed": false,
     "input": [
      "import matplotlib.pyplot as plt\n",
      "from mpl_toolkits.mplot3d import Axes3D\n",
      "\n",
      "def plot_data(X):\n",
      "    fig = plt.figure()\n",
      "    ax = fig.add_subplot(111, projection='3d')\n",
      "    ax.scatter(X[0,:], X[1,:], zs=X[2,:])\n",
      "    \n",
      "    '''\n",
      "    fig2 = plt.figure()\n",
      "    ax2 = fig2.add_subplot(111)\n",
      "    ax2.scatter(X[0,:], X[1,:])\n",
      "    \n",
      "    fig3 = plt.figure()\n",
      "    ax3 = fig3.add_subplot(111)\n",
      "    ax3.scatter(X[0,:], X[2,:])\n",
      "    \n",
      "    fig4 = plt.figure()\n",
      "    ax4 = fig4.add_subplot(111)\n",
      "    ax4.scatter(X[2,:], X[1,:])              \n",
      "    '''\n",
      "\n",
      "# matrix with orthonormal vectors\n",
      "A = np.array([ [0.4246,-0.1753,-0.1466,-0.0956,0.7864,0.3741]\n",
      "                ,[0.5199,0.3483,0.2280,-0.4751,-0.4102,0.4031]\n",
      "                ,[-0.2212,-0.7183,-0.2838,-0.2656,-0.3263,0.4213]\n",
      "                ,[-0.5600,0.0724,0.6716,-0.1030,0.2397,0.4025]\n",
      "                ,[0.2692,-0.1393,0.2114,0.8147,-0.2223,0.3876]\n",
      "                ,[-0.3382,0.5544,-0.5918,0.1422,-0.0037,0.4558]])\n",
      "\n",
      "# eigenvalues on a diagonal matrix representing the magnitude of the variance\n",
      "L = np.diag( [15,15,1,1,1,1])\n",
      "\n",
      "# Covariance matrix generated based on A and L\n",
      "covariance = np.dot(np.dot(A, L) , A.T)\n",
      "means = [2,2,2,2,2,2]\n",
      "\n",
      "dims = 6\n",
      "N = 500\n",
      "\n",
      "data = numpy.random.multivariate_normal(means, covariance, (N)).T\n",
      "\n",
      "#print 'Plot of the first three dimensions of the data'\n",
      "#plot_data(data)\n",
      "\n",
      "bay_pca = BayesianPCA(dims,N)\n",
      "bay_pca.fit(data, 300)"
     ],
     "language": "python",
     "metadata": {},
     "outputs": [
      {
       "output_type": "stream",
       "stream": "stdout",
       "text": [
        "dimensions data: (6, 500)\n",
        "a alpha tilde = 3.01\n",
        "0 "
       ]
      },
      {
       "output_type": "stream",
       "stream": "stdout",
       "text": [
        "means of mu: [[ 2.03317438  1.87239602  2.26318795  1.88042669  1.95535397  1.9517115 ]]\n",
        "expectation of tau: 0.0632379836039\n",
        "\n",
        "\n",
        "\n",
        "means of mu:"
       ]
      },
      {
       "output_type": "stream",
       "stream": "stdout",
       "text": [
        " [[ 1.88262803  1.8161524   2.17073969  2.05521166  2.02643591  2.00897422]]\n",
        "expectation of tau: 0.457362216652\n",
        "\n",
        "\n",
        "\n",
        "10"
       ]
      },
      {
       "output_type": "stream",
       "stream": "stdout",
       "text": [
        " means of mu: [[ 1.88267149  1.81620344  2.17078027  2.05526383  2.02648354  2.00903435]]\n",
        "expectation of tau: 1.05304214607\n",
        "\n",
        "\n",
        "\n",
        "means of mu:"
       ]
      },
      {
       "output_type": "stream",
       "stream": "stdout",
       "text": [
        " [[ 1.8826684   1.81620512  2.17077341  2.05526612  2.02648117  2.00904096]]\n",
        "expectation of tau: 1.04842151604\n",
        "\n",
        "\n",
        "\n",
        "20"
       ]
      },
      {
       "output_type": "stream",
       "stream": "stdout",
       "text": [
        " means of mu: [[ 1.88266514  1.81620421  2.17076991  2.05526911  2.02647879  2.00904575]]\n",
        "expectation of tau: 1.04144900642\n",
        "\n",
        "\n",
        "\n",
        "means of mu:"
       ]
      },
      {
       "output_type": "stream",
       "stream": "stdout",
       "text": [
        " [[ 1.88266213  1.81620402  2.17076583  2.05527182  2.02647659  2.00905077]]\n",
        "expectation of tau: 1.03665620715\n",
        "\n",
        "\n",
        "\n",
        "30"
       ]
      },
      {
       "output_type": "stream",
       "stream": "stdout",
       "text": [
        " means of mu: [[ 1.88265942  1.81620235  2.17076437  2.05527483  2.02647472  2.0090543 ]]\n",
        "expectation of tau: 1.03420368667\n",
        "\n",
        "\n",
        "\n",
        "means of mu:"
       ]
      },
      {
       "output_type": "stream",
       "stream": "stdout",
       "text": [
        " [[ 1.8826572   1.81620239  2.17076118  2.05527692  2.0264731   2.00905827]]\n",
        "expectation of tau: 1.03246925595\n",
        "\n",
        "\n",
        "\n",
        "40"
       ]
      },
      {
       "output_type": "stream",
       "stream": "stdout",
       "text": [
        " means of mu: [[ 1.88265505  1.81620088  2.17076032  2.05527942  2.02647165  2.00906098]]\n",
        "expectation of tau: 1.03129627708\n",
        "\n",
        "\n",
        "\n",
        "means of mu:"
       ]
      },
      {
       "output_type": "stream",
       "stream": "stdout",
       "text": [
        " [[ 1.88265341  1.81620117  2.1707576   2.05528093  2.02647044  2.00906415]]\n",
        "expectation of tau: 1.03034014036\n",
        "\n",
        "\n",
        "\n",
        "50"
       ]
      },
      {
       "output_type": "stream",
       "stream": "stdout",
       "text": [
        " means of mu: [[ 1.88265168  1.81619988  2.17075704  2.05528297  2.02646928  2.00906627]]\n",
        "expectation of tau: 1.02957587437\n",
        "\n",
        "\n",
        "\n",
        "means of mu:"
       ]
      },
      {
       "output_type": "stream",
       "stream": "stdout",
       "text": [
        " [[ 1.88265043  1.81620028  2.1707547   2.05528407  2.02646835  2.00906883]]\n",
        "expectation of tau: 1.02893090871\n",
        "\n",
        "\n",
        "\n",
        "60"
       ]
      },
      {
       "output_type": "stream",
       "stream": "stdout",
       "text": [
        " means of mu: [[ 1.88264903  1.81619918  2.17075432  2.05528575  2.02646741  2.00907052]]\n",
        "expectation of tau: 1.0283964381\n",
        "\n",
        "\n",
        "\n",
        "means of mu:"
       ]
      },
      {
       "output_type": "stream",
       "stream": "stdout",
       "text": [
        " [[ 1.88264807  1.81619961  2.17075234  2.05528657  2.02646669  2.00907259]]\n",
        "expectation of tau: 1.02794647193\n",
        "\n",
        "\n",
        "\n",
        "70"
       ]
      },
      {
       "output_type": "stream",
       "stream": "stdout",
       "text": [
        " means of mu: [[ 1.88264693  1.81619868  2.1707521   2.05528795  2.02646593  2.00907394]]\n",
        "expectation of tau: 1.02757413415\n",
        "\n",
        "\n",
        "\n",
        "means of mu:"
       ]
      },
      {
       "output_type": "stream",
       "stream": "stdout",
       "text": [
        " [[ 1.88264618  1.81619911  2.17075043  2.05528856  2.02646537  2.00907562]]\n",
        "expectation of tau: 1.02726465894\n",
        "\n",
        "\n",
        "\n",
        "80"
       ]
      },
      {
       "output_type": "stream",
       "stream": "stdout",
       "text": [
        " means of mu: [[ 1.88264526  1.81619832  2.17075028  2.05528969  2.02646476  2.00907668]]\n",
        "expectation of tau: 1.02701626361\n",
        "\n",
        "\n",
        "\n",
        "means of mu:"
       ]
      },
      {
       "output_type": "stream",
       "stream": "stdout",
       "text": [
        " [[ 1.88264469  1.81619872  2.1707489   2.05529015  2.02646432  2.00907803]]\n",
        "expectation of tau: 1.02682857624\n",
        "\n",
        "\n",
        "\n",
        "90"
       ]
      },
      {
       "output_type": "stream",
       "stream": "stdout",
       "text": [
        " means of mu: [[ 1.88264395  1.81619807  2.17074881  2.05529107  2.02646383  2.00907887]]\n",
        "expectation of tau: 1.02672986017\n",
        "\n",
        "\n",
        "\n",
        "means of mu:"
       ]
      },
      {
       "output_type": "stream",
       "stream": "stdout",
       "text": [
        " [[ 1.88264352  1.81619843  2.17074768  2.05529143  2.0264635   2.00907995]]\n",
        "expectation of tau: 1.0268011517\n",
        "\n",
        "\n",
        "\n",
        "100"
       ]
      },
      {
       "output_type": "stream",
       "stream": "stdout",
       "text": [
        " means of mu: [[ 1.88264295  1.81619791  2.17074766  2.05529221  2.02646313  2.00908061]]\n",
        "expectation of tau: 1.02728309712\n",
        "\n",
        "\n",
        "\n",
        "means of mu:"
       ]
      },
      {
       "output_type": "stream",
       "stream": "stdout",
       "text": [
        " [[ 1.88264267  1.81619829  2.17074676  2.05529258  2.02646293  2.00908146]]\n",
        "expectation of tau: 1.02878253347\n",
        "\n",
        "\n",
        "\n",
        "110"
       ]
      },
      {
       "output_type": "stream",
       "stream": "stdout",
       "text": [
        " means of mu: [[ 1.88264234  1.81619798  2.17074681  2.05529346  2.02646276  2.00908197]]\n",
        "expectation of tau: 1.03256933186\n",
        "\n",
        "\n",
        "\n",
        "means of mu:"
       ]
      },
      {
       "output_type": "stream",
       "stream": "stdout",
       "text": [
        " [[ 1.88264234  1.81619853  2.17074618  2.05529424  2.02646282  2.00908265]]\n",
        "expectation of tau: 1.04006771771\n",
        "\n",
        "\n",
        "\n",
        "120"
       ]
      },
      {
       "output_type": "stream",
       "stream": "stdout",
       "text": [
        " means of mu: [[ 1.88264229  1.81619851  2.17074632  2.05529552  2.0264629   2.00908305]]\n",
        "expectation of tau: 1.05011494905\n",
        "\n",
        "\n",
        "\n",
        "means of mu:"
       ]
      },
      {
       "output_type": "stream",
       "stream": "stdout",
       "text": [
        " [[ 1.88264231  1.816199    2.17074578  2.05529638  2.02646298  2.00908361]]\n",
        "expectation of tau: 1.05830325528\n",
        "\n",
        "\n",
        "\n",
        "130"
       ]
      },
      {
       "output_type": "stream",
       "stream": "stdout",
       "text": [
        " means of mu: [[ 1.88264207  1.8161988   2.17074581  2.05529721  2.02646288  2.00908399]]\n",
        "expectation of tau: 1.06254740133\n",
        "\n",
        "\n",
        "\n",
        "means of mu:"
       ]
      },
      {
       "output_type": "stream",
       "stream": "stdout",
       "text": [
        " [[ 1.88264188  1.81619899  2.1707453   2.05529754  2.02646274  2.00908453]]\n",
        "expectation of tau: 1.06413757712\n",
        "\n",
        "\n",
        "\n",
        "140"
       ]
      },
      {
       "output_type": "stream",
       "stream": "stdout",
       "text": [
        " means of mu: [[ 1.88264156  1.81619869  2.17074529  2.05529802  2.02646254  2.00908488]]\n",
        "expectation of tau: 1.06459614098\n",
        "\n",
        "\n",
        "\n",
        "means of mu:"
       ]
      },
      {
       "output_type": "stream",
       "stream": "stdout",
       "text": [
        " [[ 1.88264138  1.81619873  2.1707451   2.05529795  2.02646242  2.00908551]]\n",
        "expectation of tau: 1.06463445861\n",
        "\n",
        "\n",
        "\n",
        "150"
       ]
      },
      {
       "output_type": "stream",
       "stream": "stdout",
       "text": [
        " means of mu: [[ 1.88264103  1.81619813  2.17074537  2.05529845  2.02646219  2.00908548]]\n",
        "expectation of tau: 1.06318207122\n",
        "\n",
        "\n",
        "\n",
        "means of mu:"
       ]
      },
      {
       "output_type": "stream",
       "stream": "stdout",
       "text": [
        " [[ 1.88264087  1.8161966   2.17074888  2.05529408  2.02646222  2.00908783]]\n",
        "expectation of tau: 1.05029761976\n",
        "\n",
        "\n",
        "\n",
        "160"
       ]
      },
      {
       "output_type": "stream",
       "stream": "stdout",
       "text": [
        " means of mu: [[ 1.88263613  1.81618864  2.17074487  2.05528875  2.02645645  2.00907353]]\n",
        "expectation of tau: 0.891065969293\n",
        "\n",
        "\n",
        "\n",
        "means of mu:"
       ]
      },
      {
       "output_type": "stream",
       "stream": "stdout",
       "text": [
        " [[ 1.88264474  1.81619113  2.1707599   2.05527989  2.02646406  2.00907272]]\n",
        "expectation of tau: 0.957360177727\n",
        "\n",
        "\n",
        "\n",
        "170"
       ]
      },
      {
       "output_type": "stream",
       "stream": "stdout",
       "text": [
        " means of mu: [[ 1.88264808  1.81619607  2.17075767  2.05528878  2.02646705  2.00907027]]\n",
        "expectation of tau: 1.03841356514\n",
        "\n",
        "\n",
        "\n",
        "means of mu:"
       ]
      },
      {
       "output_type": "stream",
       "stream": "stdout",
       "text": [
        " [[ 1.88264818  1.81619743  2.17075684  2.0552882   2.02646726  2.00907307]]\n",
        "expectation of tau: 1.04967395014\n",
        "\n",
        "\n",
        "\n",
        "180"
       ]
      },
      {
       "output_type": "stream",
       "stream": "stdout",
       "text": [
        " means of mu: [[ 1.88264695  1.81619668  2.17075506  2.05529043  2.02646621  2.00907246]]\n",
        "expectation of tau: 1.04056950099\n",
        "\n",
        "\n",
        "\n",
        "means of mu:"
       ]
      },
      {
       "output_type": "stream",
       "stream": "stdout",
       "text": [
        " [[ 1.88264582  1.81619277  2.17076044  2.05528091  2.02646522  2.0090746 ]]\n",
        "expectation of tau: 0.985987175543\n",
        "\n",
        "\n",
        "\n",
        "190"
       ]
      },
      {
       "output_type": "stream",
       "stream": "stdout",
       "text": [
        " means of mu: [[ 1.88264471  1.81618933  2.17075688  2.05528204  2.02646293  2.00906036]]\n",
        "expectation of tau: 0.911354407616\n",
        "\n",
        "\n",
        "\n",
        "means of mu:"
       ]
      },
      {
       "output_type": "stream",
       "stream": "stdout",
       "text": [
        " [[ 1.88265053  1.81619484  2.17076367  2.05528265  2.02646883  2.00906661]]\n",
        "expectation of tau: 1.0237949497\n",
        "\n",
        "\n",
        "\n",
        "200"
       ]
      },
      {
       "output_type": "stream",
       "stream": "stdout",
       "text": [
        " means of mu: [[ 1.8826503   1.81619644  2.17076019  2.0552869   2.02646864  2.00906639]]\n",
        "expectation of tau: 1.04104493101\n",
        "\n",
        "\n",
        "\n",
        "means of mu:"
       ]
      },
      {
       "output_type": "stream",
       "stream": "stdout",
       "text": [
        " [[ 1.88264972  1.81619622  2.17076111  2.05528429  2.02646836  2.00907021]]\n",
        "expectation of tau: 1.03767544544\n",
        "\n",
        "\n",
        "\n",
        "210"
       ]
      },
      {
       "output_type": "stream",
       "stream": "stdout",
       "text": [
        " means of mu: [[ 1.88264592  1.81619161  2.17075705  2.05528441  2.02646434  2.00906318]]\n",
        "expectation of tau: 0.949550722987\n",
        "\n",
        "\n",
        "\n",
        "means of mu:"
       ]
      },
      {
       "output_type": "stream",
       "stream": "stdout",
       "text": [
        " [[ 1.88264869  1.81619069  2.1707657   2.05527604  2.02646683  2.00906452]]\n",
        "expectation of tau: 0.954365159646\n",
        "\n",
        "\n",
        "\n",
        "220"
       ]
      },
      {
       "output_type": "stream",
       "stream": "stdout",
       "text": [
        " means of mu: [[ 1.88265101  1.81619457  2.17076307  2.05528465  2.02646894  2.00906217]]\n",
        "expectation of tau: 1.01907550037\n",
        "\n",
        "\n",
        "\n",
        "means of mu:"
       ]
      },
      {
       "output_type": "stream",
       "stream": "stdout",
       "text": [
        " [[ 1.88265136  1.81619618  2.17076317  2.05528345  2.02646952  2.00906659]]\n",
        "expectation of tau: 1.03939003881\n",
        "\n",
        "\n",
        "\n",
        "230"
       ]
      },
      {
       "output_type": "stream",
       "stream": "stdout",
       "text": [
        " means of mu: [[ 1.88264929  1.81619483  2.17075986  2.05528611  2.02646758  2.00906467]]\n",
        "expectation of tau: 1.01266010236\n",
        "\n",
        "\n",
        "\n",
        "means of mu:"
       ]
      },
      {
       "output_type": "stream",
       "stream": "stdout",
       "text": [
        " [[ 1.88264847  1.81619123  2.17076517  2.05527666  2.02646681  2.0090664 ]]\n",
        "expectation of tau: 0.962922157961\n",
        "\n",
        "\n",
        "\n",
        "240"
       ]
      },
      {
       "output_type": "stream",
       "stream": "stdout",
       "text": [
        " means of mu: [[ 1.88264914  1.81619161  2.17076226  2.05528252  2.0264669   2.00905872]]\n",
        "expectation of tau: 0.964623285547\n",
        "\n",
        "\n",
        "\n",
        "means of mu:"
       ]
      },
      {
       "output_type": "stream",
       "stream": "stdout",
       "text": [
        " [[ 1.88265182  1.81619497  2.17076534  2.05528178  2.02646979  2.00906447]]\n",
        "expectation of tau: 1.02760392718\n",
        "\n",
        "\n",
        "\n",
        "250"
       ]
      },
      {
       "output_type": "stream",
       "stream": "stdout",
       "text": [
        " means of mu: [[ 1.88265078  1.81619548  2.17076164  2.05528574  2.02646884  2.00906368]]\n",
        "expectation of tau: 1.02825932768\n",
        "\n",
        "\n",
        "\n",
        "means of mu:"
       ]
      },
      {
       "output_type": "stream",
       "stream": "stdout",
       "text": [
        " [[ 1.88264998  1.81619387  2.17076446  2.05528031  2.02646833  2.00906732]]\n",
        "expectation of tau: 1.00670376786\n",
        "\n",
        "\n",
        "\n",
        "260"
       ]
      },
      {
       "output_type": "stream",
       "stream": "stdout",
       "text": [
        " means of mu: [[ 1.88264721  1.81619025  2.17075991  2.05528202  2.02646504  2.00905814]]\n",
        "expectation of tau: 0.933509424741\n",
        "\n",
        "\n",
        "\n",
        "means of mu:"
       ]
      },
      {
       "output_type": "stream",
       "stream": "stdout",
       "text": [
        " [[ 1.88265115  1.81619302  2.17076674  2.05527937  2.02646909  2.00906343]]\n",
        "expectation of tau: 1.00053343419\n",
        "\n",
        "\n",
        "\n",
        "270"
       ]
      },
      {
       "output_type": "stream",
       "stream": "stdout",
       "text": [
        " means of mu: [[ 1.88265126  1.81619494  2.17076299  2.05528505  2.02646917  2.00906221]]\n",
        "expectation of tau: 1.02499027596\n",
        "\n",
        "\n",
        "\n",
        "means of mu:"
       ]
      },
      {
       "output_type": "stream",
       "stream": "stdout",
       "text": [
        " [[ 1.88265098  1.81619503  2.17076433  2.05528193  2.02646919  2.00906655]]\n",
        "expectation of tau: 1.02608112305\n",
        "\n",
        "\n",
        "\n",
        "280"
       ]
      },
      {
       "output_type": "stream",
       "stream": "stdout",
       "text": [
        " means of mu: [[ 1.88264793  1.81619186  2.17075991  2.05528385  2.02646596  2.00906051]]\n",
        "expectation of tau: 0.962351077171\n",
        "\n",
        "\n",
        "\n",
        "means of mu:"
       ]
      },
      {
       "output_type": "stream",
       "stream": "stdout",
       "text": [
        " [[ 1.88264978  1.81619118  2.17076685  2.05527709  2.02646781  2.00906349]]\n",
        "expectation of tau: 0.970370718664\n",
        "\n",
        "\n",
        "\n",
        "290"
       ]
      },
      {
       "output_type": "stream",
       "stream": "stdout",
       "text": [
        " means of mu: [[ 1.88265091  1.81619371  2.1707636   2.05528435  2.02646875  2.00906062]]\n",
        "expectation of tau: 1.00882208603\n",
        "\n",
        "\n",
        "\n",
        "means of mu:"
       ]
      },
      {
       "output_type": "stream",
       "stream": "stdout",
       "text": [
        " [[ 1.88265145  1.81619504  2.17076487  2.05528214  2.02646955  2.00906548]]\n",
        "expectation of tau: 1.02926825935\n",
        "\n",
        "\n",
        "\n",
        "\n",
        " w final:\n"
       ]
      },
      {
       "output_type": "stream",
       "stream": "stdout",
       "text": [
        "[[ 0.28986226  1.29124369 -1.44814859 -0.65797058  0.12732961  0.46348939]\n",
        " [-0.48889238  0.18585172 -0.93202138  0.42261471 -0.35917254  1.0646298 ]\n",
        " [ 1.07427481  1.56458712 -0.80423426 -1.43379881  0.66459784 -0.87081864]\n",
        " [-0.10397397 -1.44586126  1.99077099  0.39006608  0.02224463 -0.7941683 ]\n",
        " [ 0.2339036   0.91525466 -0.99177684 -0.48623204  0.11001814  0.26667014]\n",
        " [-0.96577744 -2.14214926  1.66861299  1.70400994 -0.56457847 -0.0052377 ]]\n"
       ]
      }
     ],
     "prompt_number": 3
    },
    {
     "cell_type": "code",
     "collapsed": false,
     "input": [],
     "language": "python",
     "metadata": {},
     "outputs": [],
     "prompt_number": 2
    },
    {
     "cell_type": "code",
     "collapsed": false,
     "input": [
      "a = [[ 0.00339594,  0.0117771,  -0.01315114, -0.00609362,  0.00133929,  0.00365245],\n",
      " [ 0.00074487,  0.00258319, -0.00288457, -0.00133657,  0.00029376,  0.00080113],\n",
      " [ 0.00325301,  0.01128141, -0.01259761, -0.00583714,  0.00128292,  0.00349872],\n",
      " [-0.00357125, -0.01238505,  0.01383002,  0.00640818, -0.00140842, -0.003841  ],\n",
      " [ 0.0023858,  0.00827394, -0.00923927, -0.00428104,  0.00094091,  0.00256601],\n",
      " [-0.0053734,  -0.01863493,  0.02080907,  0.00964195, -0.00211916, -0.00577928]]\n",
      "print a"
     ],
     "language": "python",
     "metadata": {},
     "outputs": [
      {
       "output_type": "stream",
       "stream": "stdout",
       "text": [
        "[[0.00339594, 0.0117771, -0.01315114, -0.00609362, 0.00133929, 0.00365245], [0.00074487, 0.00258319, -0.00288457, -0.00133657, 0.00029376, 0.00080113], [0.00325301, 0.01128141, -0.01259761, -0.00583714, 0.00128292, 0.00349872], [-0.00357125, -0.01238505, 0.01383002, 0.00640818, -0.00140842, -0.003841], [0.0023858, 0.00827394, -0.00923927, -0.00428104, 0.00094091, 0.00256601], [-0.0053734, -0.01863493, 0.02080907, 0.00964195, -0.00211916, -0.00577928]]\n"
       ]
      }
     ],
     "prompt_number": 68
    },
    {
     "cell_type": "code",
     "collapsed": false,
     "input": [
      "import pylab as pl\n",
      "\n",
      "def _blob(x,y,area,colour):\n",
      "    \"\"\"\n",
      "    Source: http://wiki.scipy.org/Cookbook/Matplotlib/HintonDiagrams\n",
      "    Draws a square-shaped blob with the given area (< 1) at\n",
      "    the given coordinates.\n",
      "    \"\"\"\n",
      "    hs = np.sqrt(area) / 2\n",
      "    xcorners = np.array([x - hs, x + hs, x + hs, x - hs])\n",
      "    ycorners = np.array([y - hs, y - hs, y + hs, y + hs])\n",
      "    pl.fill(xcorners, ycorners, colour, edgecolor=colour)\n",
      "    \n",
      "def hinton(W, maxWeight=None):\n",
      "    \"\"\"\n",
      "    Source: http://wiki.scipy.org/Cookbook/Matplotlib/HintonDiagrams\n",
      "    Draws a Hinton diagram for visualizing a weight matrix.\n",
      "    Temporarily disables matplotlib interactive mode if it is on,\n",
      "    otherwise this takes forever.\n",
      "    \"\"\"\n",
      "    reenable = False\n",
      "    if pl.isinteractive():\n",
      "        pl.ioff()\n",
      "    pl.clf()\n",
      "    height, width = W.shape\n",
      "    if not maxWeight:\n",
      "        maxWeight = 2**np.ceil(np.log(np.max(np.abs(W)))/np.log(2))\n",
      "\n",
      "    pl.fill(np.array([0,width,width,0]),np.array([0,0,height,height]),'gray')\n",
      "    pl.axis('off')\n",
      "    pl.axis('equal')\n",
      "    for x in xrange(width):\n",
      "        for y in xrange(height):\n",
      "            _x = x+1\n",
      "            _y = y+1\n",
      "            w = W[y,x]\n",
      "            if w > 0:\n",
      "                _blob(_x - 0.5, height - _y + 0.5, min(1,w/maxWeight),'white')\n",
      "            elif w < 0:\n",
      "                _blob(_x - 0.5, height - _y + 0.5, min(1,-w/maxWeight),'black')\n",
      "    if reenable:\n",
      "        pl.ion()\n",
      "    pl.show()\n"
     ],
     "language": "python",
     "metadata": {},
     "outputs": [],
     "prompt_number": 12
    },
    {
     "cell_type": "code",
     "collapsed": false,
     "input": [
      "a = [[ 0.00339594,  0.0117771,  -0.01315114, -0.00609362,  0.00133929,  0.00365245],\n",
      " [ 0.00074487,  0.00258319, -0.00288457, -0.00133657,  0.00029376,  0.00080113],\n",
      " [ 0.00325301,  0.01128141, -0.01259761, -0.00583714,  0.00128292,  0.00349872],\n",
      " [-0.00357125, -0.01238505,  0.01383002,  0.00640818, -0.00140842, -0.003841  ],\n",
      " [ 0.0023858,  0.00827394, -0.00923927, -0.00428104,  0.00094091,  0.00256601],\n",
      " [-0.0053734,  -0.01863493,  0.02080907,  0.00964195, -0.00211916, -0.00577928]]\n",
      "a2 = np.array(a)\n",
      "hinton(bay_pca.means_w)"
     ],
     "language": "python",
     "metadata": {},
     "outputs": [
      {
       "metadata": {},
       "output_type": "display_data",
       "png": "[encoded data removed]",
       "text": [
        "<matplotlib.figure.Figure at 0x3eac610>"
       ]
      }
     ],
     "prompt_number": 13
    },
    {
     "cell_type": "code",
     "collapsed": false,
     "input": [
      "from IPython.display import display, Math, Latex"
     ],
     "language": "python",
     "metadata": {},
     "outputs": [],
     "prompt_number": 21
    },
    {
     "cell_type": "markdown",
     "metadata": {},
     "source": [
      "### 1. The Q-distribution (5 points)\n",
      "\n",
      "In variational Bayes, we introduce a distribution $Q(\\Theta)$ over parameters / latent variables in order to make inference tractable. We can think of $Q$ as being an approximation of a certain distribution. What function does $Q$ approximate, $p(D|\\Theta)$, $p(\\Theta|D)$, $p(D, \\Theta)$, $p(\\Theta)$, or $p(D)$, and how do you see that?"
     ]
    },
    {
     "cell_type": "markdown",
     "metadata": {},
     "source": [
      "The function $Q$ approximates the function that is the posterior distribution, $p(\\Theta | D) $.\n",
      "\n",
      "The posterior $P(\\Theta | D)$ is given by multiplying the likelihood by the prior and then normalizing:\n",
      "\n",
      "\\begin{align}\n",
      "P(\\Theta | D) &= \\dfrac{P(D | \\Theta)P( \\Theta)}{P(D)} \\\\\n",
      "              &= \\dfrac{P(D | \\Theta)P( \\Theta)}{\\int P(D | \\Theta)P(\\Theta) \\hspace{1mm} d\\Theta}\n",
      "\\end{align}\n",
      "\n",
      "Why is this useful? \n",
      "For Maximum a Posteriori (MAP) learning, we could use the posterior to get a point estimate of the parameters:\n",
      "\n",
      "\\begin{align}\n",
      "\\widetilde{\\Theta}_{\\text{MAP}}(D)&= \\arg\\max_{\\Theta} P(\\Theta | D) \\\\\n",
      "            & \\propto {P(D | \\Theta)P( \\Theta)}\n",
      "\\end{align}\n",
      "\n",
      "So for MAP learning the normalization (and therefore integration) is not needed. Like Maximum likelihood estimation (MLE) learning, MAP learning learns a point estimate of our parameters.\n",
      "\n",
      "In the Bayesian framework no fixed parameter setting is chosen. The posterior is used to obtain a predictive density (also called the posterior predictive distribution) for a new data point $t^{*}$ with:\n",
      "\n",
      "\\begin{align}\n",
      "P(t^{*} | D) &= \\int P(t^{*} | \\Theta) P(\\Theta | D) \\hspace{2mm} d\\Theta\n",
      "\\end{align}\n",
      "\n",
      "This means that in the Bayesian learning framework we consider all possible parametrizations of our models by incorporating the posterior this way. Each of these is weighted by the evidence for them in $D$.\n",
      "(Note that when predicting, we also return a probability distribution as prediction for $t^{*}$. \n",
      "Retaining all possible parametrizations is in this case of Principal Component Analysis) particularly advantageous for automatically determining an adequate number of principal components given $D$.\n",
      "\n",
      "Note that we need to integrate over all possible parametrizations for this. In practice this can quickly become infeasible for models with many parameters; when using a mixture of models; or when the prior distribution is not of the same functional form as the likelihood distribution. Therefore we use a ''simpler'' distribution $Q(\\Theta)$ to approximate $P(\\Theta|D)$. \n"
     ]
    },
    {
     "cell_type": "markdown",
     "metadata": {},
     "source": [
      "### 2. The mean-field approximation (15 points)\n",
      "\n",
      "Equation 13 from [Bishop99] is a very powerful result: assuming only that $Q(\\Theta)$ factorizes in a certain way (no assumptions on the functional form of the factors $Q_i$!), we get a set of coupled equations for the $Q_i$.\n",
      "\n",
      "However, the expression given in eq. 13 for Q_i contains a small mistake. Starting with the expression for the lower bound $\\mathcal{L}(Q)$, derive the correct expression (and include your derivation). You can proceed as follows: first, substitute the factorization of $Q$ (eq. 12) into the definition of $\\mathcal{L}(Q)$ and separate $\\mathcal{L}(Q)$ into $Q_i$-dependent and $Q_i$-independent terms. At this point, you should be able to spot the expectations $\\langle\\cdot\\rangle_{k \\neq i}$ over the other $Q$-distributions that appear in Bishop's solution (eq. 13). Now, keeping all $Q_k, k \\neq i$ fixed, maximize the expression with respect to $Q_i$. You should be able to spot the form of the optimal $ln Q_i$, from which $Q_i$ can easily be obtained."
     ]
    },
    {
     "cell_type": "markdown",
     "metadata": {},
     "source": [
      "It is given that the lower bound is \n",
      "\n",
      "$$\n",
      "\\begin{align}\n",
      "\\mathcal{L}(Q) =& \\int Q(\\Theta) \\log \\dfrac{P(D, \\Theta)}{Q(\\Theta)}\n",
      "                \\hspace{3mm} d \\Theta  \\\\\n",
      "\\end{align} \n",
      "$$\n",
      "\n",
      "And the factorization is\n",
      "\n",
      "\\begin{equation}\n",
      "Q(\\Theta)= \\prod_{k} Q_k(\\Theta_k)\n",
      "\\end{equation}\n",
      "\n",
      "Plugging in the factorization into the lower bound, we get\n",
      "\n",
      "\\begin{align}                \n",
      "\\mathcal{L}(Q) =&  \\int \n",
      "                     \\prod_{k} Q_k( \\Theta_k) \n",
      "                     \\left[\n",
      "                         \\log P(D,\\Theta) - \\log \\left( \\prod_k Q_k(\\Theta_k) \\right)\n",
      "                     \\right]\n",
      "                 \\hspace{3mm} d \\Theta  \\\\\n",
      "              =& \\int\n",
      "              \\prod_{k} Q_k( \\Theta_k) \n",
      "                     \\left[\n",
      "                         \\log P(D,\\Theta) - \\sum_k \\log Q_k(\\Theta_k)\n",
      "                     \\right]\n",
      "                  \\hspace{3mm} d \\Theta\n",
      "\\end{align}  \n",
      "\n",
      "By denoting a specific factor $Q_i$ separately we arrive at\n",
      "\n",
      "\\begin{align}\n",
      "\\mathcal{L}(Q) =& \\int Q_i( \\Theta_i) \\prod_{k \\neq i} Q_k( \\Theta_k) \n",
      "                \\left[ \\log P(D, \\Theta) - \\log \\left( \\prod_{j \\neq i}  Q_j(\\Theta_j) \\right) - \\log Q_i (\\Theta_i) \\right] \n",
      "                \\hspace{3mm} d \\Theta  \n",
      "\\end{align}                \n",
      "\n",
      "By taking the integral of $Q_i$ apart from those for $\\{Q_1, \\dots ,Q_{i-1},Q_{i+1}, \\dots ,Q_M \\}$, we get\n",
      "\n",
      "\\begin{align}\n",
      "\\mathcal{L}(Q) =& \n",
      "    \\int Q_i(\\Theta_i) \n",
      "        \\left[ \n",
      "            \\int  \\prod_{k \\neq i} Q_k( \\Theta_k) \\log P(D, \\Theta) \n",
      "            \\hspace{3mm} d \\Theta_{\\setminus i}\n",
      "        \\right]\n",
      "        \\hspace{3mm} d \\Theta_{i} \\hspace{3mm} -\\\\\n",
      "& \n",
      "    \\int Q_i(\\Theta_i) \n",
      "    \\left[ \n",
      "            \\int  \\prod_{k \\neq i} Q_k( \\Theta_k) \n",
      "            \\log \\left( \\prod_{j \\neq i} Q_j(\\Theta_j) \\right)\n",
      "            \\hspace{3mm} d \\Theta_{\\setminus i}\n",
      "        \\right]\n",
      "        \\hspace{3mm} d \\Theta_{i}  \\hspace{3mm} - \\\\\n",
      "& \n",
      "    \\int Q_i(\\Theta_i) \n",
      "        \\log Q_i (\\Theta_i)\n",
      "        \\left[ \n",
      "            \\int\n",
      "             \\prod_{k \\neq i} Q_k( \\Theta_k) \n",
      "             \\hspace{3mm} d \\Theta_{\\setminus i}\n",
      "        \\right]\n",
      "        \\hspace{3mm} d \\Theta_{i} \n",
      "\\end{align}\n"
     ]
    },
    {
     "cell_type": "markdown",
     "metadata": {},
     "source": [
      "\n",
      "Now, when we keep the $Q_k \\neq Q_{i}$ fixed the following happens, the integral over $\\Theta_{\\setminus i}$  in the third row of the equation for $\\mathcal{L}(Q)$ will become 1, because all $Q_n(\\Theta_n)$ are probability distributions. \n",
      "\n",
      "\\begin{align}\n",
      "\\int Q_i(\\Theta_i) \n",
      "        \\log Q_i (\\Theta_i)\n",
      "        \\left[ \n",
      "            \\int\n",
      "             \\prod_{k \\neq i} Q_k( \\Theta_k) \n",
      "             \\hspace{3mm} d \\Theta_{\\setminus i}\n",
      "        \\right]\n",
      "        \\hspace{3mm} d \\Theta_{i} \n",
      "        =& \n",
      "    \\int Q_i(\\Theta_i) \n",
      "        \\log Q_i (\\Theta_i)\n",
      "        \\left[\n",
      "        \\prod_{k \\neq i}         \n",
      "            \\int\n",
      "              Q_k( \\Theta_k) \n",
      "             \\hspace{3mm} d \\Theta_{k}\n",
      "        \\right]        \n",
      "        \\hspace{3mm} d \\Theta_{i} \\\\\n",
      "     =&\n",
      "      \\int Q_i(\\Theta_i) \n",
      "        \\log Q_i (\\Theta_i)\n",
      "        \\left[\n",
      "        \\prod_{k \\neq i}         \n",
      "            1\n",
      "        \\right]        \n",
      "        \\hspace{3mm} d \\Theta_{i} \n",
      "\\end{align}\n",
      "\n",
      "So we can rewrite the equation as\n",
      "\n",
      "\\begin{align}       \n",
      "\\mathcal{L}(Q)  =& \n",
      "    \\int Q_i(\\Theta_i) \n",
      "        \\left[ \n",
      "            \\int  \\prod_{k \\neq i} Q_k( \\Theta_k) \\log P(D, \\Theta) \n",
      "            \\hspace{3mm} d \\Theta_{\\setminus i}\n",
      "        \\right]\n",
      "        \\hspace{3mm} d \\Theta_{i} \\hspace{3mm} -\\\\\n",
      "& \n",
      "    \\int Q_i(\\Theta_i) \n",
      "    \\left[ \n",
      "            \\int  \\prod_{k \\neq i} Q_k( \\Theta_k) \n",
      "            \\log \\left( \\prod_{j \\neq i} Q_j(\\Theta_j) \\right)\n",
      "            \\hspace{3mm} d \\Theta_{\\setminus i}\n",
      "        \\right]\n",
      "        \\hspace{3mm} d \\Theta_{i}  \\hspace{3mm} - \\\\\n",
      "& \n",
      "    \\int Q_i(\\Theta_i) \n",
      "        \\log Q_i (\\Theta_i)    \n",
      "        \\hspace{3mm} d \\Theta_{i}         \n",
      "\\end{align}\n",
      "\n",
      "\n",
      "Furthermore, when we keep the $Q_k \\neq Q_{i}$ fixed, the $\\Theta_{\\setminus i}$ integral in the second row of the equation for  $\\mathcal{L}(Q)$ will become a constant. We know that $\\int Q_i(\\Theta_i)  d\\Theta_{i}$ should be 1 because $Q_i$ is a probability distribution. So the whole second row can be viewed as a constant. \n",
      "\n",
      "\n",
      "\\begin{align}\n",
      "\\mathcal{L}(Q)  =& \n",
      "    \\int Q_i(\\Theta_i) \n",
      "        \\left[ \n",
      "            \\int  \\prod_{k \\neq i} Q_k( \\Theta_k) \\log P(D, \\Theta) \n",
      "            \\hspace{3mm} d \\Theta_{\\setminus i}\n",
      "        \\right]\n",
      "        \\hspace{3mm} d \\Theta_{i} \\hspace{3mm} -\\\\\n",
      "& \n",
      "    \\int Q_i(\\Theta_i) \n",
      "        \\log Q_i (\\Theta_i)    \n",
      "        \\hspace{3mm} d \\Theta_{i}  \\hspace{1mm} + \\text{const}        \n",
      "\\end{align}\n"
     ]
    },
    {
     "cell_type": "markdown",
     "metadata": {},
     "source": [
      "Note that the integral over $\\Theta_{\\setminus i}$  in the  first line in $\\mathcal{L}(Q)$ could be rewritten as an expectation :\n",
      "\n",
      "\\begin{align}\n",
      "\\mathcal{L}(Q)  =& \n",
      "    \\int Q_i(\\Theta_i) \\cdot\n",
      "        \\mathbb{E}_{[k \\neq i]}[ \\log P(D, \\Theta)]\n",
      "        \\hspace{3mm} d \\Theta_{i} \\hspace{3mm} -\\\\\n",
      "& \n",
      "    \\int Q_i(\\Theta_i) \n",
      "        \\log Q_i (\\Theta_i)    \n",
      "        \\hspace{3mm} d \\Theta_{i}  \\hspace{1mm} + \\text{const}        \n",
      "\\end{align}\n",
      "\n",
      "Where $\\mathbb{E}_{[k \\neq i]}$ denotes this expected value is with respect to the $Q$ distributions over all variables $\\Theta_k \\neq \\Theta_i$.\n",
      "\n",
      "\n",
      "We can define $\\mathbb{E}_{[k \\neq i]}[ \\log P(D, \\Theta)]$ as $\\log \\widetilde{P}(D, \\Theta_i)$.\n",
      "\n",
      "Intuitively it makes sense to see  $\\log \\widetilde{P}(D, \\Theta_i)$, the joint probability of that parameter and the data, as the expectation of $\\log P(D, \\Theta)$ under all $\\Theta_k$ that are not $\\Theta_i$ , i.e., to not marginalize out  $\\Theta_i$ in $\\log P(D, \\Theta)$.\n",
      "It is here particularly useful to be able to rewrite the above equation as:\n",
      "\n",
      "\\begin{align}\n",
      "\\mathcal{L}(Q)  =&  \\int Q_i(\\Theta_i) \\log \\widetilde{P}(D, \\Theta_i) -  \\int Q_i(\\Theta_i) \\log Q_i(\\Theta_i) \\\\\n",
      "                =& \\int Q_i(\\Theta_i) \\log \\dfrac{\\widetilde{P}(D , \\Theta_i)}{ Q_i(\\Theta_i)} \\\\\n",
      "                =& - \\text{KL} \\left(Q_i(\\Theta_i) || \\widetilde{P}(D, \\Theta_i) \\right)\n",
      "\\end{align}\n",
      "\n",
      "Recall we wanted to maximize the lower bound function $\\mathcal{L}(Q)$. We see that this negative KL-divergence will be maximal when \n",
      "\n",
      "\\begin{align}\n",
      " Q_i(\\Theta_i) &= \\widetilde{P}(D, \\Theta_i)  \\\\  \n",
      " \\log  Q_i(\\Theta_i) &= \\log \\widetilde{P}(D, \\Theta_i)  \\\\\n",
      "                     &= \\mathbb{E}_{[k \\neq i]}[\\log P(D, \\Theta)]\\\\\n",
      " Q_i(\\Theta_i)      &= \\exp \\left( \\mathbb{E}_{[k \\neq i]} [\\log P(D, \\Theta)] \\right)    \n",
      "\\end{align}\n",
      "\n",
      "So in line with Bishop (except a subscript mismatch on his side), accounting for normalization (marginalizing over all $\\Theta_{\\setminus i}$) we get that the optimal value for $Q_i$ is \n",
      "\n",
      "\\begin{align}\n",
      " Q_i^{*}(\\Theta_i)      &= \\dfrac{\\exp ( \\mathbb{E}_{[k \\neq i]} [\\log P(D, \\Theta)] )   }\n",
      "                      {\\int \\exp ( \\mathbb{E}_{[k \\neq i]} [\\log P(D, \\Theta)] ) \\hspace{2mm} d\\Theta_i  }\n",
      "\\end{align}\n",
      "\n"
     ]
    },
    {
     "cell_type": "markdown",
     "metadata": {},
     "source": [
      "### 3. The log-probability (10 points)\n",
      "\n",
      "Write down the log-prob of data and parameters, $\\ln p(\\mathbf{X}, \\mathbf{Z}, \\mathbf{W}, \\mathbf{\\alpha}, \\tau, \\mathbf{\\mu})$, in full detail (where $\\mathbf{X}$ are observed, $\\mathbf{Z}$ is latent; this is different from [Bishop99] who uses $\\mathbf{T}$ and $\\mathbf{X}$ respectively, but $\\mathbf{X}$ and $\\mathbf{Z}$ are consistent with the PRML book and are more common nowadays). Could we use this to assess the convergence of the variational Bayesian PCA algorithm? If yes, how? If no, why not?"
     ]
    },
    {
     "cell_type": "markdown",
     "metadata": {},
     "source": [
      "The log-probability of the data and parameters is defined as:\n",
      "$$\n",
      "\\begin{align}\n",
      "\\ln p ( X, Z, W, \\alpha, \\tau, \\mu) =& \n",
      "\\ln \\left(  \\prod_{n=1}^N p(x_n| z_n, W, \\mu, \\tau)p(Z)p(W|\\alpha)p(\\alpha)p(\\mu)p(\\tau) \\right) \\\\\n",
      "=& \\ln \\left( \\prod_{n=1}^N \\left[ \\left( \\frac{\\tau}{2 \\pi} \\right) ^{D/2} \\exp \\left( - \\frac{\\tau}{2} \\parallel x_t-Wz_n-\\mu \\parallel ^2  \\right) \\right]\n",
      "\\prod_{n=1}^N \\left[  \\left( \\frac{1}{2 \\pi} \\right)^{q/2} \\exp \\left( - \\frac{1}{2} z_n^\\top z_n \\right) \\right] \\\\\n",
      "\\prod_{i=1}^q \\left[ \\left( \\frac{\\alpha_i}{2 \\pi} \\right)^{D/2} \\exp \\left( -\\frac{\\alpha_i}{2}  w_i^\\top w_i \\right) \\right]\n",
      "\\prod_{i=1}^q \\left[ \\frac{1}{\\Gamma(a_\\alpha)} b_\\alpha^{a_\\alpha} \\alpha_i^{a_\\alpha-1} e^{-b_\\alpha \\: \\alpha_i} \\right]\\\\ \n",
      "\\left[ \\left(\\frac{ \\beta}{2\\pi} \\right)^{D/2} \\exp \\left( - \\frac{\\beta}{2} \\mu^\\top \\mu \\right) \\right]\n",
      "\\left[ \\frac{1}{\\Gamma(c_\\tau)} d_\\tau^{c_\\tau} \\tau^{c_\\tau-1} e^{-d_\\tau \\: \\tau} \\right] \\right) \n",
      "\\\\\n",
      "=& \\frac{ND}{2} \\ln \\frac{\\tau}{2 \\pi} + \\sum_{n=1}^N \\left[ - \\frac{\\tau}{2} \\parallel x_n-Wz_n-\\mu \\parallel ^2 \\right]\n",
      "+ \\frac{Nq}{2} \\ln \\frac{1}{2 \\pi} + \\sum_{n=1}^N \\left[ - \\frac{1}{2} z_n^\\top z_n \\right] \\\\\n",
      "&+ \\sum_{i=1}^q \\left[ \\frac{D}{2} \\ln \\frac{\\alpha_i}{2 \\pi} \\right] + \\sum_{i=1}^q \\left[ - \\frac{\\alpha_i}{2} w_i^\\top w_i \\right]\n",
      "+ \\: q \\ln \\frac{ b_\\alpha^{a_\\alpha}}{\\Gamma(a_\\alpha)} + \\sum_{i=1}^q \\left[ (a_\\alpha -1) \\ln \\alpha_i - b_\\alpha \\alpha_i \\right] \\\\\n",
      "&+ \\frac{D}{2} \\ln \\frac{\\beta}{2 \\pi} - \\frac{\\beta}{2} \\mu^\\top\\mu - \\ln \\Gamma(c_\\tau) + \\ln d_\\tau^{c_\\tau} + (c_\\tau-1)\\ln \\tau - d_\\tau \\tau\n",
      "\\end{align}\n",
      "$$"
     ]
    },
    {
     "cell_type": "markdown",
     "metadata": {},
     "source": [
      "Bayesian learning results in a posterior distribution over the parameters. If we wish to use $\\ln P(\\Theta,D)$ to assess convergence we have no choice but to use some point estimate of the parameters from the approximated posterior $Q$ to evaluate  $\\ln P(\\Theta,D)$ (we cannot plug in the distribution). However, we consider convergence as $Q$ being as similar to the real posterior $P(\\Theta|D)$ as possible. There is no guarantee that if $Q$ becomes more similar to $P(\\Theta|D)$, that the used point estimate of $Q$ results in a higher value when evaluating $\\ln P(\\Theta,D)$. Therefore $\\ln P(\\Theta,D)$ is not a suitable option to assess convergence."
     ]
    },
    {
     "cell_type": "markdown",
     "metadata": {},
     "source": [
      "### 4. The lower bound $\\mathcal{L}(Q)$ (25 points)\n",
      "\n",
      "Derive an expression for the lower bound $\\mathcal{L}(Q)$ of the log-prob $\\ln p(X)$ for Bayesian PCA, making use of the factorization (eq. 12) and the form of the Q-distributions (eq. 16-20) as listed in [Bishop99]. Show your steps. Implement this function.\n",
      "\n",
      "The following result may be useful:\n",
      "\n",
      "For $x \\sim \\Gamma(a,b)$, we have $\\langle \\ln x\\rangle = \\ln b + \\psi(a)$, where $\\psi(a) = \\frac{\\Gamma'(a)}{\\Gamma(a)}$ is the digamma function (which is implemented in numpy.special)."
     ]
    },
    {
     "cell_type": "markdown",
     "metadata": {},
     "source": [
      "\\begin{align}\n",
      "\\mathcal{L}(Q) =& \\int Q(\\Theta) \\ln \\dfrac{P(D,\\Theta)}{Q(\\Theta)} \\hspace{2mm} d \\Theta\\\\\n",
      "                =& \\int Q(\\Theta) \\ln P(D,\\Theta) \\hspace{2mm} d \\Theta  - \\int Q(\\Theta) \\ln Q(\\Theta)  \\hspace{2mm} d \\Theta\\\\\n",
      "                =& \\mathbb{E}_Q[ \\ln P(D,\\Theta)] - \\mathbb{E}_q[\\ln Q(\\Theta)]\\\\\n",
      "               =& \\mathbb{E}_Q \\left[ \\ln \\left( \\prod_{n=1}^{N} \\mathcal{N} (x_n | m_x^{(n)} \\Sigma_x) \\right) \\right] \n",
      "                + \\mathbb{E}_Q \\left[ \\ln P(X) \\right ] + \\mathbb{E}_Q \\left[\\ln  P(W | \\alpha ) \\right] \n",
      "                + \\mathbb{E}_Q \\left[ \\ln P(\\alpha) \\right] + \\mathbb{E}_Q \\left[ \\ln P(\\mu) \\right] \n",
      "                + \\mathbb{E}_Q \\left[ \\ln P(\\tau) \\right] \\\\\n",
      "                & - \\mathbb{E}_Q \\left[ \\ln Q(X) \\right] - \\mathbb{E}_Q \\left[ \\ln Q(W) \\right] - \\mathbb{E}_Q \\left[ Q(\\alpha) \\right] - \\mathbb{E}_Q \\left[ \\ln Q(\\mu) \\right] - \\mathbb{E}_Q \\left[ \\ln \\left( Q(\\tau) \\right) \\right]\\\\\n",
      "                =& \\mathbb{E}_Q \\left[ \\ln \\left( \\prod_{n=1}^{N} \\mathcal{N}({t}|{W} {x}_i + \\mu , \\sigma^2 I_d) \\right) \\right] \\\\\n",
      "                & + \\mathbb{E}_Q \\left[ \\ln \\left( \\prod_{n=1}^{N} \\mathcal{N}(x|0, I_q) \\right) \\right]              \\\\\n",
      "                & + \\mathbb{E}_Q \\left[ \\ln \\left( \\prod_{i=1}^{q} (\\dfrac{\\alpha_i}{2 \\pi})^{d/2}  \\exp( - \\dfrac{1}{2} \\alpha_i ||w_i||^2 ) \\right) \\right] \\\\\n",
      "                & + \\mathbb{E}_Q \\left[ \\ln \\left( \\prod_{i=1}^{q} \\Gamma ( \\alpha_i| a_{\\alpha}, b_{\\alpha}) \\right) \\right] \\\\\n",
      "                & + \\mathbb{E}_Q \\left[ \\ln \\left( \\mathcal{N}(\\mu|0, \\beta^{-1} I) \\right) \\right] \\\\\n",
      "                & + \\mathbb{E}_Q \\left[ \\ln \\left( \\Gamma(\\tau|c_\\tau, d_\\tau ) \\right) \\right] \\\\\n",
      "                & - \\mathbb{E}_Q \\left[ \\ln \\left( \\prod_{n=1}^{N} \\mathcal{N}(x_n| m_x^{(n)}, \\Sigma_x) \\right) \\right] \\\\\n",
      "                & - \\mathbb{E}_Q \\left[ \\ln \\left( \\prod_{k=1}^{d}  \\mathcal{N}(\\widetilde{w}_k | m_w^{(k)}, \\Sigma_w) \\right) \\right] \\\\\n",
      "                & - \\mathbb{E}_Q \\left[ \\ln \\left( \\prod_{i=1}^{q} \\Gamma(\\alpha_i| \\widetilde{a}_\\alpha, \\widetilde{b}_{\\alpha i} ) \\right) \\right] \\\\\n",
      "                & - \\mathbb{E}_Q \\left[ \\ln \\left( \\mathcal{N}(\\mu | m_\\mu, \\Sigma_\\mu) \\right) \\right] \\\\\n",
      "                & - \\mathbb{E}_Q \\left[ \\ln \\left( \\Gamma(\\tau | \\widetilde{a}_\\tau, \\widetilde{b}_\\tau ) \\right) \\right]\n",
      "\\end{align}"
     ]
    },
    {
     "cell_type": "markdown",
     "metadata": {},
     "source": [
      "### 5. Optimize variational parameters (50 points)\n",
      "Implement the update equations for the Q-distributions, in the __update_XXX methods. Each update function should re-estimate the variational parameters of the Q-distribution corresponding to one group of variables (i.e. either $Z$, $\\mu$, $W$, $\\alpha$ or $\\tau$)."
     ]
    },
    {
     "cell_type": "markdown",
     "metadata": {},
     "source": [
      "### 6. Learning algorithm (10 points)\n",
      "Implement the learning algorithm described in [Bishop99], i.e. iteratively optimize each of the Q-distributions holding the others fixed.\n",
      "\n",
      "What would be a good way to track convergence of the algorithm? Implement your suggestion.\n",
      "\n",
      "Test the algorithm on some test data drawn from a Gaussian with different variances in orthogonal directions. "
     ]
    },
    {
     "cell_type": "code",
     "collapsed": false,
     "input": [],
     "language": "python",
     "metadata": {},
     "outputs": [],
     "prompt_number": 22
    },
    {
     "cell_type": "markdown",
     "metadata": {},
     "source": [
      "We created a set of orthonormal basis vectors by using Matlab code from <a href=\"http://www.mathworks.com/matlabcentral/fileexchange/18973-create-orthonormal-vectors\">[Price 2008]</a>."
     ]
    },
    {
     "cell_type": "code",
     "collapsed": false,
     "input": [
      "# matrix with orthonormal vectors\n",
      "A = np.array([ [0.4246,-0.1753,-0.1466,-0.0956,0.7864,0.3741]\n",
      "                ,[0.5199,0.3483,0.2280,-0.4751,-0.4102,0.4031]\n",
      "                ,[-0.2212,-0.7183,-0.2838,-0.2656,-0.3263,0.4213]\n",
      "                ,[-0.5600,0.0724,0.6716,-0.1030,0.2397,0.4025]\n",
      "                ,[0.2692,-0.1393,0.2114,0.8147,-0.2223,0.3876]\n",
      "                ,[-0.3382,0.5544,-0.5918,0.1422,-0.0037,0.4558]])\n",
      "\n",
      "# eigenvalues on a diagonal matrix representing the magnitude of the variance\n",
      "L = np.diag( [7,6,5,4,1,1])\n",
      "\n",
      "# Covariance matrix generated based on A and L\n",
      "covariance = np.dot(np.dot(A, L) , A.T)\n",
      "means = [2,2,2,2,2,2]\n",
      "\n",
      "dims = 6\n",
      "N = 1000\n",
      "\n",
      "data = numpy.random.multivariate_normal(means, covariance, (N)).T\n",
      "\n",
      "#print 'Plot of the first three dimensions of the data'\n",
      "#plot_data(data)\n",
      "\n",
      "bay_pca = BayesianPCA(dims,N)\n",
      "#bay_pca.fit(data, 300)"
     ],
     "language": "python",
     "metadata": {},
     "outputs": [],
     "prompt_number": 66
    },
    {
     "cell_type": "markdown",
     "metadata": {},
     "source": [
      "### 7. PCA Representation of MNIST (10 points)\n",
      "\n",
      "Download the MNIST dataset from here http://deeplearning.net/tutorial/gettingstarted.html (the page contains python code for loading the data). Run your algorithm on (part of) this dataset, and visualize the results.\n"
     ]
    },
    {
     "cell_type": "code",
     "collapsed": false,
     "input": [
      "[[ 0.80000766  1.30755976 -0.88267019 -1.17083455  0.50435965 -0.42082966]\n",
      " [ 0.41458945 -0.21586034  0.82964463 -0.35722316  0.31428741 -0.86186448]\n",
      " [ 0.40392112  1.9465247  -2.29885426 -0.94991445  0.17837612  0.7167342 ]\n",
      " [-0.92238254 -1.25569485  0.65543692  1.27811034 -0.59613912  0.65969872]\n",
      " [ 0.55752408  0.96354027 -0.69061397 -0.83020775  0.34832005 -0.25391637]\n",
      " [-1.06881083 -2.37947963  2.09326803  1.73386425 -0.63499093  0.07307601]]\n",
      "\n",
      "1. The Q-distribution (5 points)"
     ],
     "language": "python",
     "metadata": {},
     "outputs": []
    }
   ],
   "metadata": {}
  }
 ]
}