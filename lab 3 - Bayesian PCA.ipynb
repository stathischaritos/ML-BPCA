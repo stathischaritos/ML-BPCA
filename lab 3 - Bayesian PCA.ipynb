{
 "metadata": {
  "name": ""
 },
 "nbformat": 3,
 "nbformat_minor": 0,
 "worksheets": [
  {
   "cells": [
    {
     "cell_type": "markdown",
     "metadata": {},
     "source": [
      "# Lab 3: Bayesian PCA\n",
      "\n",
      "### Machine Learning: Principles and Methods, November 2013\n",
      "\n",
      "* The lab exercises should be made in groups of three people, or at least two people.\n",
      "* The deadline is Friday, 13 December, 23:59.\n",
      "* Assignment should be sent to T.S.Cohen at uva dot nl (Taco Cohen). The subject line of your email should be \"[MLPM2013] lab#_lastname1\\_lastname2\\_lastname3\". \n",
      "* Put your and your teammates' names in the body of the email\n",
      "* Attach the .IPYNB (IPython Notebook) file containing your code and answers. Naming of the file follows the same rule as the subject line. For example, if the subject line is \"[MLPM2013] lab01\\_Kingma\\_Hu\", the attached file should be \"lab01\\_Kingma\\_Hu.ipynb\". Only use underscores (\"\\_\") to connect names, otherwise the files cannot be parsed.\n",
      "\n",
      "Notes on implementation:\n",
      "\n",
      "* You should write your code and answers in an IPython Notebook: http://ipython.org/notebook.html. If you have problems, please contact us.\n",
      "* Among the first lines of your notebook should be \"%pylab inline\". This imports all required modules, and your plots will appear inline.\n",
      "* NOTE: test your code and make sure we can run your notebook / scripts!"
     ]
    },
    {
     "cell_type": "markdown",
     "metadata": {},
     "source": [
      "### Introduction\n",
      "\n",
      "In this lab assignment, we will implement a variational algorithm for Bayesian PCA. Unlike regular PCA based on maximization of retained variance or minimization of projection error (see Bishop, 12.1.1 and 12.1.2), probabilistic PCA defines a proper density model over observed and latent variables. We will work with a fully Bayesian model this time, which is to say that we will put priors on our parameters and will be interested in learning the posterior over those parameters. Bayesian methods are very elegant, but require a shift in mindset: we are no longer looking for a point estimate of the parameters (as in maximum likelihood or MAP), but for a full posterior distribution.\n",
      "\n",
      "The integrals involved in a Bayesian analysis are usually analytically intractable, so that we must resort to approximations. In this lab assignment, we will implement the variational method described in Bishop99. Chapters 10 and 12 of the PRML book contain additional material that may be useful when doing this exercise.\n",
      "\n",
      "* [Bishop99] Variational Principal Components, C. Bishop, ICANN 1999 - http://research.microsoft.com/pubs/67241/bishop-vpca-icann-99.pdf\n",
      "\n",
      "Below, you will find some code to get you started."
     ]
    },
    {
     "cell_type": "code",
     "collapsed": false,
     "input": [
      "%pylab inline\n",
      "import scipy.special as sp\n",
      "\n",
      "class BayesianPCA(object):\n",
      "    \n",
      "    def __init__(self, d, N, a_alpha=10e-3, b_alpha=10e-3, a_tau=10e-3, b_tau=10e-3, beta=10e-3):\n",
      "        \"\"\"\n",
      "        \"\"\"\n",
      "        self.d = d # number of dimensions\n",
      "        self.N = N # number of data points\n",
      "        \n",
      "        # Hyperparameters\n",
      "        self.a_alpha = a_alpha\n",
      "        self.b_alpha = b_alpha\n",
      "        self.a_tau = a_tau\n",
      "        self.b_tau = b_tau\n",
      "        self.beta = beta\n",
      "\n",
      "        # Variational parameters\n",
      "        self.means_z = np.random.randn(d, N) # called x in bishop99\n",
      "        self.sigma_z = np.random.randn(d, d)\n",
      "        self.mean_mu = np.random.randn(d, 1)\n",
      "        self.sigma_mu = np.random.randn(d, d)\n",
      "        self.means_w = np.random.randn(d, d)\n",
      "        self.sigma_w = np.random.randn(d, d)\n",
      "        self.a_alpha_tilde = np.abs(np.random.randn(1))\n",
      "        self.bs_alpha_tilde = np.abs(np.random.randn(d, 1))\n",
      "        self.a_tau_tilde = np.abs(np.random.randn(1))\n",
      "        self.b_tau_tilde = np.abs(np.random.randn(1))\n",
      "    \n",
      "    def update_z(self, X):\n",
      "        ## Calculate Mean and Covariance Matrix of latent variables.\n",
      "        self.sigma_z = np.linalg.inv(np.identity(self.d) + (self.a_tau_tilde/self.b_tau_tilde)*( np.trace(self.sigma_w) + dot(self.means_w.T,self.means_w)))\n",
      "        self.means_z = (self.a_tau_tilde/self.b_tau_tilde)*dot(dot(self.sigma_z,self.means_w.T) , (X - self.mean_mu))\n",
      "    \n",
      "    def update_mu(self,X):\n",
      "        ## Calculate Mean and Covariance Matrix of mu.\n",
      "        self.sigma_mu = np.identity(self.d) / (self.beta + self.N*(self.a_tau_tilde/self.b_tau_tilde))\n",
      "        self.mean_mu = np.reshape((self.a_tau_tilde/self.b_tau_tilde) * dot(self.sigma_mu, sum(X - dot(self.means_w,self.means_z),1)), (self.d, 1)) \n",
      "    \n",
      "    def update_w(self,X):\n",
      "        ## Calculate Mean and Covariance Matrix of W.\n",
      "        self.sigma_w = np.linalg.inv( diagflat(self.a_alpha_tilde/self.bs_alpha_tilde) + (self.a_tau_tilde/self.b_tau_tilde)*dot(self.means_z,self.means_z.T) )\n",
      "        self_means_w = dot((self.a_tau_tilde/self.b_tau_tilde)*self.sigma_w, dot(self.means_z,(X - self.mean_mu).T)).T\n",
      "        \n",
      "    def update_alpha(self):\n",
      "        ## Calculate a_alpha_tilde and bs_alpha_tilde.\n",
      "        self.a_alpha_tilde = self.a_alpha + self.d/2\n",
      "        self.bs_alpha_tilde = self.b_alpha + self.means_w.T / 2\n",
      "\n",
      "    def update_tau(self, X):\n",
      "        ## Calculate a_tau_tilde and bs_tau_tilde.\n",
      "        self.a_tau_tilde = self.a_tau + seld.N*self.d / 2\n",
      "        A = self.b_tau\n",
      "        for i in range(0,self.N):\n",
      "            A += dot(X[i],X[i]) - dot(mu.T,mu)\n",
      "            A += np.trace( dot(dot(W.T,W),dot(Z[i],Z[i])) )\n",
      "            A += 2*dot(dot(mu.T,W),Z[i])\n",
      "            A -= 2* dot(dot(X[i].T,W),Z[i]) + 2*dot(X[i].T,mu)\n",
      "        \n",
      "    return A\n",
      "\n",
      "    def L(self, X):\n",
      "        L = 0.0\n",
      "        return L\n",
      "    \n",
      "    def fit(self, X):\n",
      "        pass"
     ],
     "language": "python",
     "metadata": {},
     "outputs": [
      {
       "output_type": "stream",
       "stream": "stdout",
       "text": [
        "Populating the interactive namespace from numpy and matplotlib\n"
       ]
      }
     ],
     "prompt_number": 224
    },
    {
     "cell_type": "markdown",
     "metadata": {},
     "source": [
      "### 1. The Q-distribution (5 points)\n",
      "\n",
      "In variational Bayes, we introduce a distribution $Q(\\Theta)$ over parameters / latent variables in order to make inference tractable. We can think of $Q$ as being an approximation of a certain distribution. What function does $Q$ approximate, $p(D|\\Theta)$, $p(\\Theta|D)$, $p(D, \\Theta)$, $p(\\Theta)$, or $p(D)$, and how do you see that from the equation $\\ln p(D) = \\mathcal{L}(Q) + \\mathrm{KL}(Q||P)$?"
     ]
    },
    {
     "cell_type": "markdown",
     "metadata": {},
     "source": [
      "####Answer:\n",
      "\n",
      "The distribution $Q(\\Theta)$ is an approximation of the true posterior distribution $p(\\Theta|D)$. From the given equation we can see that the lower bound will reach $\\ln P(D)$ when the KL distance of $Q$ and  $p(\\Theta|D)$ is zero , which is true when $Q$ is equal to  $p(\\Theta|D)$.\n",
      "\n",
      "\n",
      "$$\\mathrm{KL}(Q||P) = - \\int Q(\\Theta) ln \\frac{P(\\Theta|D)}{ Q(\\Theta) } d\\Theta$$ \n",
      "\n"
     ]
    },
    {
     "cell_type": "markdown",
     "metadata": {},
     "source": [
      "### 2. The mean-field approximation (15 points)\n",
      "\n",
      "Equation 13 from [Bishop99] is a very powerful result: assuming only that $Q(\\Theta)$ factorizes in a certain way (no assumptions on the functional form of the factors $Q_i$!), we get a set of coupled equations for the $Q_i$.\n",
      "\n",
      "However, the expression given in eq. 13 for Q_i contains a small mistake. Starting with the expression for the lower bound $\\mathcal{L}(Q)$, derive the correct expression (and include your derivation). You can proceed as follows: first, substitute the factorization of $Q$ (eq. 12) into the definition of $\\mathcal{L}(Q)$ and separate $\\mathcal{L}(Q)$ into $Q_i$-dependent and $Q_i$-independent terms. At this point, you should be able to spot the expectations $\\langle\\cdot\\rangle_{k \\neq i}$ over the other $Q$-distributions that appear in Bishop's solution (eq. 13). Now, keeping all $Q_k, k \\neq i$ fixed, maximize the expression with respect to $Q_i$. You should be able to spot the form of the optimal $ln Q_i$, from which $Q_i$ can easily be obtained."
     ]
    },
    {
     "cell_type": "markdown",
     "metadata": {},
     "source": [
      "####Answer\n",
      "$$\\mathcal{L}(Q) = \\int Q(\\Theta) ln \\frac{p(D,\\Theta)}{Q(\\Theta)} d\\Theta = \\int \\prod_{k}[Q_k(\\theta_k)] ln[P(D,\\Theta)] d\\Theta -  \\int \\prod_{k}[Q_k(\\theta_k)] ln[\\prod_{j}[Q_j(\\theta_j)]] d\\Theta = $$\n",
      "\n",
      "\n",
      "$$ = \\int Q_i(\\theta_i) \\Bigg( \\int\\prod_{k\\neq i}[Q_k(\\theta_k)]ln[P(D,\\Theta)] d\\Theta_{ \\backslash i} \\Bigg) d\\theta_i -  \\int Q_i(\\theta_i) \\Bigg[ \\int \\prod_{k\\neq i}[Q_k(\\theta_k)] \\Bigg( ln[Q_i(\\theta_i)] + \\sum_{j \\neq i} ln[Q_j(\\theta_j)]\\Bigg) d\\Theta_{\\backslash i} \\Bigg]  d\\theta_i  = $$\n",
      "\n",
      "\n",
      "$$ = \\int Q_i(\\theta_i) \\langle ln[P(D,\\Theta)] \\rangle_{k\\neq i} d\\theta_i -  \\int  Q_i(\\theta_i) ln[Q_i(\\theta_i)]d\\theta_i  \\int \\prod_{k\\neq i}[Q_k(\\theta_k)] d\\Theta_{\\backslash i}  -  \\int  Q_i(\\theta_i) \\Bigg( \\int \\prod_{k\\neq i}[Q_k(\\theta_k)] \\sum_{j \\neq i}[ ln[Q_j(\\theta_j)]] d\\Theta_{\\backslash i} \\Bigg) d\\theta_i $$\n",
      "\n",
      "\n",
      "$$ = \\int Q_i(\\theta_i) \\langle ln[P(D,\\Theta)] \\rangle_{k\\neq i} d\\theta_i -  \\int  Q_i(\\theta_i) ln[Q_i(\\theta_i)]d\\theta_i  \\int \\prod_{k\\neq i}[Q_k(\\theta_k)] d\\Theta_{\\backslash i}  +  const $$\n",
      "\n",
      "\n",
      "I set\n",
      "\n",
      "$$ ln[\\tilde{p}(D,\\Theta_i)] = \\langle ln[P(D,\\Theta)] \\rangle_{k\\neq i}  + const$$\n",
      "\n",
      "-----"
     ]
    },
    {
     "cell_type": "markdown",
     "metadata": {},
     "source": [
      "$$\\mathcal{L}(Q) = \\int Q(\\Theta) ln \\frac{p(D,\\Theta)}{Q(\\Theta)} d\\Theta = \\int \\prod_{k}[Q_k(\\theta_k)] ln[P(D,\\Theta)] d\\Theta -  \\int \\prod_{k}[Q_k(\\theta_k)] ln[\\prod_{j}[Q_j(\\theta_j)]] d\\Theta = $$\n",
      "\n",
      "\n",
      "$$ = \\int Q_i(\\theta_i) \\Bigg( \\int\\prod_{k\\neq i}[Q_k(\\theta_k)]ln[P(D,\\Theta)] d\\Theta_{ \\backslash i} \\Bigg) d\\theta_i -  \\int Q_i(\\theta_i) \\Bigg[ \\int \\prod_{k\\neq i}[Q_k(\\theta_k)] \\Bigg( ln[Q_i(\\theta_i)] + \\sum_{j \\neq i} ln[Q_j(\\theta_j)]\\Bigg) d\\Theta_{\\backslash i} \\Bigg]  d\\theta_i  = $$\n",
      "\n",
      "\n",
      "$$ = \\int Q_i(\\theta_i) \\langle ln[P(D,\\Theta)] \\rangle_{k\\neq i} d\\theta_i -  \\int  Q_i(\\theta_i) ln[Q_i(\\theta_i)]d\\theta_i  \\int \\prod_{k\\neq i}[Q_k(\\theta_k)] d\\Theta_{\\backslash i}  -  \\int  Q_i(\\theta_i) \\Bigg( \\int \\prod_{k\\neq i}[Q_k(\\theta_k)] \\sum_{j \\neq i}[ ln[Q_j(\\theta_j)]] d\\Theta_{\\backslash i} \\Bigg) d\\theta_i $$\n",
      "\n",
      "\n",
      "$$ = \\int Q_i(\\theta_i) C_1  \\langle ln[P(D,\\Theta)] \\rangle_{k\\neq i} d\\theta_i -  \\int C_1 Q_i(\\theta_i) ln[Q_i(\\theta_i)]d\\theta_i  - \\int  Q_i(\\theta_i) C_1 C_2 d\\theta_i $$\n",
      "\n",
      "\n",
      "$$\\frac{\\partial \\mathcal{L}(Q)}{ \\partial\\theta_i }  = C_1 \\langle ln[P(D,\\Theta)] \\rangle_{k\\neq i} Q_i(\\theta_i) -  C_1 Q_i(\\theta_i) ln[Q_i(\\theta_i)] - C_1 C_2 Q_i(\\theta_i) = 0 $$ $$ \\rightarrow  \\langle ln[P(D,\\Theta)] \\rangle_{k\\neq i} - ln[Q_i(\\theta_i)] - C_2 = 0 $$\n",
      "\n",
      "\n",
      "\n",
      "$$\\rightarrow    Q_i(\\theta_i) = C_3 \\exp [ \\langle ln[P(D,\\Theta)] \\rangle_{k\\neq i} ]$$\n",
      "where \n",
      "$$C_3 = \\frac{1}{ \\int \\exp [ \\langle ln[P(D,\\Theta)] \\rangle_{k\\neq i} ] d\\theta_i}$$\n",
      "And after normalisation:\n",
      "$$Q_i(\\theta_i) = \\frac{\\exp [ \\langle ln[P(D,\\Theta)] \\rangle_{k\\neq i} ]}{ \\int \\exp [ \\langle ln[P(D,\\Theta)] \\rangle_{k\\neq i} ] d\\theta_i}$$\n",
      "\n"
     ]
    },
    {
     "cell_type": "markdown",
     "metadata": {},
     "source": [
      "### 3. The log-probability (10 points)\n",
      "\n",
      "Write down the log-prob of data and parameters, $\\ln p(\\mathbf{X}, \\mathbf{Z}, \\mathbf{W}, \\mathbf{\\alpha}, \\tau, \\mathbf{\\mu})$, in full detail (where $\\mathbf{X}$ are observed, $\\mathbf{Z}$ is latent; this is different from [Bishop99] who uses $\\mathbf{T}$ and $\\mathbf{X}$ respectively, but $\\mathbf{X}$ and $\\mathbf{Z}$ are consistent with the PRML book and are more common nowadays). Could we use this to assess the convergence of the variational Bayesian PCA algorithm? If yes, how? If no, why not?"
     ]
    },
    {
     "cell_type": "markdown",
     "metadata": {},
     "source": [
      "####Answer\n",
      "The log-prob of the data and parameters are given from:\n",
      "\n",
      "\n",
      "$$\\ln P(\\mathbf{X}, \\mathbf{Z}, \\mathbf{W}, \\alpha, \\tau, \\mu) = \\ln\\left(\\prod_{n=1}^N P(x_{n}|z_{n},W,\\mu,\\tau)P(Z)P(W|a)P(a)P(\\mu)P(\\tau)\\right) = $$\n",
      "\n",
      "\n",
      "$$\\ln \\left( \\prod_{n=1}^N \\left[ \\left( \\cfrac{\\tau}{2\\pi}\\right)^{d/2} \\exp \\left\\lbrace - \\cfrac{1}{2} \\tau ||x_n - W z_n - \\mu||^2\\right\\rbrace \\right] \\right. \\prod_{n=1}^N \\left[ \\left( \\cfrac{1}{2\\pi}\\right)^{q/2} \\exp \\left\\lbrace -\\cfrac{1}{2} ||z_n||^2 \\right\\rbrace \\right] \\prod_{i=1}^q \\left[ \\left( \\cfrac{\\alpha_i}{2\\pi}\\right)^{d/2} \\exp \\left\\lbrace -\\cfrac{1}{2} \\alpha_i ||\\mathbf{w}_i||^2 \\right\\rbrace \\right] \\prod_{i=1}^q \\left[ \\cfrac{b_{\\alpha}^{\\alpha_{\\alpha}} \\alpha_i^{\\alpha_{\\alpha - 1}}\\exp \\lbrace -b_{\\alpha}\\alpha_{\\alpha} \\rbrace } {\\Gamma(\\alpha_{\\alpha})} \\right] \\left(\\cfrac{\\beta}{2\\pi}\\right)^{d/2} \\exp \\left\\lbrace -\\cfrac{1}{2}\\beta ||\\mathbf{\\mu}||^2 \\right\\rbrace \\left. \\cfrac{d_{\\tau}^{c_{\\tau}} \\tau^{c_{\\tau} - 1} \\exp \\lbrace -\\tau d_{\\tau} \\rbrace }{\\Gamma(c_{\\tau})} \\right) = $$\n",
      "\n",
      "$$ = \\sum_{n=1}^{N} \\left[ \\ln\\left( \\cfrac{\\tau}{2\\pi}\\right)^{d/2} + ln  \\left( \\cfrac{1}{2\\pi}\\right)^{q/2} + \\left( - \\cfrac{1}{2} \\tau ||x_n - W z_n - \\mu||^2\\right) +  \\left( -\\cfrac{1}{2} ||z_n||^2 \\right)  \\right] + \\sum_{i=1}^{q} \\left[ ln \\left(  \\cfrac{\\alpha_i}{2\\pi}\\right)^{d/2}  + \\left\\lbrace -\\cfrac{1}{2} \\alpha_i ||\\mathbf{w}_i||^2 \\right\\rbrace + \\ln \\left(  \\left[ \\cfrac{b_{\\alpha}^{\\alpha_{\\alpha}} \\alpha_i^{\\alpha_{\\alpha - 1}}\\exp \\lbrace -b_{\\alpha}\\alpha_{\\alpha} \\rbrace } {\\Gamma(\\alpha_{\\alpha})} \\right] \\right) \\right] + \\left( -\\cfrac{1}{2}\\beta ||\\mathbf{\\mu}||^2 \\right) + \\ln \\left( \\cfrac{d_{\\tau}^{c_{\\tau}} \\tau^{c_{\\tau} - 1} \\exp \\lbrace -\\tau d_{\\tau} \\rbrace }{\\Gamma(c_{\\tau})}   \\right) = $$\n",
      "\n",
      "$$ = \\frac{Nd}{2} \\ln\\left( \\cfrac{\\tau}{2\\pi}\\right) + \\frac{Nq}{2} ln \\left( \\cfrac{1}{2\\pi}\\right) + \\sum_{n=1}^{N} \\left[ \\left( - \\cfrac{1}{2} \\tau ||x_n - W z_n - \\mu||^2\\right) +  \\left( -\\cfrac{1}{2} ||z_n||^2 \\right)  \\right] + \\sum_{i=1}^{q} \\left[ ln \\left(  \\cfrac{\\alpha_i}{2\\pi}\\right)^{d/2}  + \\left\\lbrace -\\cfrac{1}{2} \\alpha_i ||\\mathbf{w}_i||^2 \\right\\rbrace + \\ln \\left(  \\left[ \\cfrac{b_{\\alpha}^{\\alpha_{\\alpha}} \\alpha_i^{\\alpha_{\\alpha - 1}}\\exp \\lbrace -b_{\\alpha}\\alpha_{\\alpha} \\rbrace } {\\Gamma(\\alpha_{\\alpha})} \\right] \\right) \\right] + \\left( -\\cfrac{1}{2}\\beta ||\\mathbf{\\mu}||^2 \\right) + \\ln \\left( \\cfrac{d_{\\tau}^{c_{\\tau}} \\tau^{c_{\\tau} - 1} \\exp \\lbrace -\\tau d_{\\tau} \\rbrace }{\\Gamma(c_{\\tau})}   \\right)$$\n"
     ]
    },
    {
     "cell_type": "markdown",
     "metadata": {},
     "source": [
      "### 4. The lower bound $\\mathcal{L}(Q)$ (25 points)\n",
      "\n",
      "Derive an expression for the lower bound $\\mathcal{L}(Q)$ of the log-prob $\\ln p(X)$ for Bayesian PCA, making use of the factorization (eq. 12) and the form of the Q-distributions (eq. 16-20) as listed in [Bishop99]. Show your steps. Implement this function.\n",
      "\n",
      "The following result may be useful:\n",
      "\n",
      "For $x \\sim \\Gamma(a,b)$, we have $\\langle \\ln x\\rangle = \\ln b + \\psi(a)$, where $\\psi(a) = \\frac{\\Gamma'(a)}{\\Gamma(a)}$ is the digamma function (which is implemented in numpy.special)."
     ]
    },
    {
     "cell_type": "markdown",
     "metadata": {},
     "source": [
      "### 5. Optimize variational parameters (50 points)\n",
      "Implement the update equations for the Q-distributions, in the __update_XXX methods. Each update function should re-estimate the variational parameters of the Q-distribution corresponding to one group of variables (i.e. either $Z$, $\\mu$, $W$, $\\alpha$ or $\\tau$)."
     ]
    },
    {
     "cell_type": "code",
     "collapsed": false,
     "input": [
      "def N(x,mu,Sigma):\n",
      "    D = len(x)\n",
      "    return (1/np.power(2*np.pi, D/2))*np.power( np.linalg.det(Sigma) , 0.5)*np.exp( -0.5 * dot(dot((x-mu).T,Sigma),(x-mu)))\n",
      "\n",
      "def f_a_tau_tilde(a_tau , d , N):\n",
      "    return a_tau + N*d/2\n",
      "\n",
      "def f_b_tau_tilde(b_tau , mu , X, Z, W):\n",
      "    N = X.shape[0]\n",
      "    A = b_tau\n",
      "    for i in range(0,N):\n",
      "        A += dot(X[i],X[i]) - dot(mu.T,mu)\n",
      "        A += np.trace( dot(dot(W.T,W),dot(Z[i],Z[i])) )\n",
      "        A += 2*dot(dot(mu.T,W),Z[i])\n",
      "        A -= 2* dot(dot(X[i].T,W),Z[i]) + 2*dot(X[i].T,mu)\n",
      "    return A\n",
      "\n",
      "def f_b_alpha_i_tilde(b_alpha,w_i):\n",
      "    return b_alpha + dot(w_i.T,w_i)/2\n",
      "\n",
      "def f_a_alpha_tilde(a_alpha,d):\n",
      "    return a_alpha + d/2\n",
      "\n",
      "def f_Sigma_w(alpha, Z ,tau):\n",
      "    N = X.shape[0]\n",
      "    A = 0\n",
      "    for i in range(0,N):\n",
      "         A += dot(X[i],X[i].T)\n",
      "    return np.linalg.inv( diagflat(alpha) + tau*A )\n",
      "\n",
      "def f_mu_w_k(tau, Sigma_w ,mu, X , Z , k):\n",
      "    N = Z.shape[0]\n",
      "    A = 0\n",
      "    for i in range(0,N):\n",
      "        A += Z[i]*(Z[k] - mu[k])\n",
      "    return dot( tau*Sigma_w , A)\n",
      "\n",
      "def f_Sigma_mu(beta , N , tau , d):\n",
      "    return np.identity(d) /(beta + N*tau)\n",
      "\n",
      "def f_m_mu(tau, Sigma_mu , X , W , Z):\n",
      "    N = Z.shape[0]\n",
      "    A = 0\n",
      "    for i in range(0,N):\n",
      "        A += X[i] - dot(W,Z[i].T)\n",
      "    return  dot(tau * Sigma_mu , A)\n",
      "\n",
      "def f_Sigma_z(tau,W):\n",
      "    return np.linalg.inv(np.identity(W.shape[1]) + tau* dot(W.T,W))\n",
      "\n",
      "def f_mu_z_n(tau, Sigma_z ,mu, X ,W, n):\n",
      "    return tau*dot( dot(Sigma_z,W.T) , (X[n] - mu.T).T)\n",
      "    "
     ],
     "language": "python",
     "metadata": {},
     "outputs": [],
     "prompt_number": 6
    },
    {
     "cell_type": "code",
     "collapsed": false,
     "input": [
      "##Generate test data . same methods as lab 1\n",
      "def random_nonsingular_matrix(d = 2 , q = 1):\n",
      "    epsilon = 0.1\n",
      "    A = np.random.rand(d, q)\n",
      "    while abs(np.linalg.det(A)) < epsilon:\n",
      "        A = np.random.rand(d, q)\n",
      "    return A\n",
      "\n",
      "def make_mixtures(Z , mu = np.array([[0 , 0 , 0]]).T , e = 1):\n",
      "    q = Z.shape[0]\n",
      "    W = np.random.rand(q+1, q)\n",
      "    X = np.dot(W,Z) + mu + e\n",
      "    return X , W\n",
      "\n",
      "mu = np.array([[0 , 0 , 0]]).T\n",
      "Z = np.c_[np.random.randn(1000).T , 0.5*np.random.randn(1000).T].T\n",
      "X,W = make_mixtures(Z)\n",
      "alpha = np.array([[1 , 1]])\n",
      "tau = 1\n",
      "print Z\n",
      "print \"-------------------------------\"\n",
      "print X\n",
      "print \"-------------------------------\"\n",
      "print W\n",
      "\n",
      "print \"-------------------------------\"\n",
      "\n",
      "print f_b_tau_tilde(0,mu,X.T,Z.T,W)\n",
      "print \"-------------------------------\"\n",
      "print f_a_tau_tilde(0,Z.shape[0],Z.shape[1])\n",
      "print \"-------------------------------\"\n",
      "Sigma_w =  f_Sigma_w(alpha, Z.T ,tau)\n",
      "print Sigma_w\n",
      "print \"-------------------------------\"\n",
      "print f_mu_w_k(tau, Sigma_w ,mu, X.T , Z.T , 1)\n",
      "print \"-------------------------------\"\n",
      "Sigma_mu =  f_Sigma_mu(1 , X.shape[1] , tau , X.shape[0])\n",
      "print Sigma_mu\n",
      "print \"-------------------------------\"\n",
      "print f_m_mu(tau, Sigma_mu , X.T , W , Z.T)\n",
      "print \"-------------------------------\"\n",
      "Sigma_z = f_Sigma_z(tau,W)\n",
      "print Sigma_z\n",
      "print \"-------------------------------\"\n",
      "print f_mu_z_n(tau, Sigma_z ,mu, X.T ,W, 1)\n"
     ],
     "language": "python",
     "metadata": {},
     "outputs": [
      {
       "output_type": "stream",
       "stream": "stdout",
       "text": [
        "[[-0.69533312 -1.59730318  1.29725602 ..., -0.80701125 -0.288787\n",
        "  -1.08270718]\n",
        " [ 0.29072325 -0.62445967  0.18438313 ..., -0.77103196 -0.05787855\n",
        "  -1.19433824]]\n",
        "-------------------------------\n",
        "[[ 1.02888925  0.11339892  1.48203756 ...,  0.2161412   0.88027938\n",
        "  -0.16955944]\n",
        " [ 0.61338142 -0.45993018  2.04287161 ...,  0.06083626  0.76039474\n",
        "  -0.33075737]\n",
        " [ 0.85169722  0.33892957  1.45686747 ...,  0.55306722  0.89412189\n",
        "   0.36073993]]\n",
        "-------------------------------\n",
        "[[ 0.26677113  0.73741625]\n",
        " [ 0.74101679  0.44246526]\n",
        " [ 0.31694166  0.24792395]]\n",
        "-------------------------------\n",
        "[[ 3978.03323297]]"
       ]
      },
      {
       "output_type": "stream",
       "stream": "stdout",
       "text": [
        "\n",
        "-------------------------------\n",
        "1000\n",
        "-------------------------------\n",
        "[[ 0.50006173 -0.49993827]\n",
        " [-0.49993827  0.50006173]]"
       ]
      },
      {
       "output_type": "stream",
       "stream": "stdout",
       "text": [
        "\n",
        "-------------------------------\n",
        "[-13.28729951  13.28129006]\n",
        "-------------------------------\n",
        "[[ 0.000999  0.        0.      ]\n",
        " [ 0.        0.000999  0.      ]\n",
        " [ 0.        0.        0.000999]]\n",
        "-------------------------------\n",
        "[ 0.999001  0.999001  0.999001]\n",
        "-------------------------------\n",
        "[[ 0.65844974 -0.22051843]\n",
        " [-0.22051843  0.62909236]]\n",
        "-------------------------------\n",
        "[[-0.12585374]\n",
        " [ 0.02224257]]\n"
       ]
      }
     ],
     "prompt_number": 7
    },
    {
     "cell_type": "markdown",
     "metadata": {},
     "source": [
      "### 6. Learning algorithm (10 points)\n",
      "Implement the learning algorithm described in [Bishop99], i.e. iteratively optimize each of the Q-distributions holding the others fixed.\n",
      "\n",
      "What would be a good way to track convergence of the algorithm? Implement your suggestion.\n",
      "\n",
      "Test the algorithm on some test data drawn from a Gaussian with different variances in orthogonal directions. "
     ]
    },
    {
     "cell_type": "markdown",
     "metadata": {},
     "source": [
      "### 7. PCA Representation of MNIST (10 points)\n",
      "\n",
      "Download the MNIST dataset from here http://deeplearning.net/tutorial/gettingstarted.html (the page contains python code for loading the data). Run your algorithm on (part of) this dataset, and visualize the results.\n"
     ]
    },
    {
     "cell_type": "code",
     "collapsed": false,
     "input": [],
     "language": "python",
     "metadata": {},
     "outputs": [],
     "prompt_number": 237
    },
    {
     "cell_type": "code",
     "collapsed": false,
     "input": [],
     "language": "python",
     "metadata": {},
     "outputs": [],
     "prompt_number": 237
    },
    {
     "cell_type": "code",
     "collapsed": false,
     "input": [
      "test = BayesianPCA(3,1000)\n",
      "test.update_z(X)\n",
      "test.update_mu(X)\n",
      "test.update_w(X)\n",
      "test.update_alpha()"
     ],
     "language": "python",
     "metadata": {},
     "outputs": [],
     "prompt_number": 222
    },
    {
     "cell_type": "code",
     "collapsed": false,
     "input": [],
     "language": "python",
     "metadata": {},
     "outputs": [],
     "prompt_number": 222
    },
    {
     "cell_type": "code",
     "collapsed": false,
     "input": [],
     "language": "python",
     "metadata": {},
     "outputs": [],
     "prompt_number": 24
    },
    {
     "cell_type": "code",
     "collapsed": false,
     "input": [
      "c = np.array([[1 , 2 , 3],[1 , 2 , 3]])\n",
      "print cov(c)"
     ],
     "language": "python",
     "metadata": {},
     "outputs": [
      {
       "output_type": "stream",
       "stream": "stdout",
       "text": [
        "[[ 1.  1.]\n",
        " [ 1.  1.]]\n"
       ]
      }
     ],
     "prompt_number": 39
    },
    {
     "cell_type": "code",
     "collapsed": false,
     "input": [],
     "language": "python",
     "metadata": {},
     "outputs": []
    }
   ],
   "metadata": {}
  }
 ]
}