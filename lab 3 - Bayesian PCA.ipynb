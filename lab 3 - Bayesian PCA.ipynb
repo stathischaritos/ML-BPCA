{
 "metadata": {
  "name": ""
 },
 "nbformat": 3,
 "nbformat_minor": 0,
 "worksheets": [
  {
   "cells": [
    {
     "cell_type": "markdown",
     "metadata": {},
     "source": [
      "# Lab 3: Bayesian PCA\n",
      "\n",
      "### Machine Learning: Principles and Methods, November 2013\n",
      "\n",
      "* The lab exercises should be made in groups of three people, or at least two people.\n",
      "* The deadline is Friday, 13 December, 23:59.\n",
      "* Assignment should be sent to T.S.Cohen at uva dot nl (Taco Cohen). The subject line of your email should be \"[MLPM2013] lab#_lastname1\\_lastname2\\_lastname3\". \n",
      "* Put your and your teammates' names in the body of the email\n",
      "* Attach the .IPYNB (IPython Notebook) file containing your code and answers. Naming of the file follows the same rule as the subject line. For example, if the subject line is \"[MLPM2013] lab01\\_Kingma\\_Hu\", the attached file should be \"lab01\\_Kingma\\_Hu.ipynb\". Only use underscores (\"\\_\") to connect names, otherwise the files cannot be parsed.\n",
      "\n",
      "Notes on implementation:\n",
      "\n",
      "* You should write your code and answers in an IPython Notebook: http://ipython.org/notebook.html. If you have problems, please contact us.\n",
      "* Among the first lines of your notebook should be \"%pylab inline\". This imports all required modules, and your plots will appear inline.\n",
      "* NOTE: test your code and make sure we can run your notebook / scripts!"
     ]
    },
    {
     "cell_type": "markdown",
     "metadata": {},
     "source": [
      "### Introduction\n",
      "\n",
      "In this lab assignment, we will implement a variational algorithm for Bayesian PCA. Unlike regular PCA based on maximization of retained variance or minimization of projection error (see Bishop, 12.1.1 and 12.1.2), probabilistic PCA defines a proper density model over observed and latent variables. We will work with a fully Bayesian model this time, which is to say that we will put priors on our parameters and will be interested in learning the posterior over those parameters. Bayesian methods are very elegant, but require a shift in mindset: we are no longer looking for a point estimate of the parameters (as in maximum likelihood or MAP), but for a full posterior distribution.\n",
      "\n",
      "The integrals involved in a Bayesian analysis are usually analytically intractable, so that we must resort to approximations. In this lab assignment, we will implement the variational method described in Bishop99. Chapters 10 and 12 of the PRML book contain additional material that may be useful when doing this exercise.\n",
      "\n",
      "* [Bishop99] Variational Principal Components, C. Bishop, ICANN 1999 - http://research.microsoft.com/pubs/67241/bishop-vpca-icann-99.pdf\n",
      "\n",
      "Below, you will find some code to get you started."
     ]
    },
    {
     "cell_type": "code",
     "collapsed": false,
     "input": [
      "%pylab inline\n",
      "import scipy.special as sp\n",
      "\n",
      "class BayesianPCA(object):\n",
      "    \n",
      "    def __init__(self, d, N, a_alpha=10e-3, b_alpha=10e-3, a_tau=10e-3, b_tau=10e-3, beta=10e-3):\n",
      "        \"\"\"\n",
      "        \"\"\"\n",
      "        self.d = d # number of dimensions\n",
      "        self.N = N # number of data points\n",
      "        \n",
      "        # Hyperparameters\n",
      "        self.a_alpha = a_alpha\n",
      "        self.b_alpha = b_alpha\n",
      "        self.a_tau = a_tau\n",
      "        self.b_tau = b_tau\n",
      "        self.beta = beta\n",
      "\n",
      "        # Variational parameters\n",
      "        self.means_z = np.random.randn(d, N) # called x in bishop99\n",
      "        self.sigma_z = np.random.randn(d, d)\n",
      "        self.mean_mu = np.random.randn(d, 1)\n",
      "        self.sigma_mu = np.random.randn(d, d)\n",
      "        self.means_w = np.random.randn(d, d)\n",
      "        self.sigma_w = np.random.randn(d, d)\n",
      "        self.a_alpha_tilde = np.abs(np.random.randn(1))\n",
      "        self.bs_alpha_tilde = np.abs(np.random.randn(d, 1))\n",
      "        self.a_tau_tilde = np.abs(np.random.randn(1))\n",
      "        self.b_tau_tilde = np.abs(np.random.randn(1))\n",
      "    \n",
      "    def __update_z(self, X):\n",
      "        ## Calculate Mean and Covariance Matrix of latent variables.\n",
      "        self.sigma_z = np.linalg.inv(np.identity(self.d) + (self.a_tau_tilde/self.b_tau_tilde)*(np.trace(self.sigma_w) + dot(self.means_w.T,self.means_w)))\n",
      "        self.means_z = (self.a_tau_tilde/self.b_tau_tilde)*dot(dot(self.sigma_z,self.means_w.T) , (X - self.mean_mu))\n",
      "      \n",
      "    def __update_mu(self,X):\n",
      "        #print \"update Mu\"\n",
      "        ## Calculate Mean and Covariance Matrix of mu.\n",
      "        self.sigma_mu = np.identity(self.d) / (self.beta + self.N*(self.a_tau_tilde/self.b_tau_tilde))\n",
      "        self.mean_mu = np.reshape((self.a_tau_tilde/self.b_tau_tilde) * dot(self.sigma_mu, sum(X - dot(self.means_w,self.means_z),1)), (self.d, 1)) \n",
      "#         #####################\n",
      "#         S = 0\n",
      "#         E_tau = (self.a_tau_tilde/self.b_tau_tilde)\n",
      "#         for i in range(0,self.N):\n",
      "#             t_n = np.reshape(X.T[i],(self.d,1))\n",
      "#             E_x_n = np.reshape(self.means_z.T[i],(self.d,1))\n",
      "#             E_W = self.means_w\n",
      "#             S += t_n  - dot(E_W,E_x_n)\n",
      "#         self.mean_mu = E_tau*dot(self.sigma_mu,S)\n",
      "#         print self.mean_mu\n",
      "#         print \"--------------------------------\"\n",
      "#         print np.reshape((self.a_tau_tilde/self.b_tau_tilde) * dot(self.sigma_mu, sum(X - dot(self.means_w,self.means_z),1)), (self.d, 1))\n",
      "    \n",
      "    \n",
      "    \n",
      "        \n",
      "        \n",
      "    def __update_w(self,X):\n",
      "        ## Calculate Mean and Covariance Matrix of W.\n",
      "        self.sigma_w = np.linalg.inv( diagflat(self.a_alpha_tilde/self.bs_alpha_tilde) + (self.a_tau_tilde/self.b_tau_tilde)*(self.N*self.sigma_z + dot(self.means_z,self.means_z.T)) )\n",
      "#         self_means_w = dot((self.a_tau_tilde/self.b_tau_tilde)*self.sigma_w, dot(self.means_z,(X - self.mean_mu).T)).T\n",
      "        \n",
      "        ########################\n",
      "        #print \"update W\"\n",
      "        S = 0\n",
      "        #print S\n",
      "        E_tau = (self.a_tau_tilde/self.b_tau_tilde)\n",
      "        for k in range(0,self.d):\n",
      "            for i in range(0,self.N):\n",
      "                t_n_k = np.reshape(X.T[i],(self.d,1))[k]\n",
      "                E_mu_k = self.mean_mu[k]\n",
      "                E_x_n = np.reshape(self.means_z.T[i],(self.d,1))\n",
      "                S += E_x_n*(t_n_k - E_mu_k )\n",
      "            print np.reshape(E_tau*dot(self.sigma_w,S),(self.d))\n",
      "            self.means_w.T[k] = np.reshape(E_tau*dot(self.sigma_w,S),(self.d))\n",
      "        \n",
      "        print self.means_w\n",
      "        #print \"-----------------------------------\"\n",
      "        #print dot((self.a_tau_tilde/self.b_tau_tilde)*self.sigma_w, dot(self.means_z,(X - self.mean_mu).T))\n",
      "        \n",
      "        \n",
      "    def __update_alpha(self):\n",
      "        ## Calculate a_alpha_tilde and bs_alpha_tilde.\n",
      "        self.a_alpha_tilde = self.a_alpha + self.d/2\n",
      "        for i in range(0 , self.d):\n",
      "            self.bs_alpha_tilde[i] = self.b_alpha + dot(self.means_w.T[i],self.means_w.T[i]) / 2\n",
      "        ##self.bs_alpha_tilde = np.reshape(np.diag(self.b_alpha + dot(self.means_w.T,self.means_w) / 2) ,(self.d, 1)) This works but i dont know if its faster.\n",
      "\n",
      "    def __update_tau(self, X):\n",
      "        ## Calculate a_tau_tilde and bs_tau_tilde.\n",
      "        self.a_tau_tilde = self.a_tau + self.N*self.d / 2\n",
      "        A = 0\n",
      "        for i in range(0,self.N):\n",
      "            A += dot(X.T[i],X.T[i]) - dot(self.means_z.T[i],self.means_z.T[i])\n",
      "            A += np.trace( dot(np.trace(self.sigma_w) + dot(self.means_w.T,self.means_w),self.sigma_z + dot(self.means_z.T[i],self.means_z.T[i].T)) )\n",
      "            A += 2*dot(dot(self.mean_mu.T,self.means_w),self.means_z.T[i])\n",
      "            A += -2* dot(dot(X.T[i].T,self.means_w),self.means_z.T[i]) - 2*dot(X.T[i].T,self.mean_mu)\n",
      "        self.b_tau_tilde = self.b_tau + A/2\n",
      "        \n",
      "        \n",
      "    def L(self, X):\n",
      "        L = 1\n",
      "        return L\n",
      "    \n",
      "    def fit(self, X):\n",
      "        L_new = 1\n",
      "        L_previous = 0\n",
      "        iterations = 20000\n",
      "        for i in range(0,iterations):\n",
      "        #while np.abs(L_new - L_previous) > 0.1:\n",
      "            ##update L\n",
      "            self.__update_z(X)\n",
      "            self.__update_mu(X)\n",
      "            self.__update_w(X)\n",
      "            self.__update_alpha()\n",
      "            self.__update_tau(X)\n",
      "            \n",
      "            if i%1000 == 1: print i\n",
      "            ##L_previous = L_new\n",
      "            #L_new = L(X)\n",
      "            \n",
      "            \n",
      "        "
     ],
     "language": "python",
     "metadata": {},
     "outputs": [
      {
       "output_type": "stream",
       "stream": "stdout",
       "text": [
        "Populating the interactive namespace from numpy and matplotlib\n"
       ]
      }
     ],
     "prompt_number": 201
    },
    {
     "cell_type": "markdown",
     "metadata": {},
     "source": [
      "### 1. The Q-distribution (5 points)\n",
      "\n",
      "In variational Bayes, we introduce a distribution $Q(\\Theta)$ over parameters / latent variables in order to make inference tractable. We can think of $Q$ as being an approximation of a certain distribution. What function does $Q$ approximate, $p(D|\\Theta)$, $p(\\Theta|D)$, $p(D, \\Theta)$, $p(\\Theta)$, or $p(D)$, and how do you see that from the equation $\\ln p(D) = \\mathcal{L}(Q) + \\mathrm{KL}(Q||P)$?"
     ]
    },
    {
     "cell_type": "markdown",
     "metadata": {},
     "source": [
      "####Answer:\n",
      "\n",
      "The distribution $Q(\\Theta)$ is an approximation of the true posterior distribution $p(\\Theta|D)$. From the given equation we can see that the lower bound will reach $\\ln P(D)$ when the KL distance of $Q$ and  $p(\\Theta|D)$ is zero , which is true when $Q$ is equal to  $p(\\Theta|D)$.\n",
      "\n",
      "\n",
      "$$\\mathrm{KL}(Q||P) = - \\int Q(\\Theta) ln \\frac{P(\\Theta|D)}{ Q(\\Theta) } d\\Theta$$ \n",
      "\n"
     ]
    },
    {
     "cell_type": "markdown",
     "metadata": {},
     "source": [
      "### 2. The mean-field approximation (15 points)\n",
      "\n",
      "Equation 13 from [Bishop99] is a very powerful result: assuming only that $Q(\\Theta)$ factorizes in a certain way (no assumptions on the functional form of the factors $Q_i$!), we get a set of coupled equations for the $Q_i$.\n",
      "\n",
      "However, the expression given in eq. 13 for Q_i contains a small mistake. Starting with the expression for the lower bound $\\mathcal{L}(Q)$, derive the correct expression (and include your derivation). You can proceed as follows: first, substitute the factorization of $Q$ (eq. 12) into the definition of $\\mathcal{L}(Q)$ and separate $\\mathcal{L}(Q)$ into $Q_i$-dependent and $Q_i$-independent terms. At this point, you should be able to spot the expectations $\\langle\\cdot\\rangle_{k \\neq i}$ over the other $Q$-distributions that appear in Bishop's solution (eq. 13). Now, keeping all $Q_k, k \\neq i$ fixed, maximize the expression with respect to $Q_i$. You should be able to spot the form of the optimal $ln Q_i$, from which $Q_i$ can easily be obtained."
     ]
    },
    {
     "cell_type": "markdown",
     "metadata": {},
     "source": [
      "####Answer\n",
      "$$\\mathcal{L}(Q) = \\int Q(\\Theta) ln \\frac{p(D,\\Theta)}{Q(\\Theta)} d\\Theta = \\int \\prod_{k}[Q_k(\\theta_k)] ln[P(D,\\Theta)] d\\Theta -  \\int \\prod_{k}[Q_k(\\theta_k)] ln[\\prod_{j}[Q_j(\\theta_j)]] d\\Theta = $$\n",
      "\n",
      "\n",
      "$$ = \\int Q_i(\\theta_i) \\Bigg( \\int\\prod_{k\\neq i}[Q_k(\\theta_k)]ln[P(D,\\Theta)] d\\Theta_{ \\backslash i} \\Bigg) d\\theta_i -  \\int Q_i(\\theta_i) \\Bigg[ \\int \\prod_{k\\neq i}[Q_k(\\theta_k)] \\Bigg( ln[Q_i(\\theta_i)] + \\sum_{j \\neq i} ln[Q_j(\\theta_j)]\\Bigg) d\\Theta_{\\backslash i} \\Bigg]  d\\theta_i  = $$\n",
      "\n",
      "\n",
      "$$ = \\int Q_i(\\theta_i) \\langle ln[P(D,\\Theta)] \\rangle_{k\\neq i} d\\theta_i -  \\int  Q_i(\\theta_i) ln[Q_i(\\theta_i)]d\\theta_i  \\int \\prod_{k\\neq i}[Q_k(\\theta_k)] d\\Theta_{\\backslash i}  -  \\int  Q_i(\\theta_i) \\Bigg( \\int \\prod_{k\\neq i}[Q_k(\\theta_k)] \\sum_{j \\neq i}[ ln[Q_j(\\theta_j)]] d\\Theta_{\\backslash i} \\Bigg) d\\theta_i $$\n",
      "\n",
      "\n",
      "$$ = \\int Q_i(\\theta_i) \\langle ln[P(D,\\Theta)] \\rangle_{k\\neq i} d\\theta_i -  \\int  Q_i(\\theta_i) ln[Q_i(\\theta_i)]d\\theta_i  \\int \\prod_{k\\neq i}[Q_k(\\theta_k)] d\\Theta_{\\backslash i}  +  const $$\n",
      "\n",
      "\n",
      "I set\n",
      "\n",
      "$$ ln[\\tilde{p}(D,\\Theta_i)] = \\langle ln[P(D,\\Theta)] \\rangle_{k\\neq i}  + const$$\n",
      "\n",
      "-----"
     ]
    },
    {
     "cell_type": "markdown",
     "metadata": {},
     "source": [
      "$$\\mathcal{L}(Q) = \\int Q(\\Theta) ln \\frac{p(D,\\Theta)}{Q(\\Theta)} d\\Theta = \\int \\prod_{k}[Q_k(\\theta_k)] ln[P(D,\\Theta)] d\\Theta -  \\int \\prod_{k}[Q_k(\\theta_k)] ln[\\prod_{j}[Q_j(\\theta_j)]] d\\Theta = $$\n",
      "\n",
      "\n",
      "$$ = \\int Q_i(\\theta_i) \\Bigg( \\int\\prod_{k\\neq i}[Q_k(\\theta_k)]ln[P(D,\\Theta)] d\\Theta_{ \\backslash i} \\Bigg) d\\theta_i -  \\int Q_i(\\theta_i) \\Bigg[ \\int \\prod_{k\\neq i}[Q_k(\\theta_k)] \\Bigg( ln[Q_i(\\theta_i)] + \\sum_{j \\neq i} ln[Q_j(\\theta_j)]\\Bigg) d\\Theta_{\\backslash i} \\Bigg]  d\\theta_i  = $$\n",
      "\n",
      "\n",
      "$$ = \\int Q_i(\\theta_i) \\langle ln[P(D,\\Theta)] \\rangle_{k\\neq i} d\\theta_i -  \\int  Q_i(\\theta_i) ln[Q_i(\\theta_i)]d\\theta_i  \\int \\prod_{k\\neq i}[Q_k(\\theta_k)] d\\Theta_{\\backslash i}  -  \\int  Q_i(\\theta_i) \\Bigg( \\int \\prod_{k\\neq i}[Q_k(\\theta_k)] \\sum_{j \\neq i}[ ln[Q_j(\\theta_j)]] d\\Theta_{\\backslash i} \\Bigg) d\\theta_i $$\n",
      "\n",
      "\n",
      "$$ = \\int Q_i(\\theta_i) C_1  \\langle ln[P(D,\\Theta)] \\rangle_{k\\neq i} d\\theta_i -  \\int C_1 Q_i(\\theta_i) ln[Q_i(\\theta_i)]d\\theta_i  - \\int  Q_i(\\theta_i) C_1 C_2 d\\theta_i $$\n",
      "\n",
      "\n",
      "$$\\frac{\\partial \\mathcal{L}(Q)}{ \\partial\\theta_i }  = C_1 \\langle ln[P(D,\\Theta)] \\rangle_{k\\neq i} Q_i(\\theta_i) -  C_1 Q_i(\\theta_i) ln[Q_i(\\theta_i)] - C_1 C_2 Q_i(\\theta_i) = 0 $$ $$ \\rightarrow  \\langle ln[P(D,\\Theta)] \\rangle_{k\\neq i} - ln[Q_i(\\theta_i)] - C_2 = 0 $$\n",
      "\n",
      "\n",
      "\n",
      "$$\\rightarrow    Q_i(\\theta_i) = C_3 \\exp [ \\langle ln[P(D,\\Theta)] \\rangle_{k\\neq i} ]$$\n",
      "where \n",
      "$$C_3 = \\frac{1}{ \\int \\exp [ \\langle ln[P(D,\\Theta)] \\rangle_{k\\neq i} ] d\\theta_i}$$\n",
      "And after normalisation:\n",
      "$$Q_i(\\theta_i) = \\frac{\\exp [ \\langle ln[P(D,\\Theta)] \\rangle_{k\\neq i} ]}{ \\int \\exp [ \\langle ln[P(D,\\Theta)] \\rangle_{k\\neq i} ] d\\theta_i}$$\n",
      "\n"
     ]
    },
    {
     "cell_type": "markdown",
     "metadata": {},
     "source": [
      "### 3. The log-probability (10 points)\n",
      "\n",
      "Write down the log-prob of data and parameters, $\\ln p(\\mathbf{X}, \\mathbf{Z}, \\mathbf{W}, \\mathbf{\\alpha}, \\tau, \\mathbf{\\mu})$, in full detail (where $\\mathbf{X}$ are observed, $\\mathbf{Z}$ is latent; this is different from [Bishop99] who uses $\\mathbf{T}$ and $\\mathbf{X}$ respectively, but $\\mathbf{X}$ and $\\mathbf{Z}$ are consistent with the PRML book and are more common nowadays). Could we use this to assess the convergence of the variational Bayesian PCA algorithm? If yes, how? If no, why not?"
     ]
    },
    {
     "cell_type": "markdown",
     "metadata": {},
     "source": [
      "####Answer\n",
      "The log-prob of the data and parameters are given from:\n",
      "\n",
      "\n",
      "$$\\ln P(\\mathbf{X}, \\mathbf{Z}, \\mathbf{W}, \\alpha, \\tau, \\mu) = \\ln\\left(\\prod_{n=1}^N P(x_{n}|z_{n},W,\\mu,\\tau)P(Z)P(W|a)P(a)P(\\mu)P(\\tau)\\right) = $$\n",
      "\n",
      "\n",
      "$$\\ln \\left( \\prod_{n=1}^N \\left[ \\left( \\cfrac{\\tau}{2\\pi}\\right)^{d/2} \\exp \\left\\lbrace - \\cfrac{1}{2} \\tau ||x_n - W z_n - \\mu||^2\\right\\rbrace \\right] \\right. \\prod_{n=1}^N \\left[ \\left( \\cfrac{1}{2\\pi}\\right)^{q/2} \\exp \\left\\lbrace -\\cfrac{1}{2} ||z_n||^2 \\right\\rbrace \\right] \\prod_{i=1}^q \\left[ \\left( \\cfrac{\\alpha_i}{2\\pi}\\right)^{d/2} \\exp \\left\\lbrace -\\cfrac{1}{2} \\alpha_i ||\\mathbf{w}_i||^2 \\right\\rbrace \\right] \\prod_{i=1}^q \\left[ \\cfrac{b_{\\alpha}^{\\alpha_{\\alpha}} \\alpha_i^{\\alpha_{\\alpha - 1}}\\exp \\lbrace -b_{\\alpha}\\alpha_{\\alpha} \\rbrace } {\\Gamma(\\alpha_{\\alpha})} \\right] \\left(\\cfrac{\\beta}{2\\pi}\\right)^{d/2} \\exp \\left\\lbrace -\\cfrac{1}{2}\\beta ||\\mathbf{\\mu}||^2 \\right\\rbrace \\left. \\cfrac{d_{\\tau}^{c_{\\tau}} \\tau^{c_{\\tau} - 1} \\exp \\lbrace -\\tau d_{\\tau} \\rbrace }{\\Gamma(c_{\\tau})} \\right) = $$\n",
      "\n",
      "$$ = \\sum_{n=1}^{N} \\left[ \\ln\\left( \\cfrac{\\tau}{2\\pi}\\right)^{d/2} + ln  \\left( \\cfrac{1}{2\\pi}\\right)^{q/2} + \\left( - \\cfrac{1}{2} \\tau ||x_n - W z_n - \\mu||^2\\right) +  \\left( -\\cfrac{1}{2} ||z_n||^2 \\right)  \\right] + \\sum_{i=1}^{q} \\left[ ln \\left(  \\cfrac{\\alpha_i}{2\\pi}\\right)^{d/2}  + \\left\\lbrace -\\cfrac{1}{2} \\alpha_i ||\\mathbf{w}_i||^2 \\right\\rbrace + \\ln \\left(  \\left[ \\cfrac{b_{\\alpha}^{\\alpha_{\\alpha}} \\alpha_i^{\\alpha_{\\alpha - 1}}\\exp \\lbrace -b_{\\alpha}\\alpha_{\\alpha} \\rbrace } {\\Gamma(\\alpha_{\\alpha})} \\right] \\right) \\right] + \\left( -\\cfrac{1}{2}\\beta ||\\mathbf{\\mu}||^2 \\right) + \\ln \\left( \\cfrac{d_{\\tau}^{c_{\\tau}} \\tau^{c_{\\tau} - 1} \\exp \\lbrace -\\tau d_{\\tau} \\rbrace }{\\Gamma(c_{\\tau})}   \\right) = $$\n",
      "\n",
      "$$ = \\frac{Nd}{2} \\ln\\left( \\cfrac{\\tau}{2\\pi}\\right) + \\frac{Nq}{2} ln \\left( \\cfrac{1}{2\\pi}\\right) + \\sum_{n=1}^{N} \\left[ \\left( - \\cfrac{1}{2} \\tau ||x_n - W z_n - \\mu||^2\\right) +  \\left( -\\cfrac{1}{2} ||z_n||^2 \\right)  \\right] + \\sum_{i=1}^{q} \\left[ ln \\left(  \\cfrac{\\alpha_i}{2\\pi}\\right)^{d/2}  + \\left\\lbrace -\\cfrac{1}{2} \\alpha_i ||\\mathbf{w}_i||^2 \\right\\rbrace + \\ln \\left(  \\left[ \\cfrac{b_{\\alpha}^{\\alpha_{\\alpha}} \\alpha_i^{\\alpha_{\\alpha - 1}}\\exp \\lbrace -b_{\\alpha}\\alpha_{\\alpha} \\rbrace } {\\Gamma(\\alpha_{\\alpha})} \\right] \\right) \\right] + \\left( -\\cfrac{1}{2}\\beta ||\\mathbf{\\mu}||^2 \\right) + \\ln \\left( \\cfrac{d_{\\tau}^{c_{\\tau}} \\tau^{c_{\\tau} - 1} \\exp \\lbrace -\\tau d_{\\tau} \\rbrace }{\\Gamma(c_{\\tau})}   \\right)$$\n"
     ]
    },
    {
     "cell_type": "markdown",
     "metadata": {},
     "source": [
      "### 4. The lower bound $\\mathcal{L}(Q)$ (25 points)\n",
      "\n",
      "Derive an expression for the lower bound $\\mathcal{L}(Q)$ of the log-prob $\\ln p(X)$ for Bayesian PCA, making use of the factorization (eq. 12) and the form of the Q-distributions (eq. 16-20) as listed in [Bishop99]. Show your steps. Implement this function.\n",
      "\n",
      "The following result may be useful:\n",
      "\n",
      "For $x \\sim \\Gamma(a,b)$, we have $\\langle \\ln x\\rangle = \\ln b + \\psi(a)$, where $\\psi(a) = \\frac{\\Gamma'(a)}{\\Gamma(a)}$ is the digamma function (which is implemented in numpy.special)."
     ]
    },
    {
     "cell_type": "markdown",
     "metadata": {},
     "source": [
      "### 5. Optimize variational parameters (50 points)\n",
      "Implement the update equations for the Q-distributions, in the __update_XXX methods. Each update function should re-estimate the variational parameters of the Q-distribution corresponding to one group of variables (i.e. either $Z$, $\\mu$, $W$, $\\alpha$ or $\\tau$)."
     ]
    },
    {
     "cell_type": "code",
     "collapsed": false,
     "input": [
      "def N(x,mu,Sigma):\n",
      "    D = len(x)\n",
      "    return (1/np.power(2*np.pi, D/2))*np.power( np.linalg.det(Sigma) , 0.5)*np.exp( -0.5 * dot(dot((x-mu).T,Sigma),(x-mu)))\n",
      " "
     ],
     "language": "python",
     "metadata": {},
     "outputs": [],
     "prompt_number": 326
    },
    {
     "cell_type": "code",
     "collapsed": false,
     "input": [
      "X = np.c_[np.random.randn(10).T , 0.5*np.random.randn(10).T].T\n",
      "\n",
      "print X"
     ],
     "language": "python",
     "metadata": {},
     "outputs": [
      {
       "output_type": "stream",
       "stream": "stdout",
       "text": [
        "[[ 1.55902654  0.54445836  0.2620936  -1.28020714  0.40172634 -1.47904027\n",
        "   0.15792434  0.19537508 -1.4374581   0.84787597]\n",
        " [ 0.61524506  0.04811249 -0.83329764  1.06472377 -0.15514999 -0.30702173\n",
        "   0.34201405  0.5067581   0.2381178   0.96781404]]\n"
       ]
      }
     ],
     "prompt_number": 3
    },
    {
     "cell_type": "markdown",
     "metadata": {},
     "source": [
      "### 6. Learning algorithm (10 points)\n",
      "Implement the learning algorithm described in [Bishop99], i.e. iteratively optimize each of the Q-distributions holding the others fixed.\n",
      "\n",
      "What would be a good way to track convergence of the algorithm? Implement your suggestion.\n",
      "\n",
      "Test the algorithm on some test data drawn from a Gaussian with different variances in orthogonal directions. "
     ]
    },
    {
     "cell_type": "markdown",
     "metadata": {},
     "source": [
      "### 7. PCA Representation of MNIST (10 points)\n",
      "\n",
      "Download the MNIST dataset from here http://deeplearning.net/tutorial/gettingstarted.html (the page contains python code for loading the data). Run your algorithm on (part of) this dataset, and visualize the results.\n"
     ]
    },
    {
     "cell_type": "code",
     "collapsed": false,
     "input": [
      "test = BayesianPCA(2,10)\n",
      "test.fit(X)"
     ],
     "language": "python",
     "metadata": {},
     "outputs": [
      {
       "output_type": "stream",
       "stream": "stdout",
       "text": [
        "1\n",
        "1001"
       ]
      },
      {
       "output_type": "stream",
       "stream": "stdout",
       "text": [
        "\n",
        "2001"
       ]
      },
      {
       "output_type": "stream",
       "stream": "stdout",
       "text": [
        "\n",
        "3001"
       ]
      },
      {
       "output_type": "stream",
       "stream": "stdout",
       "text": [
        "\n",
        "4001"
       ]
      },
      {
       "output_type": "stream",
       "stream": "stdout",
       "text": [
        "\n",
        "5001"
       ]
      },
      {
       "output_type": "stream",
       "stream": "stdout",
       "text": [
        "\n",
        "6001"
       ]
      },
      {
       "output_type": "stream",
       "stream": "stdout",
       "text": [
        "\n",
        "7001"
       ]
      },
      {
       "output_type": "stream",
       "stream": "stdout",
       "text": [
        "\n",
        "8001"
       ]
      },
      {
       "output_type": "stream",
       "stream": "stdout",
       "text": [
        "\n",
        "9001"
       ]
      },
      {
       "output_type": "stream",
       "stream": "stdout",
       "text": [
        "\n",
        "10001"
       ]
      },
      {
       "output_type": "stream",
       "stream": "stdout",
       "text": [
        "\n",
        "11001"
       ]
      },
      {
       "output_type": "stream",
       "stream": "stdout",
       "text": [
        "\n",
        "12001"
       ]
      },
      {
       "output_type": "stream",
       "stream": "stdout",
       "text": [
        "\n",
        "13001"
       ]
      },
      {
       "output_type": "stream",
       "stream": "stdout",
       "text": [
        "\n",
        "14001"
       ]
      },
      {
       "output_type": "stream",
       "stream": "stdout",
       "text": [
        "\n",
        "15001"
       ]
      },
      {
       "output_type": "stream",
       "stream": "stdout",
       "text": [
        "\n",
        "16001"
       ]
      },
      {
       "output_type": "stream",
       "stream": "stdout",
       "text": [
        "\n",
        "17001"
       ]
      },
      {
       "output_type": "stream",
       "stream": "stdout",
       "text": [
        "\n",
        "18001"
       ]
      },
      {
       "output_type": "stream",
       "stream": "stdout",
       "text": [
        "\n",
        "19001"
       ]
      },
      {
       "output_type": "stream",
       "stream": "stdout",
       "text": [
        "\n"
       ]
      }
     ],
     "prompt_number": 191
    },
    {
     "cell_type": "code",
     "collapsed": false,
     "input": [
      "print test.means_w\n",
      "print test.mean_mu\n",
      "print test.a_tau_tilde/test.b_tau_tilde"
     ],
     "language": "python",
     "metadata": {},
     "outputs": [
      {
       "output_type": "stream",
       "stream": "stdout",
       "text": [
        "[[ 0.  0.]\n",
        " [ 0.  0.]]\n",
        "[[-0.02280838]\n",
        " [ 0.24857733]]\n",
        "[ 1.61139115]\n"
       ]
      }
     ],
     "prompt_number": 196
    },
    {
     "cell_type": "code",
     "collapsed": false,
     "input": [
      "print test.means_z"
     ],
     "language": "python",
     "metadata": {},
     "outputs": [
      {
       "output_type": "stream",
       "stream": "stdout",
       "text": [
        "[[ 0.  0.  0.  0.  0.  0.  0.  0.  0.  0.]\n",
        " [ 0.  0.  0.  0.  0.  0.  0.  0.  0.  0.]]\n"
       ]
      }
     ],
     "prompt_number": 197
    },
    {
     "cell_type": "code",
     "collapsed": false,
     "input": [
      "print X"
     ],
     "language": "python",
     "metadata": {},
     "outputs": [
      {
       "output_type": "stream",
       "stream": "stdout",
       "text": [
        "[[ 1.55902654  0.54445836  0.2620936  -1.28020714  0.40172634 -1.47904027\n",
        "   0.15792434  0.19537508 -1.4374581   0.84787597]\n",
        " [ 0.61524506  0.04811249 -0.83329764  1.06472377 -0.15514999 -0.30702173\n",
        "   0.34201405  0.5067581   0.2381178   0.96781404]]\n"
       ]
      }
     ],
     "prompt_number": 198
    },
    {
     "cell_type": "code",
     "collapsed": false,
     "input": [
      "print np.dot(test.means_w,test.means_z) + test.mean_mu + np.sqrt(1/(test.a_tau_tilde/test.b_tau_tilde))"
     ],
     "language": "python",
     "metadata": {},
     "outputs": [
      {
       "output_type": "stream",
       "stream": "stdout",
       "text": [
        "[[ 0.76496176  0.76496176  0.76496176  0.76496176  0.76496176  0.76496176\n",
        "   0.76496176  0.76496176  0.76496176  0.76496176]\n",
        " [ 1.03634747  1.03634747  1.03634747  1.03634747  1.03634747  1.03634747\n",
        "   1.03634747  1.03634747  1.03634747  1.03634747]]\n"
       ]
      }
     ],
     "prompt_number": 199
    },
    {
     "cell_type": "code",
     "collapsed": false,
     "input": [],
     "language": "python",
     "metadata": {},
     "outputs": []
    }
   ],
   "metadata": {}
  }
 ]
}