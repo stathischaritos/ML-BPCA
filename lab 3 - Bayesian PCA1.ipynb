{
 "metadata": {
  "name": ""
 },
 "nbformat": 3,
 "nbformat_minor": 0,
 "worksheets": [
  {
   "cells": [
    {
     "cell_type": "markdown",
     "metadata": {},
     "source": [
      "# Lab 3: Bayesian PCA\n",
      "\n",
      "### Machine Learning: Principles and Methods, November 2013\n",
      "\n",
      "* The lab exercises should be made in groups of three people, or at least two people.\n",
      "* The deadline is Friday, 13 December, 23:59.\n",
      "* Assignment should be sent to T.S.Cohen at uva dot nl (Taco Cohen). The subject line of your email should be \"[MLPM2013] lab#_lastname1\\_lastname2\\_lastname3\". \n",
      "* Put your and your teammates' names in the body of the email\n",
      "* Attach the .IPYNB (IPython Notebook) file containing your code and answers. Naming of the file follows the same rule as the subject line. For example, if the subject line is \"[MLPM2013] lab01\\_Kingma\\_Hu\", the attached file should be \"lab01\\_Kingma\\_Hu.ipynb\". Only use underscores (\"\\_\") to connect names, otherwise the files cannot be parsed.\n",
      "\n",
      "Notes on implementation:\n",
      "\n",
      "* You should write your code and answers in an IPython Notebook: http://ipython.org/notebook.html. If you have problems, please contact us.\n",
      "* Among the first lines of your notebook should be \"%pylab inline\". This imports all required modules, and your plots will appear inline.\n",
      "* NOTE: test your code and make sure we can run your notebook / scripts!"
     ]
    },
    {
     "cell_type": "markdown",
     "metadata": {},
     "source": [
      "### Introduction\n",
      "\n",
      "In this lab assignment, we will implement a variational algorithm for Bayesian PCA. Unlike regular PCA based on maximization of retained variance or minimization of projection error (see Bishop, 12.1.1 and 12.1.2), probabilistic PCA defines a proper density model over observed and latent variables. We will work with a fully Bayesian model this time, which is to say that we will put priors on our parameters and will be interested in learning the posterior over those parameters. Bayesian methods are very elegant, but require a shift in mindset: we are no longer looking for a point estimate of the parameters (as in maximum likelihood or MAP), but for a full posterior distribution.\n",
      "\n",
      "The integrals involved in a Bayesian analysis are usually analytically intractable, so that we must resort to approximations. In this lab assignment, we will implement the variational method described in Bishop99. Chapters 10 and 12 of the PRML book contain additional material that may be useful when doing this exercise.\n",
      "\n",
      "* [Bishop99] Variational Principal Components, C. Bishop, ICANN 1999 - http://research.microsoft.com/pubs/67241/bishop-vpca-icann-99.pdf\n",
      "\n",
      "Below, you will find some code to get you started."
     ]
    },
    {
     "cell_type": "code",
     "collapsed": false,
     "input": [
      "%pylab inline\n",
      "import scipy.special as sp\n",
      "\n",
      "class BayesianPCA(object):\n",
      "    \n",
      "    def __init__(self, d, N, a_alpha=10e-3, b_alpha=10e-3, a_tau=10e-3, b_tau=10e-3, beta=10e-3):\n",
      "        \"\"\"\n",
      "        \"\"\"\n",
      "        self.d = d # number of dimensions\n",
      "        self.N = N # number of data points\n",
      "        \n",
      "        # Hyperparameters\n",
      "        self.a_alpha = a_alpha\n",
      "        self.b_alpha = b_alpha\n",
      "        self.a_tau = a_tau\n",
      "        self.b_tau = b_tau\n",
      "        self.beta = beta\n",
      "\n",
      "        # Variational parameters\n",
      "        self.means_z = np.random.randn(d, N) # called x in bishop99\n",
      "        self.sigma_z = np.random.randn(d, d)\n",
      "        self.mean_mu = np.random.randn(d, 1)\n",
      "        self.sigma_mu = np.random.randn(d, d)\n",
      "        self.means_w = np.random.randn(d, d)\n",
      "        self.sigma_w = np.random.randn(d, d)\n",
      "        self.a_alpha_tilde = np.abs(np.random.randn(1))\n",
      "        self.bs_alpha_tilde = np.abs(np.random.randn(d, 1))\n",
      "        self.a_tau_tilde = np.abs(np.random.randn(1))\n",
      "        self.b_tau_tilde = np.abs(np.random.randn(1))\n",
      "    \n",
      "    def __update_z(self, X):\n",
      "        self.sigma_z = np.linalg.inv(np.identity(self.d) + (self.a_tau_tilde/self.b_tau_tilde)*(np.trace(self.sigma_w) + dot(self.means_w.T,self.means_w)))\n",
      "        self_means_z = (self.a_tau_tilde/self.b_tau_tilde)*dot(dot(self.sigma_z,self.means_w.T) , (X - self.mean_mu))\n",
      "        \n",
      "      \n",
      "    def __update_mu(self,X):\n",
      "        self.sigma_mu = np.identity(self.d) / (self.beta + self.N*(self.a_tau_tilde/self.b_tau_tilde))\n",
      "        self.mean_mu = np.reshape((self.a_tau_tilde/self.b_tau_tilde) * dot(self.sigma_mu, sum(X - dot(self.means_w,self.means_z),1)), (self.d, 1)) \n",
      "        \n",
      "        \n",
      "        \n",
      "    def __update_w(self,X):\n",
      "        self.sigma_w = np.linalg.inv( diagflat(self.a_alpha_tilde/self.bs_alpha_tilde) + (self.a_tau_tilde/self.b_tau_tilde)*(self.N*self.sigma_z + dot(self.means_z,self.means_z.T)) )\n",
      "        self.means_w = (self.a_tau_tilde/self.b_tau_tilde)*dot(self.sigma_w, dot(self.means_z,(X - self.mean_mu).T))\n",
      "        \n",
      "        #print \"update W\"\n",
      "        S = 0\n",
      "        #print S\n",
      "        E_tau = (self.a_tau_tilde/self.b_tau_tilde)\n",
      "        for k in range(0,self.d):\n",
      "            for i in range(0,self.N):\n",
      "                t_n_k = X.T[i][k]\n",
      "                E_mu_k = self.mean_mu[k]\n",
      "                E_x_n = np.reshape(self.means_z.T[i],(self.d,1))\n",
      "                S += E_x_n*(t_n_k - E_mu_k )\n",
      "            #print np.reshape(E_tau*dot(self.sigma_w,S),(self.d))\n",
      "            self.means_w.T[k] = np.reshape(E_tau*dot(self.sigma_w,S),(self.d))\n",
      "        \n",
      "    def __update_alpha(self):\n",
      "        #print \"updating alpha ...\"\n",
      "        self.a_alpha_tilde = self.a_alpha + self.d/2\n",
      "        self.bs_alpha_tilde = np.reshape(np.diag(self.b_alpha + dot(self.means_w.T,self.means_w) / 2) ,(self.d, 1)) \n",
      "\n",
      "    def __update_tau(self, X):\n",
      "        #print \"updating tau ...\"\n",
      "        ## Calculate a_tau_tilde and bs_tau_tilde.\n",
      "        self.a_tau_tilde = self.a_tau + self.N*self.d / 2\n",
      "#         A = 0\n",
      "#         for i in range(0,self.N):\n",
      "#             t_n = np.reshape(X.T[i],(self.d,1))\n",
      "#             x_n = np.reshape(self.means_z.T[i],(self.d,1))\n",
      "#             A += dot(t_n.T,t_n) - dot(self.mean_mu.T,self.mean_mu)\n",
      "#             A += np.trace( dot( np.trace(self.sigma_w) + dot(self.means_w.T,self.means_w), self.sigma_z + dot(x_n,x_n.T)) )\n",
      "#             A += 2*dot(dot(self.mean_mu.T,self.means_w),x_n)\n",
      "#             A += -2* dot(dot(t_n.T,self.means_w),x_n) - 2*dot(t_n.T,self.mean_mu)\n",
      "#         self.b_tau_tilde = self.b_tau + A/2\n",
      "        #d = np.apply_along_axis(linalg.norm, 1, c)\n",
      "            \n",
      "        x_norm_sq = np.power(np.apply_along_axis(linalg.norm, 0, X), 2)\n",
      "        exp_mu_norm_sq = np.trace(self.sigma_mu) + np.dot(self.mean_mu.T, self.mean_mu)\n",
      "        exp_mu_norm_sq = exp_mu_norm_sq[0] # reshape from (1,1) to (1,)\n",
      "        exp_w = self.means_w\n",
      "        exp_wt_w = np.dot(exp_w.T, exp_w) # TODO fix\n",
      "        exp_z_zt = self.N * self.sigma_z + np.dot(self.means_z, self.means_z.T)\n",
      "        trace_w_z = np.trace(np.dot(exp_wt_w, exp_z_zt))\n",
      "        mu_w_z = np.dot(np.dot(self.mean_mu.T, self.means_w), self.means_z)\n",
      "        x_w_z = np.dot(X.T, self.means_w).T * self.means_z\n",
      "        x_mu = np.dot(X.T, self.mean_mu)\n",
      "        big_sum = np.sum(x_norm_sq) + self.N * exp_mu_norm_sq + trace_w_z + 2*np.sum(mu_w_z) - 2*np.sum(x_w_z) - 2*np.sum(x_mu)\n",
      "        self.b_tau_tilde = self.b_tau + 0.5*big_sum\n",
      "        \n",
      "        \n",
      "        \n",
      "    def L(self, X):\n",
      "        L = 1\n",
      "        return L\n",
      "    \n",
      "    def fit(self, X , iterations):\n",
      "        L_new = 1\n",
      "        L_previous = 0\n",
      "        for i in range(0,iterations):\n",
      "            self.__update_z(X)\n",
      "            self.__update_mu(X)\n",
      "            self.__update_w(X)\n",
      "            self.__update_alpha()\n",
      "            self.__update_tau(X)\n",
      "            if i%(iterations/10) == 1 :\n",
      "                print i\n",
      "            \n",
      "            \n",
      "            \n",
      "        "
     ],
     "language": "python",
     "metadata": {},
     "outputs": [
      {
       "output_type": "stream",
       "stream": "stdout",
       "text": [
        "Populating the interactive namespace from numpy and matplotlib\n"
       ]
      },
      {
       "output_type": "stream",
       "stream": "stderr",
       "text": [
        "WARNING: pylab import has clobbered these variables: ['mean', 'test']\n",
        "`%pylab --no-import-all` prevents importing * from pylab and numpy\n"
       ]
      }
     ],
     "prompt_number": 252
    },
    {
     "cell_type": "markdown",
     "metadata": {},
     "source": [
      "### 1. The Q-distribution (5 points)\n",
      "\n",
      "In variational Bayes, we introduce a distribution $Q(\\Theta)$ over parameters / latent variables in order to make inference tractable. We can think of $Q$ as being an approximation of a certain distribution. What function does $Q$ approximate, $p(D|\\Theta)$, $p(\\Theta|D)$, $p(D, \\Theta)$, $p(\\Theta)$, or $p(D)$, and how do you see that from the equation $\\ln p(D) = \\mathcal{L}(Q) + \\mathrm{KL}(Q||P)$?"
     ]
    },
    {
     "cell_type": "markdown",
     "metadata": {},
     "source": [
      "####Answer:\n",
      "\n",
      "The distribution $Q(\\Theta)$ is an approximation of the true posterior distribution $p(\\Theta|D)$. From the given equation we can see that the lower bound will reach $\\ln P(D)$ when the KL distance of $Q$ and  $p(\\Theta|D)$ is zero , which is true when $Q$ is equal to  $p(\\Theta|D)$.\n",
      "\n",
      "\n",
      "$$\\mathrm{KL}(Q||P) = - \\int Q(\\Theta) ln \\frac{P(\\Theta|D)}{ Q(\\Theta) } d\\Theta$$ \n",
      "\n"
     ]
    },
    {
     "cell_type": "markdown",
     "metadata": {},
     "source": [
      "### 2. The mean-field approximation (15 points)\n",
      "\n",
      "Equation 13 from [Bishop99] is a very powerful result: assuming only that $Q(\\Theta)$ factorizes in a certain way (no assumptions on the functional form of the factors $Q_i$!), we get a set of coupled equations for the $Q_i$.\n",
      "\n",
      "However, the expression given in eq. 13 for Q_i contains a small mistake. Starting with the expression for the lower bound $\\mathcal{L}(Q)$, derive the correct expression (and include your derivation). You can proceed as follows: first, substitute the factorization of $Q$ (eq. 12) into the definition of $\\mathcal{L}(Q)$ and separate $\\mathcal{L}(Q)$ into $Q_i$-dependent and $Q_i$-independent terms. At this point, you should be able to spot the expectations $\\langle\\cdot\\rangle_{k \\neq i}$ over the other $Q$-distributions that appear in Bishop's solution (eq. 13). Now, keeping all $Q_k, k \\neq i$ fixed, maximize the expression with respect to $Q_i$. You should be able to spot the form of the optimal $ln Q_i$, from which $Q_i$ can easily be obtained."
     ]
    },
    {
     "cell_type": "markdown",
     "metadata": {},
     "source": [
      "####Answer\n",
      "$$\\mathcal{L}(Q) = \\int Q(\\Theta) ln \\frac{p(D,\\Theta)}{Q(\\Theta)} d\\Theta = \\int \\prod_{k}[Q_k(\\theta_k)] ln[P(D,\\Theta)] d\\Theta -  \\int \\prod_{k}[Q_k(\\theta_k)] ln[\\prod_{j}[Q_j(\\theta_j)]] d\\Theta = $$\n",
      "\n",
      "\n",
      "$$ = \\int Q_i(\\theta_i) \\Bigg( \\int\\prod_{k\\neq i}[Q_k(\\theta_k)]ln[P(D,\\Theta)] d\\Theta_{ \\backslash i} \\Bigg) d\\theta_i -  \\int Q_i(\\theta_i) \\Bigg[ \\int \\prod_{k\\neq i}[Q_k(\\theta_k)] \\Bigg( ln[Q_i(\\theta_i)] + \\sum_{j \\neq i} ln[Q_j(\\theta_j)]\\Bigg) d\\Theta_{\\backslash i} \\Bigg]  d\\theta_i  = $$\n",
      "\n",
      "\n",
      "$$ = \\int Q_i(\\theta_i) \\langle ln[P(D,\\Theta)] \\rangle_{k\\neq i} d\\theta_i -  \\int  Q_i(\\theta_i) ln[Q_i(\\theta_i)]d\\theta_i  \\int \\prod_{k\\neq i}[Q_k(\\theta_k)] d\\Theta_{\\backslash i}  -  \\int  Q_i(\\theta_i) \\Bigg( \\int \\prod_{k\\neq i}[Q_k(\\theta_k)] \\sum_{j \\neq i}[ ln[Q_j(\\theta_j)]] d\\Theta_{\\backslash i} \\Bigg) d\\theta_i $$\n",
      "\n",
      "\n",
      "$$ = \\int Q_i(\\theta_i) \\langle ln[P(D,\\Theta)] \\rangle_{k\\neq i} d\\theta_i -  \\int  Q_i(\\theta_i) ln[Q_i(\\theta_i)]d\\theta_i  \\int \\prod_{k\\neq i}[Q_k(\\theta_k)] d\\Theta_{\\backslash i}  +  const $$\n",
      "\n",
      "\n",
      "I set\n",
      "\n",
      "$$ ln[\\tilde{p}(D,\\Theta_i)] = \\langle ln[P(D,\\Theta)] \\rangle_{k\\neq i}  + const$$\n",
      "\n",
      "-----"
     ]
    },
    {
     "cell_type": "markdown",
     "metadata": {},
     "source": [
      "$$\\mathcal{L}(Q) = \\int Q(\\Theta) ln \\frac{p(D,\\Theta)}{Q(\\Theta)} d\\Theta = \\int \\prod_{k}[Q_k(\\theta_k)] ln[P(D,\\Theta)] d\\Theta -  \\int \\prod_{k}[Q_k(\\theta_k)] ln[\\prod_{j}[Q_j(\\theta_j)]] d\\Theta = $$\n",
      "\n",
      "\n",
      "$$ = \\int Q_i(\\theta_i) \\Bigg( \\int\\prod_{k\\neq i}[Q_k(\\theta_k)]ln[P(D,\\Theta)] d\\Theta_{ \\backslash i} \\Bigg) d\\theta_i -  \\int Q_i(\\theta_i) \\Bigg[ \\int \\prod_{k\\neq i}[Q_k(\\theta_k)] \\Bigg( ln[Q_i(\\theta_i)] + \\sum_{j \\neq i} ln[Q_j(\\theta_j)]\\Bigg) d\\Theta_{\\backslash i} \\Bigg]  d\\theta_i  = $$\n",
      "\n",
      "\n",
      "$$ = \\int Q_i(\\theta_i) \\langle ln[P(D,\\Theta)] \\rangle_{k\\neq i} d\\theta_i -  \\int  Q_i(\\theta_i) ln[Q_i(\\theta_i)]d\\theta_i  \\int \\prod_{k\\neq i}[Q_k(\\theta_k)] d\\Theta_{\\backslash i}  -  \\int  Q_i(\\theta_i) \\Bigg( \\int \\prod_{k\\neq i}[Q_k(\\theta_k)] \\sum_{j \\neq i}[ ln[Q_j(\\theta_j)]] d\\Theta_{\\backslash i} \\Bigg) d\\theta_i $$\n",
      "\n",
      "\n",
      "$$ = \\int Q_i(\\theta_i) C_1  \\langle ln[P(D,\\Theta)] \\rangle_{k\\neq i} d\\theta_i -  \\int C_1 Q_i(\\theta_i) ln[Q_i(\\theta_i)]d\\theta_i  - \\int  Q_i(\\theta_i) C_1 C_2 d\\theta_i $$\n",
      "\n",
      "\n",
      "$$\\frac{\\partial \\mathcal{L}(Q)}{ \\partial\\theta_i }  = C_1 \\langle ln[P(D,\\Theta)] \\rangle_{k\\neq i} Q_i(\\theta_i) -  C_1 Q_i(\\theta_i) ln[Q_i(\\theta_i)] - C_1 C_2 Q_i(\\theta_i) = 0 $$ $$ \\rightarrow  \\langle ln[P(D,\\Theta)] \\rangle_{k\\neq i} - ln[Q_i(\\theta_i)] - C_2 = 0 $$\n",
      "\n",
      "\n",
      "\n",
      "$$\\rightarrow    Q_i(\\theta_i) = C_3 \\exp [ \\langle ln[P(D,\\Theta)] \\rangle_{k\\neq i} ]$$\n",
      "where \n",
      "$$C_3 = \\frac{1}{ \\int \\exp [ \\langle ln[P(D,\\Theta)] \\rangle_{k\\neq i} ] d\\theta_i}$$\n",
      "And after normalisation:\n",
      "$$Q_i(\\theta_i) = \\frac{\\exp [ \\langle ln[P(D,\\Theta)] \\rangle_{k\\neq i} ]}{ \\int \\exp [ \\langle ln[P(D,\\Theta)] \\rangle_{k\\neq i} ] d\\theta_i}$$\n",
      "\n"
     ]
    },
    {
     "cell_type": "markdown",
     "metadata": {},
     "source": [
      "### 3. The log-probability (10 points)\n",
      "\n",
      "Write down the log-prob of data and parameters, $\\ln p(\\mathbf{X}, \\mathbf{Z}, \\mathbf{W}, \\mathbf{\\alpha}, \\tau, \\mathbf{\\mu})$, in full detail (where $\\mathbf{X}$ are observed, $\\mathbf{Z}$ is latent; this is different from [Bishop99] who uses $\\mathbf{T}$ and $\\mathbf{X}$ respectively, but $\\mathbf{X}$ and $\\mathbf{Z}$ are consistent with the PRML book and are more common nowadays). Could we use this to assess the convergence of the variational Bayesian PCA algorithm? If yes, how? If no, why not?"
     ]
    },
    {
     "cell_type": "markdown",
     "metadata": {},
     "source": [
      "####Answer\n",
      "The log-prob of the data and parameters are given from:\n",
      "\n",
      "\n",
      "$$\\ln P(\\mathbf{X}, \\mathbf{Z}, \\mathbf{W}, \\alpha, \\tau, \\mu) = \\ln\\left(\\prod_{n=1}^N P(x_{n}|z_{n},W,\\mu,\\tau)P(Z)P(W|a)P(a)P(\\mu)P(\\tau)\\right) = $$\n",
      "\n",
      "\n",
      "$$\\ln \\left( \\prod_{n=1}^N \\left[ \\left( \\cfrac{\\tau}{2\\pi}\\right)^{d/2} \\exp \\left\\lbrace - \\cfrac{1}{2} \\tau ||x_n - W z_n - \\mu||^2\\right\\rbrace \\right] \\right. \\prod_{n=1}^N \\left[ \\left( \\cfrac{1}{2\\pi}\\right)^{q/2} \\exp \\left\\lbrace -\\cfrac{1}{2} ||z_n||^2 \\right\\rbrace \\right] \\prod_{i=1}^q \\left[ \\left( \\cfrac{\\alpha_i}{2\\pi}\\right)^{d/2} \\exp \\left\\lbrace -\\cfrac{1}{2} \\alpha_i ||\\mathbf{w}_i||^2 \\right\\rbrace \\right] \\prod_{i=1}^q \\left[ \\cfrac{b_{\\alpha}^{\\alpha_{\\alpha}} \\alpha_i^{\\alpha_{\\alpha - 1}}\\exp \\lbrace -b_{\\alpha}\\alpha_{\\alpha} \\rbrace } {\\Gamma(\\alpha_{\\alpha})} \\right] \\left(\\cfrac{\\beta}{2\\pi}\\right)^{d/2} \\exp \\left\\lbrace -\\cfrac{1}{2}\\beta ||\\mathbf{\\mu}||^2 \\right\\rbrace \\left. \\cfrac{d_{\\tau}^{c_{\\tau}} \\tau^{c_{\\tau} - 1} \\exp \\lbrace -\\tau d_{\\tau} \\rbrace }{\\Gamma(c_{\\tau})} \\right) = $$\n",
      "\n",
      "$$ = \\sum_{n=1}^{N} \\left[ \\ln\\left( \\cfrac{\\tau}{2\\pi}\\right)^{d/2} + ln  \\left( \\cfrac{1}{2\\pi}\\right)^{q/2} + \\left( - \\cfrac{1}{2} \\tau ||x_n - W z_n - \\mu||^2\\right) +  \\left( -\\cfrac{1}{2} ||z_n||^2 \\right)  \\right] + \\sum_{i=1}^{q} \\left[ ln \\left(  \\cfrac{\\alpha_i}{2\\pi}\\right)^{d/2}  + \\left\\lbrace -\\cfrac{1}{2} \\alpha_i ||\\mathbf{w}_i||^2 \\right\\rbrace + \\ln \\left(  \\left[ \\cfrac{b_{\\alpha}^{\\alpha_{\\alpha}} \\alpha_i^{\\alpha_{\\alpha - 1}}\\exp \\lbrace -b_{\\alpha}\\alpha_{\\alpha} \\rbrace } {\\Gamma(\\alpha_{\\alpha})} \\right] \\right) \\right] + \\left( -\\cfrac{1}{2}\\beta ||\\mathbf{\\mu}||^2 \\right) + \\ln \\left( \\cfrac{d_{\\tau}^{c_{\\tau}} \\tau^{c_{\\tau} - 1} \\exp \\lbrace -\\tau d_{\\tau} \\rbrace }{\\Gamma(c_{\\tau})}   \\right) = $$\n",
      "\n",
      "$$ = \\frac{Nd}{2} \\ln\\left( \\cfrac{\\tau}{2\\pi}\\right) + \\frac{Nq}{2} ln \\left( \\cfrac{1}{2\\pi}\\right) + \\sum_{n=1}^{N} \\left[ \\left( - \\cfrac{1}{2} \\tau ||x_n - W z_n - \\mu||^2\\right) +  \\left( -\\cfrac{1}{2} ||z_n||^2 \\right)  \\right] + \\sum_{i=1}^{q} \\left[ ln \\left(  \\cfrac{\\alpha_i}{2\\pi}\\right)^{d/2}  + \\left\\lbrace -\\cfrac{1}{2} \\alpha_i ||\\mathbf{w}_i||^2 \\right\\rbrace + \\ln \\left(  \\left[ \\cfrac{b_{\\alpha}^{\\alpha_{\\alpha}} \\alpha_i^{\\alpha_{\\alpha - 1}}\\exp \\lbrace -b_{\\alpha}\\alpha_{\\alpha} \\rbrace } {\\Gamma(\\alpha_{\\alpha})} \\right] \\right) \\right] + \\left( -\\cfrac{1}{2}\\beta ||\\mathbf{\\mu}||^2 \\right) + \\ln \\left( \\cfrac{d_{\\tau}^{c_{\\tau}} \\tau^{c_{\\tau} - 1} \\exp \\lbrace -\\tau d_{\\tau} \\rbrace }{\\Gamma(c_{\\tau})}   \\right)$$\n"
     ]
    },
    {
     "cell_type": "markdown",
     "metadata": {},
     "source": [
      "### 4. The lower bound $\\mathcal{L}(Q)$ (25 points)\n",
      "\n",
      "Derive an expression for the lower bound $\\mathcal{L}(Q)$ of the log-prob $\\ln p(X)$ for Bayesian PCA, making use of the factorization (eq. 12) and the form of the Q-distributions (eq. 16-20) as listed in [Bishop99]. Show your steps. Implement this function.\n",
      "\n",
      "The following result may be useful:\n",
      "\n",
      "For $x \\sim \\Gamma(a,b)$, we have $\\langle \\ln x\\rangle = \\ln b + \\psi(a)$, where $\\psi(a) = \\frac{\\Gamma'(a)}{\\Gamma(a)}$ is the digamma function (which is implemented in numpy.special)."
     ]
    },
    {
     "cell_type": "markdown",
     "metadata": {},
     "source": [
      "### 5. Optimize variational parameters (50 points)\n",
      "Implement the update equations for the Q-distributions, in the __update_XXX methods. Each update function should re-estimate the variational parameters of the Q-distribution corresponding to one group of variables (i.e. either $Z$, $\\mu$, $W$, $\\alpha$ or $\\tau$)."
     ]
    },
    {
     "cell_type": "code",
     "collapsed": false,
     "input": [
      "def N(x,mu,Sigma):\n",
      "    D = len(x)\n",
      "    return (1/np.power(2*np.pi, D/2))*np.power( np.linalg.det(Sigma) , 0.5)*np.exp( -0.5 * dot(dot((x-mu).T,Sigma),(x-mu)))\n",
      " "
     ],
     "language": "python",
     "metadata": {},
     "outputs": [],
     "prompt_number": 326
    },
    {
     "cell_type": "code",
     "collapsed": false,
     "input": [
      "X = np.c_[np.random.randn(50).T , 0.5*np.random.randn(50).T].T\n",
      "\n",
      "\n",
      "\n",
      "\n",
      "mean = np.zeros(10)\n",
      "covariance = np.diag([5,4,3,2,1,1,1,1,1,1])\n",
      "X = np.random.multivariate_normal(mean, covariance, 100).T\n"
     ],
     "language": "python",
     "metadata": {},
     "outputs": [],
     "prompt_number": 245
    },
    {
     "cell_type": "markdown",
     "metadata": {},
     "source": [
      "### 6. Learning algorithm (10 points)\n",
      "Implement the learning algorithm described in [Bishop99], i.e. iteratively optimize each of the Q-distributions holding the others fixed.\n",
      "\n",
      "What would be a good way to track convergence of the algorithm? Implement your suggestion.\n",
      "\n",
      "Test the algorithm on some test data drawn from a Gaussian with different variances in orthogonal directions. "
     ]
    },
    {
     "cell_type": "markdown",
     "metadata": {},
     "source": [
      "### 7. PCA Representation of MNIST (10 points)\n",
      "\n",
      "Download the MNIST dataset from here http://deeplearning.net/tutorial/gettingstarted.html (the page contains python code for loading the data). Run your algorithm on (part of) this dataset, and visualize the results.\n"
     ]
    },
    {
     "cell_type": "code",
     "collapsed": false,
     "input": [
      "test = BayesianPCA(10,100)\n",
      "test.fit(X,10000)"
     ],
     "language": "python",
     "metadata": {},
     "outputs": [
      {
       "output_type": "stream",
       "stream": "stdout",
       "text": [
        "1\n",
        "1001"
       ]
      },
      {
       "output_type": "stream",
       "stream": "stdout",
       "text": [
        "\n",
        "2001"
       ]
      },
      {
       "output_type": "stream",
       "stream": "stdout",
       "text": [
        "\n",
        "3001"
       ]
      },
      {
       "output_type": "stream",
       "stream": "stdout",
       "text": [
        "\n",
        "4001"
       ]
      },
      {
       "output_type": "stream",
       "stream": "stdout",
       "text": [
        "\n",
        "5001"
       ]
      },
      {
       "output_type": "stream",
       "stream": "stdout",
       "text": [
        "\n",
        "6001"
       ]
      },
      {
       "output_type": "stream",
       "stream": "stdout",
       "text": [
        "\n",
        "7001"
       ]
      },
      {
       "output_type": "stream",
       "stream": "stdout",
       "text": [
        "\n",
        "8001"
       ]
      },
      {
       "output_type": "stream",
       "stream": "stdout",
       "text": [
        "\n",
        "9001"
       ]
      },
      {
       "output_type": "stream",
       "stream": "stdout",
       "text": [
        "\n"
       ]
      }
     ],
     "prompt_number": 253
    },
    {
     "cell_type": "code",
     "collapsed": false,
     "input": [
      "print test.means_w\n",
      "print test.mean_mu\n",
      "print test.a_tau_tilde/test.b_tau_tilde"
     ],
     "language": "python",
     "metadata": {},
     "outputs": [
      {
       "output_type": "stream",
       "stream": "stdout",
       "text": [
        "[[ -1.63373753e-02  -1.26676117e-02  -2.64871411e-02  -1.93952588e-02\n",
        "   -1.75181466e-02  -1.55929038e-02  -2.46540372e-02  -2.15076451e-02\n",
        "   -2.68913830e-02  -2.75165285e-02]\n",
        " [ -3.99768550e-05  -2.22877912e-02  -1.92611247e-02  -1.95239017e-02\n",
        "   -2.24257346e-02  -1.50527931e-02  -1.37520406e-02  -5.78687333e-03\n",
        "    1.94177402e-03   1.01747958e-02]\n",
        " [  8.96169290e-03   6.66944703e-03   1.07284005e-03   8.19908220e-03\n",
        "    6.19539105e-03   2.61884004e-02   4.28540067e-02   3.71798230e-02\n",
        "    2.37965199e-02   3.44734605e-02]\n",
        " [  2.17301772e-02   3.20378026e-02   2.61776978e-02   4.93862942e-03\n",
        "    5.37744623e-03   2.76963887e-03  -3.58408254e-03  -1.60898109e-02\n",
        "   -1.51323591e-02  -2.04066683e-02]\n",
        " [  1.96776744e-02   1.60389073e-02   1.37233840e-02   1.26843824e-02\n",
        "    5.50585043e-03   1.29109628e-02   1.86278287e-02   2.56609408e-02\n",
        "    4.01916638e-02   4.61400777e-02]\n",
        " [  8.52931572e-03  -2.81075705e-02  -2.00755313e-02  -2.24340106e-02\n",
        "   -2.75319563e-02  -3.93103149e-02  -5.31114918e-02  -5.88108225e-02\n",
        "   -4.39682494e-02  -4.82541649e-02]\n",
        " [ -2.60566420e-02  -1.75520243e-02  -5.58815934e-02  -1.28092637e-02\n",
        "   -1.17488511e-03  -8.55002401e-03  -8.11563121e-03  -3.12669616e-02\n",
        "   -4.50622800e-02  -4.04252139e-02]\n",
        " [ -4.56669689e-04  -6.83777307e-03  -2.22673399e-02  -2.49399429e-02\n",
        "   -1.88815077e-02  -2.36874959e-02  -3.31973167e-02  -3.45715455e-02\n",
        "   -2.47513023e-02  -4.04698359e-02]\n",
        " [ -1.38272883e-02  -4.16408859e-02  -3.74852009e-02  -2.57794537e-02\n",
        "   -4.05073021e-02  -4.67711634e-02  -5.52882000e-02  -6.13774000e-02\n",
        "   -4.11632598e-02  -4.33990997e-02]\n",
        " [ -2.89420332e-03   2.92361362e-02   2.10710870e-02   1.85453795e-02\n",
        "   -3.60139893e-03   9.99580371e-03   1.61560597e-02   1.04485985e-02\n",
        "    1.57892296e-02   1.63124808e-03]]\n",
        "[[ -1.06203195e-04]\n",
        " [ -5.01811295e-02]\n",
        " [ -1.76551950e-01]\n",
        " [  6.63254360e-02]\n",
        " [  3.04761883e-02]\n",
        " [  1.65883673e-02]\n",
        " [  1.16583942e-02]\n",
        " [ -1.60319555e-01]\n",
        " [  2.14056289e-02]\n",
        " [  1.64383690e-01]]\n",
        "[ 0.50344574]\n"
       ]
      }
     ],
     "prompt_number": 254
    },
    {
     "cell_type": "code",
     "collapsed": false,
     "input": [],
     "language": "python",
     "metadata": {},
     "outputs": []
    },
    {
     "cell_type": "code",
     "collapsed": false,
     "input": [
      "import pylab as pl\n",
      "\n",
      "def _blob(x,y,area,colour):\n",
      "    \"\"\"\n",
      "    Source: http://wiki.scipy.org/Cookbook/Matplotlib/HintonDiagrams\n",
      "    Draws a square-shaped blob with the given area (< 1) at\n",
      "    the given coordinates.\n",
      "    \"\"\"\n",
      "    hs = np.sqrt(area) / 2\n",
      "    xcorners = np.array([x - hs, x + hs, x + hs, x - hs])\n",
      "    ycorners = np.array([y - hs, y - hs, y + hs, y + hs])\n",
      "    pl.fill(xcorners, ycorners, colour, edgecolor=colour)\n",
      "    \n",
      "def hinton(W, maxWeight=None):\n",
      "    \"\"\"\n",
      "    Source: http://wiki.scipy.org/Cookbook/Matplotlib/HintonDiagrams\n",
      "    Draws a Hinton diagram for visualizing a weight matrix.\n",
      "    Temporarily disables matplotlib interactive mode if it is on,\n",
      "    otherwise this takes forever.\n",
      "    \"\"\"\n",
      "    reenable = False\n",
      "    if pl.isinteractive():\n",
      "        pl.ioff()\n",
      "    pl.clf()\n",
      "    height, width = W.shape\n",
      "    if not maxWeight:\n",
      "        maxWeight = 2**np.ceil(np.log(np.max(np.abs(W)))/np.log(2))\n",
      "\n",
      "    pl.fill(np.array([0,width,width,0]),np.array([0,0,height,height]),'gray')\n",
      "    pl.axis('off')\n",
      "    pl.axis('equal')\n",
      "    for x in xrange(width):\n",
      "        for y in xrange(height):\n",
      "            _x = x+1\n",
      "            _y = y+1\n",
      "            w = W[y,x]\n",
      "            if w > 0:\n",
      "                _blob(_x - 0.5, height - _y + 0.5, min(1,w/maxWeight),'white')\n",
      "            elif w < 0:\n",
      "                _blob(_x - 0.5, height - _y + 0.5, min(1,-w/maxWeight),'black')\n",
      "    if reenable:\n",
      "        pl.ion()\n",
      "    pl.show()\n",
      "\n",
      "hinton(test.means_z)"
     ],
     "language": "python",
     "metadata": {},
     "outputs": [
      {
       "metadata": {},
       "output_type": "display_data",
       "png": "[encoded data removed]",
       "text": [
        "<matplotlib.figure.Figure at 0x5d08cf90>"
       ]
      }
     ],
     "prompt_number": 255
    },
    {
     "cell_type": "code",
     "collapsed": false,
     "input": [
      "# print X"
     ],
     "language": "python",
     "metadata": {},
     "outputs": [
      {
       "output_type": "stream",
       "stream": "stdout",
       "text": [
        "[[ 0.45890107 -0.14281654 -0.74770065 -1.50009588  0.28383278  1.86730646\n",
        "   1.007288    0.30402194 -0.13409025 -0.14897855 -0.13578435  0.40091152\n",
        "   0.37176659 -0.61434459  0.93968547 -0.86669991  0.21617894  0.53632916\n",
        "  -0.99735459  0.6110137  -0.94920618 -0.46136083  1.10916069 -1.66311479\n",
        "   0.60505187  1.53703523 -1.01636411 -0.99114451  0.57742958 -0.07043305\n",
        "   0.8096837   1.67357492 -0.51291804 -0.94437668  0.1028738   1.47040615\n",
        "  -0.14304631  0.10161899 -0.94675996  1.91093279 -0.73588919  1.61977383\n",
        "   1.02426048 -1.78550351  0.42571169 -0.83583172 -0.53581484  0.22391576\n",
        "  -1.24331263 -0.78970212]\n",
        " [ 0.2715422  -0.47168343  0.54301677  1.07154615  0.37334875 -1.29533863\n",
        "   0.14297071  0.62470563 -0.01761992  0.66520212 -0.0023628   0.17646732\n",
        "   0.53357692 -0.78456519  0.17587851 -0.05053787 -0.75506508  0.1170849\n",
        "  -0.44893557 -0.56468087 -0.43012564  0.15755772  0.92729894 -0.58178992\n",
        "   0.41085199  0.20743215 -0.42449029 -0.23308283 -0.51290888  0.4326322\n",
        "  -0.65361991 -0.56313466 -0.00613425 -0.27389502  0.27174128  0.47567053\n",
        "  -0.38529154 -0.25162579  0.69101344 -0.19897011 -0.0121459  -0.27377865\n",
        "   0.06539733  0.80612092  0.34473411  0.09099454  0.06986923 -0.42627573\n",
        "  -0.74841622  0.41943122]]\n"
       ]
      }
     ],
     "prompt_number": 161
    },
    {
     "cell_type": "code",
     "collapsed": false,
     "input": [
      "print np.dot(test.means_w,test.means_z) + test.mean_mu "
     ],
     "language": "python",
     "metadata": {},
     "outputs": [
      {
       "output_type": "stream",
       "stream": "stdout",
       "text": [
        "[[ 0.02663308 -0.01826918  0.12263352  0.10507856 -0.02561827 -0.11585411\n",
        "   0.07010782  0.18410386  0.09487328 -0.02922486 -0.22262137 -0.17469223\n",
        "  -0.14475882  0.06546043  0.01158631 -0.3365574  -0.07631819 -0.21684465\n",
        "  -0.05723195 -0.01280102  0.17945844 -0.06532311  0.08639714 -0.09488928\n",
        "  -0.07158088 -0.07135687  0.06347805  0.08558955 -0.03001528  0.24523383\n",
        "   0.19601045  0.12745023  0.17499463  0.02825696  0.02387471  0.15826564\n",
        "   0.10270564  0.13145555 -0.12383318  0.07813161  0.22645632  0.08289457\n",
        "   0.1509532  -0.03487757  0.17363958  0.17435577  0.01026577  0.10348455\n",
        "   0.01678534 -0.10188048]\n",
        " [ 0.00684322 -0.00498559 -0.00964331  0.00830489  0.02472466  0.02177573\n",
        "   0.00184187 -0.02035994 -0.00221687  0.01979594  0.04359794  0.03411191\n",
        "   0.04412703 -0.01875884  0.01520762  0.02991576 -0.00207244  0.01207364\n",
        "  -0.02791059 -0.0051264  -0.03907141  0.00590798 -0.01274335 -0.02187691\n",
        "   0.00472556  0.01384886 -0.01022824 -0.02673528 -0.0128568  -0.0505484\n",
        "  -0.04414507 -0.02131237 -0.04908153  0.00518159  0.00827756 -0.03348177\n",
        "  -0.03927646 -0.02434903  0.01141205  0.00110121 -0.00984429 -0.02860666\n",
        "  -0.04115078  0.01201879 -0.0321356  -0.01737337 -0.00115801  0.00111382\n",
        "  -0.03482839  0.0155914 ]]\n"
       ]
      }
     ],
     "prompt_number": 155
    },
    {
     "cell_type": "code",
     "collapsed": false,
     "input": [
      "import cPickle, gzip, numpy\n",
      "\n",
      "# Load the dataset\n",
      "f = gzip.open('mnist.pkl.gz', 'rb')\n",
      "train_set, valid_set, test_set = cPickle.load(f)\n",
      "f.close()"
     ],
     "language": "python",
     "metadata": {},
     "outputs": [],
     "prompt_number": 67
    },
    {
     "cell_type": "code",
     "collapsed": false,
     "input": [
      "\n"
     ],
     "language": "python",
     "metadata": {},
     "outputs": [],
     "prompt_number": 67
    },
    {
     "cell_type": "code",
     "collapsed": false,
     "input": [
      "test = BayesianPCA(784,100)\n",
      "test.fit(train_set[0][0:100].T,100)"
     ],
     "language": "python",
     "metadata": {},
     "outputs": [
      {
       "output_type": "stream",
       "stream": "stdout",
       "text": [
        "1\n",
        "11"
       ]
      },
      {
       "output_type": "stream",
       "stream": "stdout",
       "text": [
        "\n",
        "21"
       ]
      },
      {
       "output_type": "stream",
       "stream": "stdout",
       "text": [
        "\n",
        "31"
       ]
      },
      {
       "output_type": "stream",
       "stream": "stdout",
       "text": [
        "\n",
        "41"
       ]
      },
      {
       "output_type": "stream",
       "stream": "stdout",
       "text": [
        "\n",
        "51"
       ]
      },
      {
       "output_type": "stream",
       "stream": "stdout",
       "text": [
        "\n",
        "61"
       ]
      },
      {
       "output_type": "stream",
       "stream": "stdout",
       "text": [
        "\n",
        "71"
       ]
      },
      {
       "output_type": "stream",
       "stream": "stdout",
       "text": [
        "\n",
        "81"
       ]
      },
      {
       "output_type": "stream",
       "stream": "stdout",
       "text": [
        "\n",
        "91"
       ]
      },
      {
       "output_type": "stream",
       "stream": "stdout",
       "text": [
        "\n"
       ]
      }
     ],
     "prompt_number": 198
    },
    {
     "cell_type": "code",
     "collapsed": false,
     "input": [],
     "language": "python",
     "metadata": {},
     "outputs": [
      {
       "output_type": "stream",
       "stream": "stdout",
       "text": [
        "(2, 2)\n",
        "(2, 1)\n",
        "[[0 1]\n",
        " [1 2]]\n"
       ]
      }
     ],
     "prompt_number": 135
    },
    {
     "cell_type": "code",
     "collapsed": false,
     "input": [],
     "language": "python",
     "metadata": {},
     "outputs": []
    }
   ],
   "metadata": {}
  }
 ]
}