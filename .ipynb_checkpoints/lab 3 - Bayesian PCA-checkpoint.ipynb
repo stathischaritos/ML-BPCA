{
 "metadata": {
  "name": ""
 },
 "nbformat": 3,
 "nbformat_minor": 0,
 "worksheets": [
  {
   "cells": [
    {
     "cell_type": "markdown",
     "metadata": {},
     "source": [
      "# Lab 3: Bayesian PCA\n",
      "\n",
      "### Machine Learning: Principles and Methods, November 2013\n",
      "\n",
      "* The lab exercises should be made in groups of three people, or at least two people.\n",
      "* The deadline is Friday, 13 December, 23:59.\n",
      "* Assignment should be sent to T.S.Cohen at uva dot nl (Taco Cohen). The subject line of your email should be \"[MLPM2013] lab#_lastname1\\_lastname2\\_lastname3\". \n",
      "* Put your and your teammates' names in the body of the email\n",
      "* Attach the .IPYNB (IPython Notebook) file containing your code and answers. Naming of the file follows the same rule as the subject line. For example, if the subject line is \"[MLPM2013] lab01\\_Kingma\\_Hu\", the attached file should be \"lab01\\_Kingma\\_Hu.ipynb\". Only use underscores (\"\\_\") to connect names, otherwise the files cannot be parsed.\n",
      "\n",
      "Notes on implementation:\n",
      "\n",
      "* You should write your code and answers in an IPython Notebook: http://ipython.org/notebook.html. If you have problems, please contact us.\n",
      "* Among the first lines of your notebook should be \"%pylab inline\". This imports all required modules, and your plots will appear inline.\n",
      "* NOTE: test your code and make sure we can run your notebook / scripts!"
     ]
    },
    {
     "cell_type": "markdown",
     "metadata": {},
     "source": [
      "### Introduction\n",
      "\n",
      "In this lab assignment, we will implement a variational algorithm for Bayesian PCA. Unlike regular PCA based on maximization of retained variance or minimization of projection error (see Bishop, 12.1.1 and 12.1.2), probabilistic PCA defines a proper density model over observed and latent variables. We will work with a fully Bayesian model this time, which is to say that we will put priors on our parameters and will be interested in learning the posterior over those parameters. Bayesian methods are very elegant, but require a shift in mindset: we are no longer looking for a point estimate of the parameters (as in maximum likelihood or MAP), but for a full posterior distribution.\n",
      "\n",
      "The integrals involved in a Bayesian analysis are usually analytically intractable, so that we must resort to approximations. In this lab assignment, we will implement the variational method described in Bishop99. Chapters 10 and 12 of the PRML book contain additional material that may be useful when doing this exercise.\n",
      "\n",
      "* [Bishop99] Variational Principal Components, C. Bishop, ICANN 1999 - http://research.microsoft.com/pubs/67241/bishop-vpca-icann-99.pdf\n",
      "\n",
      "Below, you will find some code to get you started."
     ]
    },
    {
     "cell_type": "code",
     "collapsed": false,
     "input": [
      "%pylab inline\n",
      "\n",
      "\n",
      "import scipy.special as sp\n",
      "\n",
      "import scipy.special as special\n",
      "\n",
      "class BayesianPCA(object):\n",
      "    \n",
      "    def __init__(self, d, N, a_alpha=10e-3, b_alpha=10e-3, a_tau=10e-3, b_tau=10e-3, beta=10e-3):\n",
      "        \"\"\"\n",
      "        \"\"\"\n",
      "        self.d = d # number of dimensions\n",
      "        self.N = N # number of data points\n",
      "        \n",
      "        # Hyperparameters\n",
      "        self.a_alpha = a_alpha\n",
      "        self.b_alpha = b_alpha\n",
      "        self.a_tau = a_tau\n",
      "        self.b_tau = b_tau\n",
      "        self.beta = beta\n",
      "\n",
      "        # Variational parameters\n",
      "        self.means_z = np.random.randn(d, N) # called x in bishop99\n",
      "        self.sigma_z = np.random.randn(d, d)\n",
      "        self.mean_mu = np.random.randn(d, 1)\n",
      "        self.sigma_mu = np.random.randn(d, d)\n",
      "        self.means_w = np.random.randn(d, d)\n",
      "        self.sigma_w = np.random.randn(d, d)\n",
      "        self.a_alpha_tilde = np.abs(np.random.randn(1))\n",
      "        self.bs_alpha_tilde = np.abs(np.random.randn(d, 1))\n",
      "        self.a_tau_tilde = np.abs(np.random.randn(1))\n",
      "        self.b_tau_tilde = np.abs(np.random.randn(1))\n",
      "    \n",
      "    def __update_z(self, X):\n",
      "        ## Calculate Mean and Covariance Matrix of latent variables.\n",
      "        self.sigma_z = np.linalg.inv(np.identity(self.d) + (self.a_tau_tilde/self.b_tau_tilde)*(np.trace(self.sigma_w) + dot(self.means_w.T,self.means_w)))\n",
      "        self.means_z = (self.a_tau_tilde/self.b_tau_tilde)*dot(self.sigma_z ,dot(self.means_w.T , (X - self.mean_mu)))\n",
      "        \n",
      "        #print self.means_z  \n",
      "      \n",
      "    def __update_mu(self,X):\n",
      "        #print \"update Mu\"\n",
      "        ## Calculate Mean and Covariance Matrix of mu.\n",
      "        self.sigma_mu = np.identity(self.d) / (self.beta + self.N*(self.a_tau_tilde/self.b_tau_tilde))\n",
      "        self.mean_mu = np.reshape((self.a_tau_tilde/self.b_tau_tilde) * dot(self.sigma_mu, sum(X - dot(self.means_w,self.means_z),1)), (self.d, 1)) \n",
      "   \n",
      "    def __update_w(self,X):\n",
      "        ## Calculate Mean and Covariance Matrix of W.\n",
      "        self.sigma_w = np.linalg.inv( diagflat(self.a_alpha_tilde/self.bs_alpha_tilde) + (self.a_tau_tilde/self.b_tau_tilde)*(self.N*self.sigma_z + dot(self.means_z,self.means_z.T)) )\n",
      "        self_means_w = (self.a_tau_tilde/self.b_tau_tilde)*dot(self.sigma_w, dot(self.means_z,(X - self.mean_mu).T)) \n",
      "\n",
      "    def __update_alpha(self):\n",
      "        ## Calculate a_alpha_tilde and bs_alpha_tilde.\n",
      "        self.a_alpha_tilde = self.a_alpha + self.d/2\n",
      "        for i in range(0 , self.d):\n",
      "            self.bs_alpha_tilde[i] = self.b_alpha + (np.trace(self.sigma_w) + dot(self.means_w.T[i].T,self.means_w.T[i])) / 2\n",
      "        ##self.bs_alpha_tilde = np.reshape(np.diag(self.b_alpha + dot(self.means_w.T,self.means_w) / 2) ,(self.d, 1)) This works but i dont know if its faster.\n",
      "\n",
      "    def __update_tau(self, X):\n",
      "        ## Calculate a_tau_tilde and bs_tau_tilde.\n",
      "        self.a_tau_tilde = self.a_tau + self.N*self.d / 2\n",
      "        A = 0\n",
      "#         for i in range(0,self.N):\n",
      "#             t_n = np.reshape(X.T[i],(self.d,1))\n",
      "#             x_n = np.reshape(self.means_z.T[i],(self.d,1))\n",
      "#             A += dot(t_n.T,t_n) + dot(self.mean_mu.T,self.mean_mu)\n",
      "#             A += np.trace( dot( np.trace(self.sigma_w) + dot(self.means_w.T,self.means_w), self.sigma_z + dot(x_n,x_n.T)) )\n",
      "#             A += 2*dot(dot(self.mean_mu.T,self.means_w),x_n)\n",
      "#             A += -2* dot(dot(t_n.T,self.means_w),x_n) - 2*dot(t_n.T,self.mean_mu)\n",
      "#         self.b_tau_tilde = self.b_tau + A/2\n",
      "        \n",
      "        x_norm_sq = np.power(np.apply_along_axis(linalg.norm, 0, X), 2)\n",
      "        exp_mu_norm_sq = np.trace(self.sigma_mu) + np.dot(self.mean_mu.T, self.mean_mu)\n",
      "        exp_mu_norm_sq = exp_mu_norm_sq[0] # reshape from (1,1) to (1,)\n",
      "        exp_w = self.means_w\n",
      "        exp_wt_w = np.dot(exp_w.T, exp_w) # TODO fix\n",
      "        exp_z_zt = self.N * self.sigma_z + np.dot(self.means_z, self.means_z.T)\n",
      "        trace_w_z = np.trace(np.dot(exp_wt_w, exp_z_zt))\n",
      "        mu_w_z = np.dot(np.dot(self.mean_mu.T, self.means_w), self.means_z)\n",
      "        x_w_z = np.dot(X.T, self.means_w).T * self.means_z\n",
      "        x_mu = np.dot(X.T, self.mean_mu)\n",
      "        big_sum = np.sum(x_norm_sq) + self.N * exp_mu_norm_sq + trace_w_z + 2*np.sum(mu_w_z) - 2*np.sum(x_w_z) - 2*np.sum(x_mu)\n",
      "        self.b_tau_tilde = self.b_tau + 0.5*big_sum\n",
      "        \n",
      "        \n",
      "    def L(self, X):\n",
      "        \n",
      "        L = 0\n",
      "        \n",
      "        \n",
      "        ###Terms from expectations###\n",
      "        \n",
      "        #N(X_n|Z_n)\n",
      "        #TODO: add this\n",
      "        \n",
      "        #sum ln N(z_n)\n",
      "        L += - self.N / 2 * np.trace(self.sigma_z)\n",
      "        for n in range(0,self.N):\n",
      "            L += - 1/2 * dot(self.means_z.T[n].T, self.means_z.T[n])\n",
      "        \n",
      "#         print \"first\"\n",
      "#         print L\n",
      "            \n",
      "        #sum ln(N)\n",
      "        \n",
      "        for i in range(0, self.d):\n",
      "            L+= -self.d /2 * (special.digamma(self.a_alpha_tilde) - log(self.bs_alpha_tilde[i]) ) - 1/2 * (np.trace(self.sigma_w) + dot(self.means_w.T[i].T, self.means_w.T[i]))\n",
      "        \n",
      "        print L\n",
      "        #sum ln (Ga(a_i))\n",
      "        for i in range(0, self.d):\n",
      "            L += (self.a_alpha - 1) * ( -log(self.bs_alpha_tilde[i]) + special.digamma(self.a_alpha_tilde))- self.b_alpha * (self.a_alpha_tilde / self.bs_alpha_tilde[i])\n",
      "        \n",
      "        print L\n",
      "        #ln(N(\\mu))\n",
      "        L += - self.beta/2*(np.trace(self.sigma_mu) + dot(self.mean_mu.T, self.mean_mu)[0][0])\n",
      "        \n",
      "        print L\n",
      "        #ln(Ga(\\tau))\n",
      "        L +=  -log(self.b_tau_tilde) + special.digamma(self.a_tau_tilde) - (self.a_tau_tilde / self.b_tau_tilde)\n",
      "       \n",
      "        print L\n",
      "        ###Terms from entropies\n",
      "        \n",
      "        #H[Q(Z)]\n",
      "        L += self.N /2 * log(linalg.det(self.sigma_z))\n",
      "        \n",
      "        print L\n",
      "        print linalg.det(self.sigma_mu)\n",
      "        #H[Q(\\mu)]\n",
      "        L += (0.5)*log(linalg.det(self.sigma_mu))\n",
      "        \n",
      "        print L\n",
      "        #H[Q(W)]\n",
      "        L += self.d /2 *log(linalg.det(self.sigma_w))\n",
      "        print \"here\"\n",
      "        print L\n",
      "        #H[Q(\\alpha)]\n",
      "        L += self.d * (self.a_tau_tilde + log(special.gamma(self.a_tau_tilde)) + (1-self.a_alpha_tilde)*special.digamma(self.a_alpha_tilde))\n",
      "        for i in range(0,self.d):\n",
      "            L += -log(self.bs_alpha_tilde[i])\n",
      "        print L\n",
      "        #H[Q(\\tau)]\n",
      "        L += self.a_tau_tilde - log(self.b_tau_tilde) + log(special.gamma(self.a_tau_tilde)) + (1-self.a_tau_tilde) * special.digamma(self.a_tau_tilde)\n",
      "        \n",
      "        print L\n",
      "        return L\n",
      "\n",
      "\n",
      "    \n",
      "    def fit(self, X, iterations = 1000):\n",
      "        L_new = 1\n",
      "        L_previous = 0\n",
      "        for i in range(0,iterations):\n",
      "        #while np.abs(L_new - L_previous) > 0.1:\n",
      "            ##update L\n",
      "            self.__update_z(X)\n",
      "            self.__update_mu(X)\n",
      "            self.__update_w(X)\n",
      "            self.__update_alpha()\n",
      "            self.__update_tau(X)\n",
      "            \n",
      "            if i%(iterations/10) == 1:\n",
      "                print i\n",
      "#             print self.a_alpha_tilde \n",
      "#             print self.bs_alpha_tilde \n",
      "#             print self.a_tau_tilde \n",
      "#             print self.b_tau_tilde \n",
      "#             print \"--------------------\"\n",
      "                \n",
      "            ##L_previous = L_new\n",
      "            #L_new = L(X)\n",
      "            \n",
      "            \n",
      "        "
     ],
     "language": "python",
     "metadata": {},
     "outputs": [
      {
       "output_type": "stream",
       "stream": "stdout",
       "text": [
        "Populating the interactive namespace from numpy and matplotlib\n"
       ]
      },
      {
       "output_type": "stream",
       "stream": "stderr",
       "text": [
        "WARNING: pylab import has clobbered these variables: ['test']\n",
        "`%pylab --no-import-all` prevents importing * from pylab and numpy\n"
       ]
      }
     ],
     "prompt_number": 563
    },
    {
     "cell_type": "markdown",
     "metadata": {},
     "source": [
      "### 1. The Q-distribution (5 points)\n",
      "\n",
      "In variational Bayes, we introduce a distribution $Q(\\Theta)$ over parameters / latent variables in order to make inference tractable. We can think of $Q$ as being an approximation of a certain distribution. What function does $Q$ approximate, $p(D|\\Theta)$, $p(\\Theta|D)$, $p(D, \\Theta)$, $p(\\Theta)$, or $p(D)$, and how do you see that from the equation $\\ln p(D) = \\mathcal{L}(Q) + \\mathrm{KL}(Q||P)$?"
     ]
    },
    {
     "cell_type": "markdown",
     "metadata": {},
     "source": [
      "####Answer:\n",
      "\n",
      "The distribution $Q(\\Theta)$ is an approximation of the true posterior distribution $p(\\Theta|D)$. From the given equation we can see that the lower bound will reach $\\ln P(D)$ when the KL distance of $Q$ and  $p(\\Theta|D)$ is zero , which is true when $Q$ is equal to  $p(\\Theta|D)$.\n",
      "\n",
      "\n",
      "$$\\mathrm{KL}(Q||P) = - \\int Q(\\Theta) ln \\frac{P(\\Theta|D)}{ Q(\\Theta) } d\\Theta$$ \n",
      "\n"
     ]
    },
    {
     "cell_type": "markdown",
     "metadata": {},
     "source": [
      "### 2. The mean-field approximation (15 points)\n",
      "\n",
      "Equation 13 from [Bishop99] is a very powerful result: assuming only that $Q(\\Theta)$ factorizes in a certain way (no assumptions on the functional form of the factors $Q_i$!), we get a set of coupled equations for the $Q_i$.\n",
      "\n",
      "However, the expression given in eq. 13 for Q_i contains a small mistake. Starting with the expression for the lower bound $\\mathcal{L}(Q)$, derive the correct expression (and include your derivation). You can proceed as follows: first, substitute the factorization of $Q$ (eq. 12) into the definition of $\\mathcal{L}(Q)$ and separate $\\mathcal{L}(Q)$ into $Q_i$-dependent and $Q_i$-independent terms. At this point, you should be able to spot the expectations $\\langle\\cdot\\rangle_{k \\neq i}$ over the other $Q$-distributions that appear in Bishop's solution (eq. 13). Now, keeping all $Q_k, k \\neq i$ fixed, maximize the expression with respect to $Q_i$. You should be able to spot the form of the optimal $ln Q_i$, from which $Q_i$ can easily be obtained."
     ]
    },
    {
     "cell_type": "markdown",
     "metadata": {},
     "source": [
      "####Answer\n",
      "$$\\mathcal{L}(Q) = \\int Q(\\Theta) ln \\frac{p(D,\\Theta)}{Q(\\Theta)} d\\Theta = \\int \\prod_{k}[Q_k(\\theta_k)] ln[P(D,\\Theta)] d\\Theta -  \\int \\prod_{k}[Q_k(\\theta_k)] ln[\\prod_{j}[Q_j(\\theta_j)]] d\\Theta = $$\n",
      "\n",
      "\n",
      "$$ = \\int Q_i(\\theta_i) \\Bigg( \\int\\prod_{k\\neq i}[Q_k(\\theta_k)]ln[P(D,\\Theta)] d\\Theta_{ \\backslash i} \\Bigg) d\\theta_i -  \\int Q_i(\\theta_i) \\Bigg[ \\int \\prod_{k\\neq i}[Q_k(\\theta_k)] \\Bigg( ln[Q_i(\\theta_i)] + \\sum_{j \\neq i} ln[Q_j(\\theta_j)]\\Bigg) d\\Theta_{\\backslash i} \\Bigg]  d\\theta_i  = $$\n",
      "\n",
      "\n",
      "$$ = \\int Q_i(\\theta_i) \\langle ln[P(D,\\Theta)] \\rangle_{k\\neq i} d\\theta_i -  \\int  Q_i(\\theta_i) ln[Q_i(\\theta_i)]d\\theta_i  \\int \\prod_{k\\neq i}[Q_k(\\theta_k)] d\\Theta_{\\backslash i}  -  \\int  Q_i(\\theta_i) \\Bigg( \\int \\prod_{k\\neq i}[Q_k(\\theta_k)] \\sum_{j \\neq i}[ ln[Q_j(\\theta_j)]] d\\Theta_{\\backslash i} \\Bigg) d\\theta_i $$\n",
      "\n",
      "\n",
      "$$ = \\int Q_i(\\theta_i) \\langle ln[P(D,\\Theta)] \\rangle_{k\\neq i} d\\theta_i -  \\int  Q_i(\\theta_i) ln[Q_i(\\theta_i)]d\\theta_i  \\int \\prod_{k\\neq i}[Q_k(\\theta_k)] d\\Theta_{\\backslash i}  +  const $$\n",
      "\n",
      "\n",
      "I set\n",
      "\n",
      "$$ ln[\\tilde{p}(D,\\Theta_i)] = \\langle ln[P(D,\\Theta)] \\rangle_{k\\neq i}  + const$$\n",
      "\n",
      "-----"
     ]
    },
    {
     "cell_type": "markdown",
     "metadata": {},
     "source": [
      "$$\\mathcal{L}(Q) = \\int Q(\\Theta) ln \\frac{p(D,\\Theta)}{Q(\\Theta)} d\\Theta = \\int \\prod_{k}[Q_k(\\theta_k)] ln[P(D,\\Theta)] d\\Theta -  \\int \\prod_{k}[Q_k(\\theta_k)] ln[\\prod_{j}[Q_j(\\theta_j)]] d\\Theta = $$\n",
      "\n",
      "\n",
      "$$ = \\int Q_i(\\theta_i) \\Bigg( \\int\\prod_{k\\neq i}[Q_k(\\theta_k)]ln[P(D,\\Theta)] d\\Theta_{ \\backslash i} \\Bigg) d\\theta_i -  \\int Q_i(\\theta_i) \\Bigg[ \\int \\prod_{k\\neq i}[Q_k(\\theta_k)] \\Bigg( ln[Q_i(\\theta_i)] + \\sum_{j \\neq i} ln[Q_j(\\theta_j)]\\Bigg) d\\Theta_{\\backslash i} \\Bigg]  d\\theta_i  = $$\n",
      "\n",
      "\n",
      "$$ = \\int Q_i(\\theta_i) \\langle ln[P(D,\\Theta)] \\rangle_{k\\neq i} d\\theta_i -  \\int  Q_i(\\theta_i) ln[Q_i(\\theta_i)]d\\theta_i  \\int \\prod_{k\\neq i}[Q_k(\\theta_k)] d\\Theta_{\\backslash i}  -  \\int  Q_i(\\theta_i) \\Bigg( \\int \\prod_{k\\neq i}[Q_k(\\theta_k)] \\sum_{j \\neq i}[ ln[Q_j(\\theta_j)]] d\\Theta_{\\backslash i} \\Bigg) d\\theta_i $$\n",
      "\n",
      "\n",
      "$$ = \\int Q_i(\\theta_i) C_1  \\langle ln[P(D,\\Theta)] \\rangle_{k\\neq i} d\\theta_i -  \\int C_1 Q_i(\\theta_i) ln[Q_i(\\theta_i)]d\\theta_i  - \\int  Q_i(\\theta_i) C_1 C_2 d\\theta_i $$\n",
      "\n",
      "\n",
      "$$\\frac{\\partial \\mathcal{L}(Q)}{ \\partial\\theta_i }  = C_1 \\langle ln[P(D,\\Theta)] \\rangle_{k\\neq i} Q_i(\\theta_i) -  C_1 Q_i(\\theta_i) ln[Q_i(\\theta_i)] - C_1 C_2 Q_i(\\theta_i) = 0 $$ $$ \\rightarrow  \\langle ln[P(D,\\Theta)] \\rangle_{k\\neq i} - ln[Q_i(\\theta_i)] - C_2 = 0 $$\n",
      "\n",
      "\n",
      "\n",
      "$$\\rightarrow    Q_i(\\theta_i) = C_3 \\exp [ \\langle ln[P(D,\\Theta)] \\rangle_{k\\neq i} ]$$\n",
      "where \n",
      "$$C_3 = \\frac{1}{ \\int \\exp [ \\langle ln[P(D,\\Theta)] \\rangle_{k\\neq i} ] d\\theta_i}$$\n",
      "And after normalisation:\n",
      "$$Q_i(\\theta_i) = \\frac{\\exp [ \\langle ln[P(D,\\Theta)] \\rangle_{k\\neq i} ]}{ \\int \\exp [ \\langle ln[P(D,\\Theta)] \\rangle_{k\\neq i} ] d\\theta_i}$$\n",
      "\n"
     ]
    },
    {
     "cell_type": "markdown",
     "metadata": {},
     "source": [
      "### 3. The log-probability (10 points)\n",
      "\n",
      "Write down the log-prob of data and parameters, $\\ln p(\\mathbf{X}, \\mathbf{Z}, \\mathbf{W}, \\mathbf{\\alpha}, \\tau, \\mathbf{\\mu})$, in full detail (where $\\mathbf{X}$ are observed, $\\mathbf{Z}$ is latent; this is different from [Bishop99] who uses $\\mathbf{T}$ and $\\mathbf{X}$ respectively, but $\\mathbf{X}$ and $\\mathbf{Z}$ are consistent with the PRML book and are more common nowadays). Could we use this to assess the convergence of the variational Bayesian PCA algorithm? If yes, how? If no, why not?"
     ]
    },
    {
     "cell_type": "markdown",
     "metadata": {},
     "source": [
      "####Answer\n",
      "The log-prob of the data and parameters are given from:\n",
      "\n",
      "\n",
      "$$\\ln P(\\mathbf{X}, \\mathbf{Z}, \\mathbf{W}, \\alpha, \\tau, \\mu) = \\ln\\left(\\prod_{n=1}^N P(x_{n}|z_{n},W,\\mu,\\tau)P(Z)P(W|a)P(a)P(\\mu)P(\\tau)\\right) = $$\n",
      "\n",
      "\n",
      "$$\\ln \\left( \\prod_{n=1}^N \\left[ \\left( \\cfrac{\\tau}{2\\pi}\\right)^{d/2} \\exp \\left\\lbrace - \\cfrac{1}{2} \\tau ||x_n - W z_n - \\mu||^2\\right\\rbrace \\right] \\right. \\prod_{n=1}^N \\left[ \\left( \\cfrac{1}{2\\pi}\\right)^{q/2} \\exp \\left\\lbrace -\\cfrac{1}{2} ||z_n||^2 \\right\\rbrace \\right] \\prod_{i=1}^q \\left[ \\left( \\cfrac{\\alpha_i}{2\\pi}\\right)^{d/2} \\exp \\left\\lbrace -\\cfrac{1}{2} \\alpha_i ||\\mathbf{w}_i||^2 \\right\\rbrace \\right] \\prod_{i=1}^q \\left[ \\cfrac{b_{\\alpha}^{\\alpha_{\\alpha}} \\alpha_i^{\\alpha_{\\alpha - 1}}\\exp \\lbrace -b_{\\alpha}\\alpha_{\\alpha} \\rbrace } {\\Gamma(\\alpha_{\\alpha})} \\right] \\left(\\cfrac{\\beta}{2\\pi}\\right)^{d/2} \\exp \\left\\lbrace -\\cfrac{1}{2}\\beta ||\\mathbf{\\mu}||^2 \\right\\rbrace \\left. \\cfrac{d_{\\tau}^{c_{\\tau}} \\tau^{c_{\\tau} - 1} \\exp \\lbrace -\\tau d_{\\tau} \\rbrace }{\\Gamma(c_{\\tau})} \\right) = $$\n",
      "\n",
      "$$ = \\sum_{n=1}^{N} \\left[ \\ln\\left( \\cfrac{\\tau}{2\\pi}\\right)^{d/2} + ln  \\left( \\cfrac{1}{2\\pi}\\right)^{q/2} + \\left( - \\cfrac{1}{2} \\tau ||x_n - W z_n - \\mu||^2\\right) +  \\left( -\\cfrac{1}{2} ||z_n||^2 \\right)  \\right] + \\sum_{i=1}^{q} \\left[ ln \\left(  \\cfrac{\\alpha_i}{2\\pi}\\right)^{d/2}  + \\left\\lbrace -\\cfrac{1}{2} \\alpha_i ||\\mathbf{w}_i||^2 \\right\\rbrace + \\ln \\left(  \\left[ \\cfrac{b_{\\alpha}^{\\alpha_{\\alpha}} \\alpha_i^{\\alpha_{\\alpha - 1}}\\exp \\lbrace -b_{\\alpha}\\alpha_{\\alpha} \\rbrace } {\\Gamma(\\alpha_{\\alpha})} \\right] \\right) \\right] + \\left( -\\cfrac{1}{2}\\beta ||\\mathbf{\\mu}||^2 \\right) + \\ln \\left( \\cfrac{d_{\\tau}^{c_{\\tau}} \\tau^{c_{\\tau} - 1} \\exp \\lbrace -\\tau d_{\\tau} \\rbrace }{\\Gamma(c_{\\tau})}   \\right) = $$\n",
      "\n",
      "$$ = \\frac{Nd}{2} \\ln\\left( \\cfrac{\\tau}{2\\pi}\\right) + \\frac{Nq}{2} ln \\left( \\cfrac{1}{2\\pi}\\right) + \\sum_{n=1}^{N} \\left[ \\left( - \\cfrac{1}{2} \\tau ||x_n - W z_n - \\mu||^2\\right) +  \\left( -\\cfrac{1}{2} ||z_n||^2 \\right)  \\right] + \\sum_{i=1}^{q} \\left[ ln \\left(  \\cfrac{\\alpha_i}{2\\pi}\\right)^{d/2}  + \\left\\lbrace -\\cfrac{1}{2} \\alpha_i ||\\mathbf{w}_i||^2 \\right\\rbrace + \\ln \\left(  \\left[ \\cfrac{b_{\\alpha}^{\\alpha_{\\alpha}} \\alpha_i^{\\alpha_{\\alpha - 1}}\\exp \\lbrace -b_{\\alpha}\\alpha_{\\alpha} \\rbrace } {\\Gamma(\\alpha_{\\alpha})} \\right] \\right) \\right] + \\left( -\\cfrac{1}{2}\\beta ||\\mathbf{\\mu}||^2 \\right) + \\ln \\left( \\cfrac{d_{\\tau}^{c_{\\tau}} \\tau^{c_{\\tau} - 1} \\exp \\lbrace -\\tau d_{\\tau} \\rbrace }{\\Gamma(c_{\\tau})}   \\right)$$\n"
     ]
    },
    {
     "cell_type": "markdown",
     "metadata": {},
     "source": [
      "### 4. The lower bound $\\mathcal{L}(Q)$ (25 points)\n",
      "\n",
      "Derive an expression for the lower bound $\\mathcal{L}(Q)$ of the log-prob $\\ln p(X)$ for Bayesian PCA, making use of the factorization (eq. 12) and the form of the Q-distributions (eq. 16-20) as listed in [Bishop99]. Show your steps. Implement this function.\n",
      "\n",
      "The following result may be useful:\n",
      "\n",
      "For $x \\sim \\Gamma(a,b)$, we have $\\langle \\ln x\\rangle = \\ln b + \\psi(a)$, where $\\psi(a) = \\frac{\\Gamma'(a)}{\\Gamma(a)}$ is the digamma function (which is implemented in numpy.special)."
     ]
    },
    {
     "cell_type": "markdown",
     "metadata": {},
     "source": [
      "### 5. Optimize variational parameters (50 points)\n",
      "Implement the update equations for the Q-distributions, in the __update_XXX methods. Each update function should re-estimate the variational parameters of the Q-distribution corresponding to one group of variables (i.e. either $Z$, $\\mu$, $W$, $\\alpha$ or $\\tau$)."
     ]
    },
    {
     "cell_type": "code",
     "collapsed": false,
     "input": [
      "mu = np.zeros(10)\n",
      "Sigma = np.diag([5,4,3,2,1,1,1,1,1,1])\n",
      "N = 100\n",
      "X = np.random.multivariate_normal(mu, Sigma, N).T\n"
     ],
     "language": "python",
     "metadata": {},
     "outputs": [],
     "prompt_number": 564
    },
    {
     "cell_type": "markdown",
     "metadata": {},
     "source": [
      "### 6. Learning algorithm (10 points)\n",
      "Implement the learning algorithm described in [Bishop99], i.e. iteratively optimize each of the Q-distributions holding the others fixed.\n",
      "\n",
      "What would be a good way to track convergence of the algorithm? Implement your suggestion.\n",
      "\n",
      "Test the algorithm on some test data drawn from a Gaussian with different variances in orthogonal directions. "
     ]
    },
    {
     "cell_type": "markdown",
     "metadata": {},
     "source": [
      "### 7. PCA Representation of MNIST (10 points)\n",
      "\n",
      "Download the MNIST dataset from here http://deeplearning.net/tutorial/gettingstarted.html (the page contains python code for loading the data). Run your algorithm on (part of) this dataset, and visualize the results.\n"
     ]
    },
    {
     "cell_type": "code",
     "collapsed": false,
     "input": [
      "test = BayesianPCA(10,100)\n",
      "test.fit(X,10000)"
     ],
     "language": "python",
     "metadata": {},
     "outputs": [
      {
       "output_type": "stream",
       "stream": "stdout",
       "text": [
        "1\n",
        "101"
       ]
      },
      {
       "output_type": "stream",
       "stream": "stdout",
       "text": [
        "\n",
        "201"
       ]
      },
      {
       "output_type": "stream",
       "stream": "stdout",
       "text": [
        "\n",
        "301"
       ]
      },
      {
       "output_type": "stream",
       "stream": "stdout",
       "text": [
        "\n",
        "401"
       ]
      },
      {
       "output_type": "stream",
       "stream": "stdout",
       "text": [
        "\n",
        "501"
       ]
      },
      {
       "output_type": "stream",
       "stream": "stdout",
       "text": [
        "\n",
        "601"
       ]
      },
      {
       "output_type": "stream",
       "stream": "stdout",
       "text": [
        "\n",
        "701"
       ]
      },
      {
       "output_type": "stream",
       "stream": "stdout",
       "text": [
        "\n",
        "801"
       ]
      },
      {
       "output_type": "stream",
       "stream": "stdout",
       "text": [
        "\n",
        "901"
       ]
      },
      {
       "output_type": "stream",
       "stream": "stdout",
       "text": [
        "\n"
       ]
      }
     ],
     "prompt_number": 574
    },
    {
     "cell_type": "code",
     "collapsed": false,
     "input": [
      "print test.means_w\n",
      "print test.mean_mu\n",
      "print test.a_tau_tilde/test.b_tau_tilde"
     ],
     "language": "python",
     "metadata": {},
     "outputs": [
      {
       "output_type": "stream",
       "stream": "stdout",
       "text": [
        "[[-0.42941047  1.40658482 -0.11649655 -1.63073022  0.28874722 -0.80290429\n",
        "   0.49731282  1.52146881 -0.1009525  -0.79325138]\n",
        " [-1.23950662 -0.17168814 -0.39475874  0.02234399 -0.29818843  0.20776158\n",
        "   0.10608731  1.59784687  0.45256191 -0.32615142]\n",
        " [ 0.58860387  0.26521214 -0.53692878 -0.71925431  1.36715312 -1.60270028\n",
        "  -0.62637704  1.01649086  0.81100403  0.14640442]\n",
        " [-0.9500071  -1.95395958  0.61634497 -0.17086718 -0.0487396   1.28482618\n",
        "   1.73668706 -1.47344204  1.56596832 -1.17266212]\n",
        " [ 0.60502684  1.00481707  0.42938062  0.19952322 -0.68508372 -2.24277686\n",
        "  -2.0400097   0.8452504   1.06624165  0.66922954]\n",
        " [ 1.65338096 -0.05562938 -0.58272207 -0.23638592 -0.14060285 -0.24035893\n",
        "  -0.90500211 -0.00519134 -1.53005645 -0.84353346]\n",
        " [-2.41864197  1.22779042 -1.76551265 -1.01825657  0.18346637  1.66208695\n",
        "   0.60012152 -0.77380043 -0.40578024  1.11797384]\n",
        " [ 1.25025307  0.28117034  0.12774412  0.52067332  0.27983037 -1.42968487\n",
        "  -0.04540034 -1.5398504   1.39058004 -0.21740534]\n",
        " [-0.49831879 -0.0649018   0.00586203  0.49897295 -0.69194244  0.92010363\n",
        "  -0.91250656 -0.55904093  0.33869645  0.10453707]\n",
        " [ 1.58923198  1.0261279  -0.49481639  0.02760811  0.24147537  1.06410151\n",
        "  -0.5389786  -0.25422158 -0.97259619  1.18849346]]\n",
        "[[-0.25820327]\n",
        " [ 0.1144154 ]\n",
        " [-0.02346001]\n",
        " [ 0.03211407]\n",
        " [-0.12079867]\n",
        " [-0.12483142]\n",
        " [ 0.12640244]\n",
        " [-0.05163189]\n",
        " [ 0.11462523]\n",
        " [ 0.1216135 ]]\n",
        "[ 0.90147441]\n"
       ]
      }
     ],
     "prompt_number": 575
    },
    {
     "cell_type": "code",
     "collapsed": false,
     "input": [],
     "language": "python",
     "metadata": {},
     "outputs": [],
     "prompt_number": 569
    },
    {
     "cell_type": "code",
     "collapsed": false,
     "input": [
      "print X"
     ],
     "language": "python",
     "metadata": {},
     "outputs": [
      {
       "output_type": "stream",
       "stream": "stdout",
       "text": [
        "[[-0.72655144]\n",
        " [ 1.01116451]]\n"
       ]
      }
     ],
     "prompt_number": 182
    },
    {
     "cell_type": "code",
     "collapsed": false,
     "input": [
      "print np.dot(test.means_w,test.means_z) + test.mean_mu "
     ],
     "language": "python",
     "metadata": {},
     "outputs": [
      {
       "output_type": "stream",
       "stream": "stdout",
       "text": [
        "[[-0.72207163]\n",
        " [ 1.00492982]]\n"
       ]
      }
     ],
     "prompt_number": 183
    },
    {
     "cell_type": "code",
     "collapsed": false,
     "input": [
      "a = ones((2,1))\n",
      "b = ones((2,1))\n",
      "\n",
      "print dot(a.T,b)"
     ],
     "language": "python",
     "metadata": {},
     "outputs": [
      {
       "output_type": "stream",
       "stream": "stdout",
       "text": [
        "[[ 2.]]\n"
       ]
      }
     ],
     "prompt_number": 314
    },
    {
     "cell_type": "code",
     "collapsed": false,
     "input": [],
     "language": "python",
     "metadata": {},
     "outputs": [],
     "prompt_number": 262
    },
    {
     "cell_type": "code",
     "collapsed": false,
     "input": [
      "import pylab as pl\n",
      "\n",
      "def _blob(x,y,area,colour):\n",
      "    \"\"\"\n",
      "    Source: http://wiki.scipy.org/Cookbook/Matplotlib/HintonDiagrams\n",
      "    Draws a square-shaped blob with the given area (< 1) at\n",
      "    the given coordinates.\n",
      "    \"\"\"\n",
      "    hs = np.sqrt(area) / 2\n",
      "    xcorners = np.array([x - hs, x + hs, x + hs, x - hs])\n",
      "    ycorners = np.array([y - hs, y - hs, y + hs, y + hs])\n",
      "    pl.fill(xcorners, ycorners, colour, edgecolor=colour)\n",
      "    \n",
      "def hinton(W, maxWeight=None):\n",
      "    \"\"\"\n",
      "    Source: http://wiki.scipy.org/Cookbook/Matplotlib/HintonDiagrams\n",
      "    Draws a Hinton diagram for visualizing a weight matrix.\n",
      "    Temporarily disables matplotlib interactive mode if it is on,\n",
      "    otherwise this takes forever.\n",
      "    \"\"\"\n",
      "    reenable = False\n",
      "    if pl.isinteractive():\n",
      "        pl.ioff()\n",
      "    pl.clf()\n",
      "    height, width = W.shape\n",
      "    if not maxWeight:\n",
      "        maxWeight = 2**np.ceil(np.log(np.max(np.abs(W)))/np.log(2))\n",
      "\n",
      "    pl.fill(np.array([0,width,width,0]),np.array([0,0,height,height]),'gray')\n",
      "    pl.axis('off')\n",
      "    pl.axis('equal')\n",
      "    for x in xrange(width):\n",
      "        for y in xrange(height):\n",
      "            _x = x+1\n",
      "            _y = y+1\n",
      "            w = W[y,x]\n",
      "            if w > 0:\n",
      "                _blob(_x - 0.5, height - _y + 0.5, min(1,w/maxWeight),'white')\n",
      "            elif w < 0:\n",
      "                _blob(_x - 0.5, height - _y + 0.5, min(1,-w/maxWeight),'black')\n",
      "    if reenable:\n",
      "        pl.ion()\n",
      "    pl.show()\n",
      "\n",
      "hinton(test.means_w + test.mean_mu)"
     ],
     "language": "python",
     "metadata": {},
     "outputs": [
      {
       "metadata": {},
       "output_type": "display_data",
       "png": "[encoded data removed]",
       "text": [
        "<matplotlib.figure.Figure at 0x37458d0>"
       ]
      }
     ],
     "prompt_number": 570
    },
    {
     "cell_type": "code",
     "collapsed": false,
     "input": [
      "a = np.array([[1 , 2]])"
     ],
     "language": "python",
     "metadata": {},
     "outputs": []
    }
   ],
   "metadata": {}
  }
 ]
}