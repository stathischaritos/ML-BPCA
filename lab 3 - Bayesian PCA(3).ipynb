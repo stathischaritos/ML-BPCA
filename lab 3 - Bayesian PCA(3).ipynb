{
 "metadata": {
  "name": ""
 },
 "nbformat": 3,
 "nbformat_minor": 0,
 "worksheets": [
  {
   "cells": [
    {
     "cell_type": "markdown",
     "metadata": {},
     "source": [
      "# Lab 3: Bayesian PCA\n",
      "\n",
      "### Machine Learning: Principles and Methods, November 2013\n",
      "\n",
      "* The lab exercises should be made in groups of three people, or at least two people.\n",
      "* The deadline is Friday, 13 December, 23:59.\n",
      "* Assignment should be sent to T.S.Cohen at uva dot nl (Taco Cohen). The subject line of your email should be \"[MLPM2013] lab#_lastname1\\_lastname2\\_lastname3\". \n",
      "* Put your and your teammates' names in the body of the email\n",
      "* Attach the .IPYNB (IPython Notebook) file containing your code and answers. Naming of the file follows the same rule as the subject line. For example, if the subject line is \"[MLPM2013] lab01\\_Kingma\\_Hu\", the attached file should be \"lab01\\_Kingma\\_Hu.ipynb\". Only use underscores (\"\\_\") to connect names, otherwise the files cannot be parsed.\n",
      "\n",
      "Notes on implementation:\n",
      "\n",
      "* You should write your code and answers in an IPython Notebook: http://ipython.org/notebook.html. If you have problems, please contact us.\n",
      "* Among the first lines of your notebook should be \"%pylab inline\". This imports all required modules, and your plots will appear inline.\n",
      "* NOTE: test your code and make sure we can run your notebook / scripts!"
     ]
    },
    {
     "cell_type": "markdown",
     "metadata": {},
     "source": [
      "### Introduction\n",
      "\n",
      "In this lab assignment, we will implement a variational algorithm for Bayesian PCA. Unlike regular PCA based on maximization of retained variance or minimization of projection error (see Bishop, 12.1.1 and 12.1.2), probabilistic PCA defines a proper density model over observed and latent variables. We will work with a fully Bayesian model this time, which is to say that we will put priors on our parameters and will be interested in learning the posterior over those parameters. Bayesian methods are very elegant, but require a shift in mindset: we are no longer looking for a point estimate of the parameters (as in maximum likelihood or MAP), but for a full posterior distribution.\n",
      "\n",
      "The integrals involved in a Bayesian analysis are usually analytically intractable, so that we must resort to approximations. In this lab assignment, we will implement the variational method described in Bishop99. Chapters 10 and 12 of the PRML book contain additional material that may be useful when doing this exercise.\n",
      "\n",
      "* [Bishop99] Variational Principal Components, C. Bishop, ICANN 1999 - http://research.microsoft.com/pubs/67241/bishop-vpca-icann-99.pdf\n",
      "\n",
      "Below, you will find some code to get you started."
     ]
    },
    {
     "cell_type": "code",
     "collapsed": false,
     "input": [
      "%pylab inline\n",
      "import scipy.special as sp\n",
      "import scipy.special as special\n",
      "class BayesianPCA(object):\n",
      "    \n",
      "    def __init__(self, d, N, a_alpha=10e-3, b_alpha=10e-3, a_tau=10e-3, b_tau=10e-3, beta=10e-3):\n",
      "        \"\"\"\n",
      "        \"\"\"\n",
      "        self.d = d # number of dimensions\n",
      "        q = d\n",
      "        self.q = q\n",
      "        self.N = N # number of data points\n",
      "        \n",
      "        # Hyperparameters\n",
      "        self.a_alpha = a_alpha\n",
      "        self.b_alpha = b_alpha\n",
      "        self.a_tau = a_tau\n",
      "        self.b_tau = b_tau\n",
      "        self.beta = beta\n",
      "\n",
      "        # Variational parameters\n",
      "        self.means_z = np.random.randn(q, N) # called x in bishop99\n",
      "        self.sigma_z = np.random.randn(q, q)\n",
      "        self.mean_mu = np.random.randn(d, 1)\n",
      "        self.sigma_mu = np.random.randn(d, d)\n",
      "        self.means_w = np.random.randn(d, q)\n",
      "        self.sigma_w = np.random.randn(q, q)\n",
      "        self.a_alpha_tilde = self.a_alpha + d/2.0\n",
      "        self.bs_alpha_tilde = np.abs(np.random.randn(q, 1))\n",
      "        self.a_tau_tilde = self.a_tau + (N*d)/2.0\n",
      "        self.b_tau_tilde = np.abs(np.random.randn(1))\n",
      "    \n",
      "    def __update_z(self, X):\n",
      "        self.sigma_z = np.linalg.inv(np.identity(self.d) + (self.a_tau_tilde/self.b_tau_tilde)*( np.trace(np.cov(self.means_w)) + dot(self.means_w.T,self.means_w)))\n",
      "        self.means_z = (self.a_tau_tilde/self.b_tau_tilde)*dot(dot(self.sigma_z,self.means_w.T) , (X - self.mean_mu))\n",
      "    \n",
      "    def __update_mu(self,X):\n",
      "        E_tau = self.a_tau_tilde / self.b_tau_tilde\n",
      "        E_W = self.means_w\n",
      "        S = 0\n",
      "        for n in range(0,self.N):\n",
      "            t_n = np.reshape(X.T[n],(self.d,1)) \n",
      "            x_n = np.reshape(self.means_z.T[n],(self.q,1)) \n",
      "            S += t_n - dot(E_W,x_n)\n",
      "        self.mean_mu = E_tau*dot(self.sigma_mu,S)\n",
      "        self.sigma_mu = np.identity(self.d) / (self.beta + self.N*(self.a_tau_tilde/self.b_tau_tilde)) \n",
      "        \n",
      "    def __update_w(self, X):\n",
      "        self.sigma_w = np.linalg.inv( diagflat(self.a_alpha_tilde/self.bs_alpha_tilde) + (self.a_tau_tilde/self.b_tau_tilde)*(self.N*self.sigma_z + dot(self.means_z,self.means_z.T) ) )\n",
      "        E_tau = self.a_tau_tilde / self.b_tau_tilde\n",
      "        for k in range(0,self.d):\n",
      "            S = 0\n",
      "            mu_k = self.mean_mu[k]\n",
      "            for n in range(0,self.N):\n",
      "                t_n_k = X.T[n][k]\n",
      "                x_n = np.reshape(self.means_z.T[n],(self.q,1))\n",
      "                S += x_n*(t_n_k - mu_k)\n",
      "            self.means_w[k] = np.reshape( E_tau* dot(self.sigma_w,S) , self.q )\n",
      "    \n",
      "    \n",
      "    def __update_alpha(self):\n",
      "        self.a_alpha_tilde = self.a_alpha + self.d/2\n",
      "        for i in range(0 , self.q):\n",
      "            self.bs_alpha_tilde[i] = self.b_alpha + (np.trace(np.cov(self.means_w)) +dot(self.means_w.T[i].T,self.means_w.T[i])) / 2\n",
      "         \n",
      "        \n",
      "    def __update_tau(self, X):\n",
      "        self.a_tau_tilde = self.a_tau + self.N*self.d / 2\n",
      "        A = 0\n",
      "        E_W = self.means_w\n",
      "        for i in range(0,self.N):\n",
      "            t_n = np.reshape(X.T[i],(self.d,1))\n",
      "            x_n = np.reshape(self.means_z.T[i],(self.q,1))\n",
      "            A += dot(t_n.T,t_n) + np.trace(self.sigma_mu) + dot(self.mean_mu.T,self.mean_mu)\n",
      "            A += np.trace( dot( np.trace(self.sigma_w) + dot(E_W.T,E_W), self.sigma_z + dot(x_n,x_n.T)) )\n",
      "            A += 2*dot(dot(self.mean_mu.T,self.means_w),x_n)\n",
      "            A += -2* dot(dot(t_n.T,self.means_w),x_n) - 2*dot(t_n.T,self.mean_mu)\n",
      "        self.b_tau_tilde = self.b_tau + 0.5*A\n",
      "\n",
      "    def L(self, X):\n",
      "        \n",
      "        L = 0\n",
      "        ###Terms from expectations###\n",
      "        #N(X_n|Z_n)\n",
      "        L += -self.N*self.d/2 * (special.digamma(self.a_tau_tilde) - np.log(self.b_tau_tilde)) - self.d/2 *np.log(2*np.pi)\n",
      "        S = 0\n",
      "        for n in range(0,self.N):\n",
      "            S += dot(X[:,n].T, X[:,n])\n",
      "            S += dot(dot(X[:,n].T,self.means_w),self.means_z[:,n]) \n",
      "            S += dot(X[:,n].T, self.mean_mu)[0]\n",
      "            S -= dot(dot(self.means_w.T,self.means_z[:,n].T) ,X[:,n])\n",
      "            S -= dot(dot(self.means_w.T,self.means_z[:,n].T) ,self.mean_mu)    \n",
      "            S += dot( self.mean_mu.T,X[:,n])[0]\n",
      "            S -= dot(dot(self.mean_mu.T,self.means_w) ,self.means_z[:,n]) \n",
      "            S += np.trace(self.sigma_mu) + dot( self.mean_mu.T,self.mean_mu)[0]\n",
      "            S += dot(self.mean_mu.T, X[:,n].T)[0]\n",
      "            S -= dot (dot (self.mean_mu.T, self.means_w), self.means_z[:,n])[0]\n",
      "            S += np.trace(self.sigma_mu) + dot(self.mean_mu.T, self.mean_mu)[0][0]\n",
      "        L +=  self.N/2 *(self.a_tau_tilde/self.b_tau_tilde)*S\n",
      "        \n",
      "        #sum ln N(z_n)\n",
      "        L += - self.N / 2 * np.trace(self.sigma_z) - self.N*self.d/2 *np.log(2*np.pi)\n",
      "        for n in range(0,self.N):\n",
      "            L += - 1/2 * dot(self.means_z.T[n].T, self.means_z.T[n])\n",
      "        \n",
      "        #sum ln(W|a)\n",
      "        L += self.q * self.d /2 * ((special.digamma(self.a_alpha_tilde) - log(self.bs_alpha_tilde[i][0]) ) - np.log(2*np.pi) )\n",
      "        for i in range(0, self.q):\n",
      "            L+= -self.q /2 * (self.a_alpha_tilde / self.bs_alpha_tilde[i][0]) /   (- 1/2) *  (np.trace(self.sigma_w) + dot(self.means_w.T[i].T, self.means_w.T[i]))\n",
      "        \n",
      "        #sum ln (Ga(a_i))\n",
      "        L += self.q * (- log(special.gamma(self.a_alpha)) + self.a_alpha * log(self.b_alpha) )\n",
      "        for i in range(0, self.q):\n",
      "            L +=  -log(self.bs_alpha_tilde[i][0]) + special.digamma(self.a_alpha_tilde)- self.b_alpha * (self.a_alpha_tilde / self.bs_alpha_tilde[i][0])\n",
      "        \n",
      "        #ln(N(\\mu))\n",
      "        L += self.d/2 * (np.log(self.beta) - np.log(2 * np.pi) ) - self.beta/2*(np.trace(self.sigma_mu) + dot(self.mean_mu.T, self.mean_mu)[0][0])\n",
      "        \n",
      "        #ln(Ga(\\tau))\n",
      "        L +=  -log(self.b_tau_tilde[0]) + special.digamma(self.a_tau_tilde) - (self.a_tau_tilde / self.b_tau_tilde[0])\n",
      "\n",
      "        ###Terms from entropies\n",
      "        #H[Q(Z)]\n",
      "        L += self.N*( self.d/2*(1+ np.log(2*np.pi)) + 1/2 * log(linalg.det(self.sigma_z)))\n",
      "        \n",
      "        #H[Q(\\mu)]\n",
      "        L += (0.5)*log(linalg.det(self.sigma_mu))  + self.d/2*(1+ np.log(2*np.pi))\n",
      "        \n",
      "        #H[Q(W)]\n",
      "        L += self.d*(self.d /2 *(1+ np.log(2*np.pi)) + 1/2*log(linalg.det(self.sigma_w)) )\n",
      "        \n",
      "        #H[Q(\\alpha)]\n",
      "        L += self.q * (self.a_alpha_tilde + log(special.gamma(self.a_alpha_tilde)) + (1-self.a_alpha_tilde)*special.digamma(self.a_alpha_tilde)) \n",
      "        for i in range(0,self.d):\n",
      "            L += -log(self.bs_alpha_tilde[i][0])\n",
      "      \n",
      "        #H[Q(\\tau)]\n",
      "        L += self.a_tau_tilde - log(self.b_tau_tilde[0]) + (1-self.a_tau_tilde) * special.digamma(self.a_tau_tilde)\n",
      "        ## the term Gamma(a_tau_tilde) is inf so we ignore it...\n",
      "        \n",
      "        return L\n",
      "    \n",
      "    def fit(self, X,iterations = 1000, threshold = 1):\n",
      "        self.__update_tau(X)\n",
      "        L_previous = -1000000000\n",
      "        L_new = 0\n",
      "        i = 0\n",
      "        for i in range(iterations):\n",
      "            self.__update_tau(X)\n",
      "            self.__update_mu(X)\n",
      "            self.__update_alpha()            \n",
      "            self.__update_w(X)\n",
      "            self.__update_z(X)  \n",
      "            if i % 100 == 1 :\n",
      "                print i\n",
      "                print self.L(X)\n",
      "            i += 1\n",
      "            L_previous = L_new\n",
      "            L_new = self.L(X)\n",
      "            if abs(L_new - L_previous) < threshold:\n",
      "                break\n",
      "        "
     ],
     "language": "python",
     "metadata": {},
     "outputs": [
      {
       "output_type": "stream",
       "stream": "stdout",
       "text": [
        "Populating the interactive namespace from numpy and matplotlib\n"
       ]
      },
      {
       "output_type": "stream",
       "stream": "stderr",
       "text": [
        "WARNING: pylab import has clobbered these variables: ['test']\n",
        "`%pylab --no-import-all` prevents importing * from pylab and numpy\n"
       ]
      }
     ],
     "prompt_number": 1306
    },
    {
     "cell_type": "code",
     "collapsed": false,
     "input": [
      "mu = np.zeros(10)\n",
      "Sigma = np.diag([5,4,3,2,1,1,1,1,1,1])\n",
      "N = 100\n",
      "X = np.random.multivariate_normal(mu, Sigma, N).T"
     ],
     "language": "python",
     "metadata": {},
     "outputs": [],
     "prompt_number": 1307
    },
    {
     "cell_type": "code",
     "collapsed": false,
     "input": [
      "test = BayesianPCA(10,100)"
     ],
     "language": "python",
     "metadata": {},
     "outputs": [],
     "prompt_number": 1310
    },
    {
     "cell_type": "code",
     "collapsed": false,
     "input": [
      "test.fit(X,1000)"
     ],
     "language": "python",
     "metadata": {},
     "outputs": [
      {
       "ename": "UnboundLocalError",
       "evalue": "local variable 'i' referenced before assignment",
       "output_type": "pyerr",
       "traceback": [
        "\u001b[1;31m---------------------------------------------------------------------------\u001b[0m\n\u001b[1;31mUnboundLocalError\u001b[0m                         Traceback (most recent call last)",
        "\u001b[1;32m<ipython-input-1311-3d8cb81b75a4>\u001b[0m in \u001b[0;36m<module>\u001b[1;34m()\u001b[0m\n\u001b[1;32m----> 1\u001b[1;33m \u001b[0mtest\u001b[0m\u001b[1;33m.\u001b[0m\u001b[0mfit\u001b[0m\u001b[1;33m(\u001b[0m\u001b[0mX\u001b[0m\u001b[1;33m,\u001b[0m\u001b[1;36m1000\u001b[0m\u001b[1;33m)\u001b[0m\u001b[1;33m\u001b[0m\u001b[0m\n\u001b[0m",
        "\u001b[1;32m<ipython-input-1306-b7418a76d9eb>\u001b[0m in \u001b[0;36mfit\u001b[1;34m(self, X, iterations, threshold)\u001b[0m\n\u001b[0;32m    157\u001b[0m             \u001b[0mi\u001b[0m \u001b[1;33m+=\u001b[0m \u001b[1;36m1\u001b[0m\u001b[1;33m\u001b[0m\u001b[0m\n\u001b[0;32m    158\u001b[0m             \u001b[0mL_previous\u001b[0m \u001b[1;33m=\u001b[0m \u001b[0mL_new\u001b[0m\u001b[1;33m\u001b[0m\u001b[0m\n\u001b[1;32m--> 159\u001b[1;33m             \u001b[0mL_new\u001b[0m \u001b[1;33m=\u001b[0m \u001b[0mself\u001b[0m\u001b[1;33m.\u001b[0m\u001b[0mL\u001b[0m\u001b[1;33m(\u001b[0m\u001b[0mX\u001b[0m\u001b[1;33m)\u001b[0m\u001b[1;33m\u001b[0m\u001b[0m\n\u001b[0m\u001b[0;32m    160\u001b[0m             \u001b[1;32mif\u001b[0m \u001b[0mabs\u001b[0m\u001b[1;33m(\u001b[0m\u001b[0mL_new\u001b[0m \u001b[1;33m-\u001b[0m \u001b[0mL_previous\u001b[0m\u001b[1;33m)\u001b[0m \u001b[1;33m<\u001b[0m \u001b[0mthreshold\u001b[0m\u001b[1;33m:\u001b[0m\u001b[1;33m\u001b[0m\u001b[0m\n\u001b[0;32m    161\u001b[0m                 \u001b[1;32mbreak\u001b[0m\u001b[1;33m\u001b[0m\u001b[0m\n",
        "\u001b[1;32m<ipython-input-1306-b7418a76d9eb>\u001b[0m in \u001b[0;36mL\u001b[1;34m(self, X)\u001b[0m\n\u001b[0;32m    105\u001b[0m \u001b[1;33m\u001b[0m\u001b[0m\n\u001b[0;32m    106\u001b[0m         \u001b[1;31m#sum ln(W|a)\u001b[0m\u001b[1;33m\u001b[0m\u001b[1;33m\u001b[0m\u001b[0m\n\u001b[1;32m--> 107\u001b[1;33m         \u001b[0mL\u001b[0m \u001b[1;33m+=\u001b[0m \u001b[0mself\u001b[0m\u001b[1;33m.\u001b[0m\u001b[0mq\u001b[0m \u001b[1;33m*\u001b[0m \u001b[0mself\u001b[0m\u001b[1;33m.\u001b[0m\u001b[0md\u001b[0m \u001b[1;33m/\u001b[0m\u001b[1;36m2\u001b[0m \u001b[1;33m*\u001b[0m \u001b[1;33m(\u001b[0m\u001b[1;33m(\u001b[0m\u001b[0mspecial\u001b[0m\u001b[1;33m.\u001b[0m\u001b[0mdigamma\u001b[0m\u001b[1;33m(\u001b[0m\u001b[0mself\u001b[0m\u001b[1;33m.\u001b[0m\u001b[0ma_alpha_tilde\u001b[0m\u001b[1;33m)\u001b[0m \u001b[1;33m-\u001b[0m \u001b[0mlog\u001b[0m\u001b[1;33m(\u001b[0m\u001b[0mself\u001b[0m\u001b[1;33m.\u001b[0m\u001b[0mbs_alpha_tilde\u001b[0m\u001b[1;33m[\u001b[0m\u001b[0mi\u001b[0m\u001b[1;33m]\u001b[0m\u001b[1;33m[\u001b[0m\u001b[1;36m0\u001b[0m\u001b[1;33m]\u001b[0m\u001b[1;33m)\u001b[0m \u001b[1;33m)\u001b[0m \u001b[1;33m-\u001b[0m \u001b[0mnp\u001b[0m\u001b[1;33m.\u001b[0m\u001b[0mlog\u001b[0m\u001b[1;33m(\u001b[0m\u001b[1;36m2\u001b[0m\u001b[1;33m*\u001b[0m\u001b[0mnp\u001b[0m\u001b[1;33m.\u001b[0m\u001b[0mpi\u001b[0m\u001b[1;33m)\u001b[0m \u001b[1;33m)\u001b[0m\u001b[1;33m\u001b[0m\u001b[0m\n\u001b[0m\u001b[0;32m    108\u001b[0m         \u001b[1;32mfor\u001b[0m \u001b[0mi\u001b[0m \u001b[1;32min\u001b[0m \u001b[0mrange\u001b[0m\u001b[1;33m(\u001b[0m\u001b[1;36m0\u001b[0m\u001b[1;33m,\u001b[0m \u001b[0mself\u001b[0m\u001b[1;33m.\u001b[0m\u001b[0mq\u001b[0m\u001b[1;33m)\u001b[0m\u001b[1;33m:\u001b[0m\u001b[1;33m\u001b[0m\u001b[0m\n\u001b[0;32m    109\u001b[0m             \u001b[0mL\u001b[0m\u001b[1;33m+=\u001b[0m \u001b[1;33m-\u001b[0m\u001b[0mself\u001b[0m\u001b[1;33m.\u001b[0m\u001b[0mq\u001b[0m \u001b[1;33m/\u001b[0m\u001b[1;36m2\u001b[0m \u001b[1;33m*\u001b[0m \u001b[1;33m(\u001b[0m\u001b[0mself\u001b[0m\u001b[1;33m.\u001b[0m\u001b[0ma_alpha_tilde\u001b[0m \u001b[1;33m/\u001b[0m \u001b[0mself\u001b[0m\u001b[1;33m.\u001b[0m\u001b[0mbs_alpha_tilde\u001b[0m\u001b[1;33m[\u001b[0m\u001b[0mi\u001b[0m\u001b[1;33m]\u001b[0m\u001b[1;33m[\u001b[0m\u001b[1;36m0\u001b[0m\u001b[1;33m]\u001b[0m\u001b[1;33m)\u001b[0m \u001b[1;33m/\u001b[0m   \u001b[1;33m(\u001b[0m\u001b[1;33m-\u001b[0m \u001b[1;36m1\u001b[0m\u001b[1;33m/\u001b[0m\u001b[1;36m2\u001b[0m\u001b[1;33m)\u001b[0m \u001b[1;33m*\u001b[0m  \u001b[1;33m(\u001b[0m\u001b[0mnp\u001b[0m\u001b[1;33m.\u001b[0m\u001b[0mtrace\u001b[0m\u001b[1;33m(\u001b[0m\u001b[0mself\u001b[0m\u001b[1;33m.\u001b[0m\u001b[0msigma_w\u001b[0m\u001b[1;33m)\u001b[0m \u001b[1;33m+\u001b[0m \u001b[0mdot\u001b[0m\u001b[1;33m(\u001b[0m\u001b[0mself\u001b[0m\u001b[1;33m.\u001b[0m\u001b[0mmeans_w\u001b[0m\u001b[1;33m.\u001b[0m\u001b[0mT\u001b[0m\u001b[1;33m[\u001b[0m\u001b[0mi\u001b[0m\u001b[1;33m]\u001b[0m\u001b[1;33m.\u001b[0m\u001b[0mT\u001b[0m\u001b[1;33m,\u001b[0m \u001b[0mself\u001b[0m\u001b[1;33m.\u001b[0m\u001b[0mmeans_w\u001b[0m\u001b[1;33m.\u001b[0m\u001b[0mT\u001b[0m\u001b[1;33m[\u001b[0m\u001b[0mi\u001b[0m\u001b[1;33m]\u001b[0m\u001b[1;33m)\u001b[0m\u001b[1;33m)\u001b[0m\u001b[1;33m\u001b[0m\u001b[0m\n",
        "\u001b[1;31mUnboundLocalError\u001b[0m: local variable 'i' referenced before assignment"
       ]
      }
     ],
     "prompt_number": 1311
    },
    {
     "cell_type": "code",
     "collapsed": false,
     "input": [
      "# print test.bs_alpha_tilde\n",
      "print test.means_w\n",
      "# print test.mean_mu\n",
      "print test.a_tau_tilde/test.b_tau_tilde"
     ],
     "language": "python",
     "metadata": {},
     "outputs": [
      {
       "output_type": "stream",
       "stream": "stdout",
       "text": [
        "[[ 0.08035963  0.12593125 -0.07617231  0.17478573  0.28037497 -1.86750951]\n",
        " [ 1.68996833  0.57974038 -0.31586383 -0.52557408 -0.08996984 -1.28672783]\n",
        " [-2.26959246 -0.72226427  0.63986937  0.990598    0.19086011 -0.35837177]\n",
        " [-0.47766829 -0.23942715  0.20727889 -0.05612781 -0.30951172  2.09928602]\n",
        " [-0.21978089  0.30663327  0.07130374 -0.00858309  0.08318492 -1.25423782]\n",
        " [ 1.18521299  0.08521108 -0.38432707 -0.59811397 -0.25380036  2.17424916]]\n",
        "[[ 1.07382755]]\n"
       ]
      }
     ],
     "prompt_number": 1303
    },
    {
     "cell_type": "markdown",
     "metadata": {},
     "source": [
      "### 1. The Q-distribution (5 points)\n",
      "\n",
      "In variational Bayes, we introduce a distribution $Q(\\Theta)$ over parameters / latent variables in order to make inference tractable. We can think of $Q$ as being an approximation of a certain distribution. What function does $Q$ approximate, $p(D|\\Theta)$, $p(\\Theta|D)$, $p(D, \\Theta)$, $p(\\Theta)$, or $p(D)$, and how do you see that from the equation $\\ln p(D) = \\mathcal{L}(Q) + \\mathrm{KL}(Q||P)$?"
     ]
    },
    {
     "cell_type": "code",
     "collapsed": false,
     "input": [
      "import pylab as pl\n",
      "\n",
      "def _blob(x,y,area,colour):\n",
      "    \"\"\"\n",
      "    Source: http://wiki.scipy.org/Cookbook/Matplotlib/HintonDiagrams\n",
      "    Draws a square-shaped blob with the given area (< 1) at\n",
      "    the given coordinates.\n",
      "    \"\"\"\n",
      "    hs = np.sqrt(area) / 2\n",
      "    xcorners = np.array([x - hs, x + hs, x + hs, x - hs])\n",
      "    ycorners = np.array([y - hs, y - hs, y + hs, y + hs])\n",
      "    pl.fill(xcorners, ycorners, colour, edgecolor=colour)\n",
      "    \n",
      "def hinton(W, maxWeight=None):\n",
      "    \"\"\"\n",
      "    Source: http://wiki.scipy.org/Cookbook/Matplotlib/HintonDiagrams\n",
      "    Draws a Hinton diagram for visualizing a weight matrix.\n",
      "    Temporarily disables matplotlib interactive mode if it is on,\n",
      "    otherwise this takes forever.\n",
      "    \"\"\"\n",
      "    reenable = False\n",
      "    if pl.isinteractive():\n",
      "        pl.ioff()\n",
      "    pl.clf()\n",
      "    height, width = W.shape\n",
      "    if not maxWeight:\n",
      "        maxWeight = 2**np.ceil(np.log(np.max(np.abs(W)))/np.log(2))\n",
      "\n",
      "    pl.fill(np.array([0,width,width,0]),np.array([0,0,height,height]),'gray')\n",
      "    pl.axis('off')\n",
      "    pl.axis('equal')\n",
      "    for x in xrange(width):\n",
      "        for y in xrange(height):\n",
      "            _x = x+1\n",
      "            _y = y+1\n",
      "            w = W[y,x]\n",
      "            if w > 0:\n",
      "                _blob(_x - 0.5, height - _y + 0.5, min(1,w/maxWeight),'white')\n",
      "            elif w < 0:\n",
      "                _blob(_x - 0.5, height - _y + 0.5, min(1,-w/maxWeight),'black')\n",
      "    if reenable:\n",
      "        pl.ion()\n",
      "    pl.show()\n",
      "\n",
      "hinton(test.means_w )"
     ],
     "language": "python",
     "metadata": {},
     "outputs": [
      {
       "metadata": {},
       "output_type": "display_data",
       "png": "[encoded data removed]",
       "text": [
        "<matplotlib.figure.Figure at 0x424b090>"
       ]
      }
     ],
     "prompt_number": 1304
    },
    {
     "cell_type": "markdown",
     "metadata": {},
     "source": [
      "### 2. The mean-field approximation (15 points)\n",
      "\n",
      "Equation 13 from [Bishop99] is a very powerful result: assuming only that $Q(\\Theta)$ factorizes in a certain way (no assumptions on the functional form of the factors $Q_i$!), we get a set of coupled equations for the $Q_i$.\n",
      "\n",
      "However, the expression given in eq. 13 for Q_i contains a small mistake. Starting with the expression for the lower bound $\\mathcal{L}(Q)$, derive the correct expression (and include your derivation). You can proceed as follows: first, substitute the factorization of $Q$ (eq. 12) into the definition of $\\mathcal{L}(Q)$ and separate $\\mathcal{L}(Q)$ into $Q_i$-dependent and $Q_i$-independent terms. At this point, you should be able to spot the expectations $\\langle\\cdot\\rangle_{k \\neq i}$ over the other $Q$-distributions that appear in Bishop's solution (eq. 13). Now, keeping all $Q_k, k \\neq i$ fixed, maximize the expression with respect to $Q_i$. You should be able to spot the form of the optimal $ln Q_i$, from which $Q_i$ can easily be obtained."
     ]
    },
    {
     "cell_type": "markdown",
     "metadata": {},
     "source": [
      "### 3. The log-probability (10 points)\n",
      "\n",
      "Write down the log-prob of data and parameters, $\\ln p(\\mathbf{X}, \\mathbf{Z}, \\mathbf{W}, \\mathbf{\\alpha}, \\tau, \\mathbf{\\mu})$, in full detail (where $\\mathbf{X}$ are observed, $\\mathbf{Z}$ is latent; this is different from [Bishop99] who uses $\\mathbf{T}$ and $\\mathbf{X}$ respectively, but $\\mathbf{X}$ and $\\mathbf{Z}$ are consistent with the PRML book and are more common nowadays). Could we use this to assess the convergence of the variational Bayesian PCA algorithm? If yes, how? If no, why not?"
     ]
    },
    {
     "cell_type": "markdown",
     "metadata": {},
     "source": [
      "### 4. The lower bound $\\mathcal{L}(Q)$ (25 points)\n",
      "\n",
      "Derive an expression for the lower bound $\\mathcal{L}(Q)$ of the log-prob $\\ln p(X)$ for Bayesian PCA, making use of the factorization (eq. 12) and the form of the Q-distributions (eq. 16-20) as listed in [Bishop99]. Show your steps. Implement this function.\n",
      "\n",
      "The following result may be useful:\n",
      "\n",
      "For $x \\sim \\Gamma(a,b)$, we have $\\langle \\ln x\\rangle = \\ln b + \\psi(a)$, where $\\psi(a) = \\frac{\\Gamma'(a)}{\\Gamma(a)}$ is the digamma function (which is implemented in numpy.special)."
     ]
    },
    {
     "cell_type": "markdown",
     "metadata": {},
     "source": [
      "### 5. Optimize variational parameters (50 points)\n",
      "Implement the update equations for the Q-distributions, in the __update_XXX methods. Each update function should re-estimate the variational parameters of the Q-distribution corresponding to one group of variables (i.e. either $Z$, $\\mu$, $W$, $\\alpha$ or $\\tau$)."
     ]
    },
    {
     "cell_type": "markdown",
     "metadata": {},
     "source": [
      "### 6. Learning algorithm (10 points)\n",
      "Implement the learning algorithm described in [Bishop99], i.e. iteratively optimize each of the Q-distributions holding the others fixed.\n",
      "\n",
      "What would be a good way to track convergence of the algorithm? Implement your suggestion.\n",
      "\n",
      "Test the algorithm on some test data drawn from a Gaussian with different variances in orthogonal directions. "
     ]
    },
    {
     "cell_type": "markdown",
     "metadata": {},
     "source": [
      "### 7. PCA Representation of MNIST (10 points)\n",
      "\n",
      "Download the MNIST dataset from here http://deeplearning.net/tutorial/gettingstarted.html (the page contains python code for loading the data). Run your algorithm on (part of) this dataset, and visualize the results.\n"
     ]
    },
    {
     "cell_type": "code",
     "collapsed": false,
     "input": [
      "a = np.array([2.0])\n",
      "b = np.array([[1.0,2.0]])\n",
      "\n",
      "b.T[0][0] = 5\n"
     ],
     "language": "python",
     "metadata": {},
     "outputs": [],
     "prompt_number": 768
    },
    {
     "cell_type": "code",
     "collapsed": false,
     "input": [
      "# dot(b,b.T)\n",
      "np.linalg.norm(b)"
     ],
     "language": "python",
     "metadata": {},
     "outputs": [
      {
       "metadata": {},
       "output_type": "pyout",
       "prompt_number": 772,
       "text": [
        "5.3851648071345037"
       ]
      }
     ],
     "prompt_number": 772
    },
    {
     "cell_type": "code",
     "collapsed": false,
     "input": [
      "np.power(b,3)"
     ],
     "language": "python",
     "metadata": {},
     "outputs": [
      {
       "metadata": {},
       "output_type": "pyout",
       "prompt_number": 782,
       "text": [
        "array([[ 125.,    8.]])"
       ]
      }
     ],
     "prompt_number": 782
    },
    {
     "cell_type": "code",
     "collapsed": false,
     "input": [],
     "language": "python",
     "metadata": {},
     "outputs": []
    }
   ],
   "metadata": {}
  }
 ]
}