{
 "metadata": {
  "name": ""
 },
 "nbformat": 3,
 "nbformat_minor": 0,
 "worksheets": [
  {
   "cells": [
    {
     "cell_type": "markdown",
     "metadata": {},
     "source": [
      "# Lab 3: Bayesian PCA\n",
      "\n",
      "### Machine Learning: Principles and Methods, November 2013\n",
      "\n",
      "* The lab exercises should be made in groups of three people, or at least two people.\n",
      "* The deadline is Friday, 13 December, 23:59.\n",
      "* Assignment should be sent to T.S.Cohen at uva dot nl (Taco Cohen). The subject line of your email should be \"[MLPM2013] lab#_lastname1\\_lastname2\\_lastname3\". \n",
      "* Put your and your teammates' names in the body of the email\n",
      "* Attach the .IPYNB (IPython Notebook) file containing your code and answers. Naming of the file follows the same rule as the subject line. For example, if the subject line is \"[MLPM2013] lab01\\_Kingma\\_Hu\", the attached file should be \"lab01\\_Kingma\\_Hu.ipynb\". Only use underscores (\"\\_\") to connect names, otherwise the files cannot be parsed.\n",
      "\n",
      "Notes on implementation:\n",
      "\n",
      "* You should write your code and answers in an IPython Notebook: http://ipython.org/notebook.html. If you have problems, please contact us.\n",
      "* Among the first lines of your notebook should be \"%pylab inline\". This imports all required modules, and your plots will appear inline.\n",
      "* NOTE: test your code and make sure we can run your notebook / scripts!"
     ]
    },
    {
     "cell_type": "markdown",
     "metadata": {},
     "source": [
      "### Introduction\n",
      "\n",
      "In this lab assignment, we will implement a variational algorithm for Bayesian PCA. Unlike regular PCA based on maximization of retained variance or minimization of projection error (see Bishop, 12.1.1 and 12.1.2), probabilistic PCA defines a proper density model over observed and latent variables. We will work with a fully Bayesian model this time, which is to say that we will put priors on our parameters and will be interested in learning the posterior over those parameters. Bayesian methods are very elegant, but require a shift in mindset: we are no longer looking for a point estimate of the parameters (as in maximum likelihood or MAP), but for a full posterior distribution.\n",
      "\n",
      "The integrals involved in a Bayesian analysis are usually analytically intractable, so that we must resort to approximations. In this lab assignment, we will implement the variational method described in Bishop99. Chapters 10 and 12 of the PRML book contain additional material that may be useful when doing this exercise.\n",
      "\n",
      "* [Bishop99] Variational Principal Components, C. Bishop, ICANN 1999 - http://research.microsoft.com/pubs/67241/bishop-vpca-icann-99.pdf\n",
      "\n",
      "Below, you will find some code to get you started."
     ]
    },
    {
     "cell_type": "code",
     "collapsed": false,
     "input": [
      "%pylab inline\n",
      "import scipy.special as sp\n",
      "import scipy.special as special\n",
      "class BayesianPCA(object):\n",
      "    \n",
      "    def __init__(self, d, N, a_alpha=10e-3, b_alpha=10e-3, a_tau=10e-3, b_tau=10e-3, beta=10e-3):\n",
      "        \"\"\"\n",
      "        \"\"\"\n",
      "        self.d = d # number of dimensions\n",
      "        q = d\n",
      "        self.q = q\n",
      "        self.N = N # number of data points\n",
      "        \n",
      "        # Hyperparameters\n",
      "        self.a_alpha = a_alpha\n",
      "        self.b_alpha = b_alpha\n",
      "        self.a_tau = a_tau\n",
      "        self.b_tau = b_tau\n",
      "        self.beta = beta\n",
      "\n",
      "        # Variational parameters\n",
      "        self.means_z = np.random.randn(q, N) # called x in bishop99\n",
      "        self.sigma_z = np.random.randn(q, q)\n",
      "        self.mean_mu = np.random.randn(d, 1)\n",
      "        self.sigma_mu = np.random.randn(d, d)\n",
      "        self.means_w = np.random.randn(d, q)\n",
      "        self.sigma_w = np.random.randn(q, q)\n",
      "        self.a_alpha_tilde = np.abs(np.random.randn(1))\n",
      "        self.bs_alpha_tilde = np.abs(np.random.randn(q, 1))\n",
      "        self.a_tau_tilde = np.abs(np.random.randn(1))\n",
      "        self.b_tau_tilde = np.abs(np.random.randn(1))\n",
      "    \n",
      "    def __update_z(self, X):\n",
      "        E_tau = self.a_tau_tilde / self.b_tau_tilde\n",
      "        E_W = self.means_w\n",
      "        E_mu = self.mean_mu\n",
      "        for n in range(0,self.N):\n",
      "            t_n = np.reshape(X.T[n],(self.d,1)) \n",
      "            self.means_z.T[n] = reshape(E_tau * dot ( dot( self.sigma_z , E_W.T ) , (t_n - E_mu)) ,self.q)\n",
      "        self.sigma_z = np.linalg.inv(np.identity(self.q) + E_tau*( np.trace(self.sigma_w) +  dot(E_W.T,E_W)))\n",
      "        \n",
      "    def __update_mu(self,X):\n",
      "        E_tau = self.a_tau_tilde / self.b_tau_tilde\n",
      "        E_W = self.means_w\n",
      "        S = 0\n",
      "        for n in range(0,self.N):\n",
      "            t_n = np.reshape(X.T[n],(self.d,1)) \n",
      "            x_n = np.reshape(self.means_z.T[n],(self.q,1)) \n",
      "            S += t_n - dot(E_W,x_n)\n",
      "        self.mean_mu = E_tau*dot(self.sigma_mu,S)\n",
      "        self.sigma_mu = np.identity(self.d) / (self.beta + self.N*(self.a_tau_tilde/self.b_tau_tilde))\n",
      "    \n",
      "    def __update_w(self, X):\n",
      "        \n",
      "        S = 0\n",
      "        for n in range(0,self.N):\n",
      "            x_n = np.reshape(self.means_z.T[n],(self.q,1)) \n",
      "            S += self.sigma_z + dot(x_n,x_n.T)\n",
      "        self.sigma_w = np.linalg.inv( diagflat(self.a_alpha_tilde/self.bs_alpha_tilde) + (self.a_tau_tilde/self.b_tau_tilde)*(S))\n",
      "        \n",
      "        \n",
      "        E_tau = self.a_tau_tilde / self.b_tau_tilde\n",
      "        S = 0\n",
      "        for k in range(0,self.d):\n",
      "            mu_k = self.mean_mu[k]\n",
      "            for n in range(0,self.N):\n",
      "                t_n_k = X.T[n][k]\n",
      "                x_n = np.reshape(self.means_z.T[n],(self.q,1))\n",
      "                S += x_n*(t_n_k - mu_k)\n",
      "            self.means_w[k] = np.reshape( E_tau* dot(self.sigma_w,S) , self.q )\n",
      "                    \n",
      "        \n",
      "    \n",
      "    def __update_alpha(self):\n",
      "        self.a_alpha_tilde = self.a_alpha + self.d/2\n",
      "        for i in range(0 , self.q):\n",
      "            self.bs_alpha_tilde[i] = self.b_alpha + (np.trace(np.cov(self.means_w)) +dot(self.means_w.T[i].T,self.means_w.T[i])) / 2\n",
      "         \n",
      "        \n",
      "    def __update_tau(self, X):\n",
      "        self.a_tau_tilde = self.a_tau + self.N*self.d / 2\n",
      "        A = 0\n",
      "        E_W = self.means_w\n",
      "        for i in range(0,self.N):\n",
      "            t_n = np.reshape(X.T[i],(self.d,1))\n",
      "            x_n = np.reshape(self.means_z.T[i],(self.q,1))\n",
      "            A += dot(t_n.T,t_n) + np.trace(self.sigma_mu) + dot(self.mean_mu.T,self.mean_mu)\n",
      "            A += np.trace( dot( np.trace(self.sigma_w) + dot(E_W.T,E_W), self.sigma_z + dot(x_n,x_n.T)) )\n",
      "            A += 2*dot(dot(self.mean_mu.T,self.means_w),x_n)\n",
      "            A += -2* dot(dot(t_n.T,self.means_w),x_n) - 2*dot(t_n.T,self.mean_mu)\n",
      "        self.b_tau_tilde = self.b_tau + 0.5*A\n",
      "\n",
      "    def L(self, X):\n",
      "        \n",
      "        L = 0\n",
      "\n",
      "        ###Terms from expectations###\n",
      "        #N(X_n|Z_n)\n",
      "        for n in range(0,self.N):\n",
      "            L += dot(X[:,n].T, X[:,n])\n",
      "            L += dot(X[:,n].T, self.mean_mu)[0]\n",
      "            #L += dot(dot(self.means_w.T[n].T, self.means_w[:,n]), dot(self.means_z[:,n].T, self.means_z[:,n]))\n",
      "            L += dot(self.mean_mu.T, X[:,n].T)[0]\n",
      "            L -= dot (dot (self.mean_mu.T, self.means_w), self.means_z[:,n])[0]\n",
      "            L += np.trace(self.sigma_mu) + dot(self.mean_mu.T, self.mean_mu)[0][0]\n",
      "        #print L\n",
      "        \n",
      "        #TODO: add this\n",
      "        \n",
      "        #sum ln N(z_n)\n",
      "        L += - self.N / 2 * np.trace(self.sigma_z)\n",
      "        for n in range(0,self.N):\n",
      "            L += - 1/2 * dot(self.means_z.T[n].T, self.means_z.T[n])\n",
      "        \n",
      "#         print \"first\"\n",
      "        #print 1, L\n",
      "            \n",
      "        #sum ln(N)\n",
      "        \n",
      "        for i in range(0, self.d):\n",
      "            L+= -self.d /2 * (special.digamma(self.a_alpha_tilde) - log(self.bs_alpha_tilde[i][0]) ) - 1/2 * (np.trace(self.sigma_w) + dot(self.means_w.T[i].T, self.means_w.T[i]))\n",
      "\n",
      "\n",
      "       # print 2, L\n",
      "        #sum ln (Ga(a_i))\n",
      "        for i in range(0, self.d):\n",
      "            L += (self.a_alpha - 1) * ( -log(self.bs_alpha_tilde[i][0]) + special.digamma(self.a_alpha_tilde))- self.b_alpha * (self.a_alpha_tilde / self.bs_alpha_tilde[i][0])\n",
      "        \n",
      "        #print 3, L\n",
      "        #ln(N(\\mu))\n",
      "        L += - self.beta/2*(np.trace(self.sigma_mu) + dot(self.mean_mu.T, self.mean_mu)[0][0])\n",
      "        \n",
      "        #print 4, L\n",
      "        #ln(Ga(\\tau))\n",
      "        L +=  -log(self.b_tau_tilde[0]) + special.digamma(self.a_tau_tilde) - (self.a_tau_tilde / self.b_tau_tilde[0])\n",
      "\n",
      "        \n",
      "        #print 5, L\n",
      "        ###Terms from entropies\n",
      "        \n",
      "        #H[Q(Z)]\n",
      "        L += self.N /2 * log(linalg.det(self.sigma_z))\n",
      "        \n",
      "        #print 6, L, log(linalg.det(self.sigma_z))\n",
      "        #H[Q(\\mu)]\n",
      "        L += (0.5)*log(linalg.det(self.sigma_mu))\n",
      "        \n",
      "       # print 7, L, log(linalg.det(self.sigma_mu))\n",
      "        #H[Q(W)]\n",
      "        L += self.d /2 *log(linalg.det(self.sigma_w))\n",
      "\n",
      "      #  print 8, L, log(linalg.det(self.sigma_w))\n",
      "    \n",
      "    \n",
      "        #H[Q(\\alpha)]\n",
      "        L += self.d * (self.a_alpha_tilde + log(special.gamma(self.a_alpha_tilde)) + (1-self.a_alpha_tilde)*special.digamma(self.a_alpha_tilde)) \n",
      "        for i in range(0,self.d):\n",
      "            L += -log(self.bs_alpha_tilde[i][0])\n",
      "      #  print 9, L\n",
      "        #H[Q(\\tau)]\n",
      "        #L += self.a_tau_tilde - log(self.b_tau_tilde[0]) + log(special.gamma(self.a_tau_tilde)) + (1-self.a_tau_tilde) * special.digamma(self.a_tau_tilde)\n",
      "        L += self.a_tau_tilde - log(self.b_tau_tilde[0]) + (1-self.a_tau_tilde) * special.digamma(self.a_tau_tilde)\n",
      "        \n",
      "        \n",
      "       # print 10, L\n",
      "        return L\n",
      "    \n",
      "    def printshapes(self):\n",
      "#         print \" ------------- INFO --------------------------\"\n",
      "#         print \"Shape of means_z : \" , self.means_z.shape\n",
      "#         print \"Shape of sigma_z : \" , self.sigma_z.shape\n",
      "#         print \"mean_mu : \" , self.mean_mu\n",
      "#         print \"sigma_mu : \" , self.sigma_mu\n",
      "#         print \"Shape of means_w : \" , self.means_w\n",
      "#         print \"Shape of sigma_w : \" , self.sigma_w\n",
      "#         print \"a_alpha_tilde : \" , self.a_alpha_tilde \n",
      "#         print \"bs_alpha_tilde  : \" , self.bs_alpha_tilde \n",
      "#         print \"a_tau_tilde : \" , self.a_tau_tilde\n",
      "#         print \"b_tau_tilde : \" , self.b_tau_tilde \n",
      "        \n",
      "        pass\n",
      "        \n",
      "    def fit(self, X , iterations):\n",
      "        for i in range(0,iterations):\n",
      "            for j in range(50):\n",
      "                self.__update_z(X)\n",
      "            for j in range(50):\n",
      "                self.__update_mu(X)\n",
      "            for j in range(50):\n",
      "                self.__update_w(X)\n",
      "            for j in range(50):\n",
      "                self.__update_alpha()\n",
      "            for j in range(50):\n",
      "                self.__update_tau(X)\n",
      "            print i\n",
      "            print self.L(X)\n",
      "            self.printshapes()\n",
      "    def fit2(self, X , iterations):\n",
      "        import random\n",
      "        for i in range(0,iterations):\n",
      "            r = random.randint(1,5)\n",
      "            if r == 1:\n",
      "                self.__update_z(X)\n",
      "            elif r == 2:\n",
      "                self.__update_mu(X)\n",
      "            elif r == 3:\n",
      "                self.__update_w(X)\n",
      "            elif r == 4:\n",
      "                self.__update_alpha()\n",
      "            elif r == 5:\n",
      "                self.__update_tau(X)\n",
      "                \n",
      "            if i % (iterations/10) == 1 :\n",
      "                print i\n",
      "                print self.L(X)\n",
      "                self.printshapes()"
     ],
     "language": "python",
     "metadata": {},
     "outputs": [
      {
       "output_type": "stream",
       "stream": "stdout",
       "text": [
        "Populating the interactive namespace from numpy and matplotlib\n"
       ]
      },
      {
       "output_type": "stream",
       "stream": "stderr",
       "text": [
        "WARNING: pylab import has clobbered these variables: ['test', 'inv']\n",
        "`%pylab --no-import-all` prevents importing * from pylab and numpy\n"
       ]
      }
     ],
     "prompt_number": 869
    },
    {
     "cell_type": "code",
     "collapsed": false,
     "input": [
      "mu = np.zeros(10)\n",
      "Sigma = np.diag([5,4,3,2,1,1,1,1,1,1])\n",
      "N = 100\n",
      "X = np.random.multivariate_normal(mu, Sigma, N).T"
     ],
     "language": "python",
     "metadata": {},
     "outputs": [],
     "prompt_number": 862
    },
    {
     "cell_type": "code",
     "collapsed": false,
     "input": [
      "from scipy.linalg import sqrtm, inv\n",
      "\n",
      "def sym(w):\n",
      "    return w.dot(inv(sqrtm(w.T.dot(w))))\n",
      "\n",
      "Xnew = sym(X)\n"
     ],
     "language": "python",
     "metadata": {},
     "outputs": [],
     "prompt_number": 870
    },
    {
     "cell_type": "code",
     "collapsed": false,
     "input": [
      "test = BayesianPCA(10,100)"
     ],
     "language": "python",
     "metadata": {},
     "outputs": [],
     "prompt_number": 873
    },
    {
     "cell_type": "code",
     "collapsed": false,
     "input": [
      "test.fit(X,10)"
     ],
     "language": "python",
     "metadata": {},
     "outputs": [
      {
       "output_type": "stream",
       "stream": "stdout",
       "text": [
        "0\n",
        "[ nan]\n",
        "1"
       ]
      },
      {
       "output_type": "stream",
       "stream": "stdout",
       "text": [
        "\n",
        "[-896.00261003]\n",
        "2"
       ]
      },
      {
       "output_type": "stream",
       "stream": "stdout",
       "text": [
        "\n",
        "[-1011.26561078]\n",
        "3"
       ]
      },
      {
       "output_type": "stream",
       "stream": "stdout",
       "text": [
        "\n",
        "[-1062.28729035]\n",
        "4"
       ]
      },
      {
       "output_type": "stream",
       "stream": "stdout",
       "text": [
        "\n",
        "[-1085.55411329]\n",
        "5"
       ]
      },
      {
       "output_type": "stream",
       "stream": "stdout",
       "text": [
        "\n",
        "[-1116.55317937]\n",
        "6"
       ]
      },
      {
       "output_type": "stream",
       "stream": "stdout",
       "text": [
        "\n",
        "[-1143.76732739]\n",
        "7"
       ]
      },
      {
       "output_type": "stream",
       "stream": "stdout",
       "text": [
        "\n",
        "[-1124.89480711]\n",
        "8"
       ]
      },
      {
       "output_type": "stream",
       "stream": "stdout",
       "text": [
        "\n",
        "[-1103.64138311]\n",
        "9"
       ]
      },
      {
       "output_type": "stream",
       "stream": "stdout",
       "text": [
        "\n",
        "[-1100.4599918]\n"
       ]
      }
     ],
     "prompt_number": 874
    },
    {
     "cell_type": "code",
     "collapsed": false,
     "input": [
      "# print test.bs_alpha_tilde\n",
      "print test.means_w"
     ],
     "language": "python",
     "metadata": {},
     "outputs": [
      {
       "output_type": "stream",
       "stream": "stdout",
       "text": [
        "[[ -1.71661574e-02  -3.77011782e-01  -6.01758248e-01   8.39423877e-02\n",
        "   -4.22023585e-01  -6.07427524e-02   7.15642508e-02  -3.87044903e-01\n",
        "    1.64936264e-01  -4.44568761e-01]\n",
        " [ -1.44108496e-01  -1.28893785e+00  -6.19102761e-01   3.77294669e-01\n",
        "   -8.24476062e-01   1.55995045e-01   4.58517073e-01  -6.08788804e-01\n",
        "    1.77962206e-01  -6.01842272e-01]\n",
        " [ -3.39537322e-01  -2.43482721e+00  -3.61413739e-02   7.83897574e-01\n",
        "   -1.07011102e+00   5.81279701e-01   1.03471195e+00  -5.86939637e-01\n",
        "    3.19590399e-02  -4.13369852e-01]\n",
        " [ -4.64750538e-01  -3.13029565e+00   4.29420420e-01   1.03765873e+00\n",
        "   -1.17104724e+00   8.67613893e-01   1.40111126e+00  -5.18305949e-01\n",
        "   -8.65568144e-02  -2.27657219e-01]\n",
        " [ -5.67011213e-01  -3.67640819e+00   8.61112712e-01   1.24109254e+00\n",
        "   -1.22194454e+00   1.10921542e+00   1.69863281e+00  -4.31577083e-01\n",
        "   -1.97355429e-01  -3.96447464e-02]\n",
        " [ -6.29008189e-01  -4.01751012e+00   1.09818361e+00   1.36611335e+00\n",
        "   -1.26781542e+00   1.25189740e+00   1.87955316e+00  -3.93556395e-01\n",
        "   -2.57823209e-01   5.69839694e-02]\n",
        " [ -7.42911143e-01  -4.63544947e+00   1.55616607e+00   1.59443025e+00\n",
        "   -1.33862696e+00   1.51764644e+00   2.21163788e+00  -3.10553275e-01\n",
        "   -3.75020996e-01   2.50233950e-01]\n",
        " [ -8.63011180e-01  -5.28195742e+00   2.05330302e+00   1.83447292e+00\n",
        "   -1.40493193e+00   1.80029279e+00   2.56187271e+00  -2.14867180e-01\n",
        "   -5.02434920e-01   4.63885677e-01]\n",
        " [ -9.85773955e-01  -5.85624004e+00   2.76809878e+00   2.06488224e+00\n",
        "   -1.34627613e+00   2.12049620e+00   2.91376021e+00   5.70281837e-03\n",
        "   -6.88870372e-01   8.28051785e-01]\n",
        " [ -1.12346829e+00  -6.48236248e+00   3.61430747e+00   2.32028344e+00\n",
        "   -1.25341736e+00   2.48650066e+00   3.30750584e+00   2.79284360e-01\n",
        "   -9.10026899e-01   1.26779608e+00]]\n"
       ]
      }
     ],
     "prompt_number": 875
    },
    {
     "cell_type": "markdown",
     "metadata": {},
     "source": [
      "### 1. The Q-distribution (5 points)\n",
      "\n",
      "In variational Bayes, we introduce a distribution $Q(\\Theta)$ over parameters / latent variables in order to make inference tractable. We can think of $Q$ as being an approximation of a certain distribution. What function does $Q$ approximate, $p(D|\\Theta)$, $p(\\Theta|D)$, $p(D, \\Theta)$, $p(\\Theta)$, or $p(D)$, and how do you see that from the equation $\\ln p(D) = \\mathcal{L}(Q) + \\mathrm{KL}(Q||P)$?"
     ]
    },
    {
     "cell_type": "code",
     "collapsed": false,
     "input": [
      "import pylab as pl\n",
      "\n",
      "def _blob(x,y,area,colour):\n",
      "    \"\"\"\n",
      "    Source: http://wiki.scipy.org/Cookbook/Matplotlib/HintonDiagrams\n",
      "    Draws a square-shaped blob with the given area (< 1) at\n",
      "    the given coordinates.\n",
      "    \"\"\"\n",
      "    hs = np.sqrt(area) / 2\n",
      "    xcorners = np.array([x - hs, x + hs, x + hs, x - hs])\n",
      "    ycorners = np.array([y - hs, y - hs, y + hs, y + hs])\n",
      "    pl.fill(xcorners, ycorners, colour, edgecolor=colour)\n",
      "    \n",
      "def hinton(W, maxWeight=None):\n",
      "    \"\"\"\n",
      "    Source: http://wiki.scipy.org/Cookbook/Matplotlib/HintonDiagrams\n",
      "    Draws a Hinton diagram for visualizing a weight matrix.\n",
      "    Temporarily disables matplotlib interactive mode if it is on,\n",
      "    otherwise this takes forever.\n",
      "    \"\"\"\n",
      "    reenable = False\n",
      "    if pl.isinteractive():\n",
      "        pl.ioff()\n",
      "    pl.clf()\n",
      "    height, width = W.shape\n",
      "    if not maxWeight:\n",
      "        maxWeight = 2**np.ceil(np.log(np.max(np.abs(W)))/np.log(2))\n",
      "\n",
      "    pl.fill(np.array([0,width,width,0]),np.array([0,0,height,height]),'gray')\n",
      "    pl.axis('off')\n",
      "    pl.axis('equal')\n",
      "    for x in xrange(width):\n",
      "        for y in xrange(height):\n",
      "            _x = x+1\n",
      "            _y = y+1\n",
      "            w = W[y,x]\n",
      "            if w > 0:\n",
      "                _blob(_x - 0.5, height - _y + 0.5, min(1,w/maxWeight),'white')\n",
      "            elif w < 0:\n",
      "                _blob(_x - 0.5, height - _y + 0.5, min(1,-w/maxWeight),'black')\n",
      "    if reenable:\n",
      "        pl.ion()\n",
      "    pl.show()\n",
      "\n",
      "hinton(test.means_w )"
     ],
     "language": "python",
     "metadata": {},
     "outputs": [
      {
       "metadata": {},
       "output_type": "display_data",
       "png": "[encoded data removed]",
       "text": [
        "<matplotlib.figure.Figure at 0x397ec10>"
       ]
      }
     ],
     "prompt_number": 876
    },
    {
     "cell_type": "markdown",
     "metadata": {},
     "source": [
      "### 2. The mean-field approximation (15 points)\n",
      "\n",
      "Equation 13 from [Bishop99] is a very powerful result: assuming only that $Q(\\Theta)$ factorizes in a certain way (no assumptions on the functional form of the factors $Q_i$!), we get a set of coupled equations for the $Q_i$.\n",
      "\n",
      "However, the expression given in eq. 13 for Q_i contains a small mistake. Starting with the expression for the lower bound $\\mathcal{L}(Q)$, derive the correct expression (and include your derivation). You can proceed as follows: first, substitute the factorization of $Q$ (eq. 12) into the definition of $\\mathcal{L}(Q)$ and separate $\\mathcal{L}(Q)$ into $Q_i$-dependent and $Q_i$-independent terms. At this point, you should be able to spot the expectations $\\langle\\cdot\\rangle_{k \\neq i}$ over the other $Q$-distributions that appear in Bishop's solution (eq. 13). Now, keeping all $Q_k, k \\neq i$ fixed, maximize the expression with respect to $Q_i$. You should be able to spot the form of the optimal $ln Q_i$, from which $Q_i$ can easily be obtained."
     ]
    },
    {
     "cell_type": "markdown",
     "metadata": {},
     "source": [
      "### 3. The log-probability (10 points)\n",
      "\n",
      "Write down the log-prob of data and parameters, $\\ln p(\\mathbf{X}, \\mathbf{Z}, \\mathbf{W}, \\mathbf{\\alpha}, \\tau, \\mathbf{\\mu})$, in full detail (where $\\mathbf{X}$ are observed, $\\mathbf{Z}$ is latent; this is different from [Bishop99] who uses $\\mathbf{T}$ and $\\mathbf{X}$ respectively, but $\\mathbf{X}$ and $\\mathbf{Z}$ are consistent with the PRML book and are more common nowadays). Could we use this to assess the convergence of the variational Bayesian PCA algorithm? If yes, how? If no, why not?"
     ]
    },
    {
     "cell_type": "markdown",
     "metadata": {},
     "source": [
      "### 4. The lower bound $\\mathcal{L}(Q)$ (25 points)\n",
      "\n",
      "Derive an expression for the lower bound $\\mathcal{L}(Q)$ of the log-prob $\\ln p(X)$ for Bayesian PCA, making use of the factorization (eq. 12) and the form of the Q-distributions (eq. 16-20) as listed in [Bishop99]. Show your steps. Implement this function.\n",
      "\n",
      "The following result may be useful:\n",
      "\n",
      "For $x \\sim \\Gamma(a,b)$, we have $\\langle \\ln x\\rangle = \\ln b + \\psi(a)$, where $\\psi(a) = \\frac{\\Gamma'(a)}{\\Gamma(a)}$ is the digamma function (which is implemented in numpy.special)."
     ]
    },
    {
     "cell_type": "markdown",
     "metadata": {},
     "source": [
      "### 5. Optimize variational parameters (50 points)\n",
      "Implement the update equations for the Q-distributions, in the __update_XXX methods. Each update function should re-estimate the variational parameters of the Q-distribution corresponding to one group of variables (i.e. either $Z$, $\\mu$, $W$, $\\alpha$ or $\\tau$)."
     ]
    },
    {
     "cell_type": "markdown",
     "metadata": {},
     "source": [
      "### 6. Learning algorithm (10 points)\n",
      "Implement the learning algorithm described in [Bishop99], i.e. iteratively optimize each of the Q-distributions holding the others fixed.\n",
      "\n",
      "What would be a good way to track convergence of the algorithm? Implement your suggestion.\n",
      "\n",
      "Test the algorithm on some test data drawn from a Gaussian with different variances in orthogonal directions. "
     ]
    },
    {
     "cell_type": "markdown",
     "metadata": {},
     "source": [
      "### 7. PCA Representation of MNIST (10 points)\n",
      "\n",
      "Download the MNIST dataset from here http://deeplearning.net/tutorial/gettingstarted.html (the page contains python code for loading the data). Run your algorithm on (part of) this dataset, and visualize the results.\n"
     ]
    },
    {
     "cell_type": "code",
     "collapsed": false,
     "input": [
      "a = np.array([2.0])\n",
      "b = np.array([[1.0,2.0]])\n",
      "\n",
      "b.T[0][0] = 5\n"
     ],
     "language": "python",
     "metadata": {},
     "outputs": [],
     "prompt_number": 768
    },
    {
     "cell_type": "code",
     "collapsed": false,
     "input": [
      "# dot(b,b.T)\n",
      "np.linalg.norm(b)"
     ],
     "language": "python",
     "metadata": {},
     "outputs": [
      {
       "metadata": {},
       "output_type": "pyout",
       "prompt_number": 772,
       "text": [
        "5.3851648071345037"
       ]
      }
     ],
     "prompt_number": 772
    },
    {
     "cell_type": "code",
     "collapsed": false,
     "input": [
      "np.power(b,3)"
     ],
     "language": "python",
     "metadata": {},
     "outputs": [
      {
       "metadata": {},
       "output_type": "pyout",
       "prompt_number": 782,
       "text": [
        "array([[ 125.,    8.]])"
       ]
      }
     ],
     "prompt_number": 782
    },
    {
     "cell_type": "code",
     "collapsed": false,
     "input": [],
     "language": "python",
     "metadata": {},
     "outputs": []
    }
   ],
   "metadata": {}
  }
 ]
}