{
 "metadata": {
  "name": ""
 },
 "nbformat": 3,
 "nbformat_minor": 0,
 "worksheets": [
  {
   "cells": [
    {
     "cell_type": "markdown",
     "metadata": {},
     "source": [
      "# Lab 3: Bayesian PCA\n",
      "\n",
      "### Machine Learning: Principles and Methods, November 2013\n",
      "\n",
      "* The lab exercises should be made in groups of three people, or at least two people.\n",
      "* The deadline is Friday, 13 December, 23:59.\n",
      "* Assignment should be sent to T.S.Cohen at uva dot nl (Taco Cohen). The subject line of your email should be \"[MLPM2013] lab#_lastname1\\_lastname2\\_lastname3\". \n",
      "* Put your and your teammates' names in the body of the email\n",
      "* Attach the .IPYNB (IPython Notebook) file containing your code and answers. Naming of the file follows the same rule as the subject line. For example, if the subject line is \"[MLPM2013] lab01\\_Kingma\\_Hu\", the attached file should be \"lab01\\_Kingma\\_Hu.ipynb\". Only use underscores (\"\\_\") to connect names, otherwise the files cannot be parsed.\n",
      "\n",
      "Notes on implementation:\n",
      "\n",
      "* You should write your code and answers in an IPython Notebook: http://ipython.org/notebook.html. If you have problems, please contact us.\n",
      "* Among the first lines of your notebook should be \"%pylab inline\". This imports all required modules, and your plots will appear inline.\n",
      "* NOTE: test your code and make sure we can run your notebook / scripts!"
     ]
    },
    {
     "cell_type": "markdown",
     "metadata": {},
     "source": [
      "### Introduction\n",
      "\n",
      "In this lab assignment, we will implement a variational algorithm for Bayesian PCA. Unlike regular PCA based on maximization of retained variance or minimization of projection error (see Bishop, 12.1.1 and 12.1.2), probabilistic PCA defines a proper density model over observed and latent variables. We will work with a fully Bayesian model this time, which is to say that we will put priors on our parameters and will be interested in learning the posterior over those parameters. Bayesian methods are very elegant, but require a shift in mindset: we are no longer looking for a point estimate of the parameters (as in maximum likelihood or MAP), but for a full posterior distribution.\n",
      "\n",
      "The integrals involved in a Bayesian analysis are usually analytically intractable, so that we must resort to approximations. In this lab assignment, we will implement the variational method described in Bishop99. Chapters 10 and 12 of the PRML book contain additional material that may be useful when doing this exercise.\n",
      "\n",
      "* [Bishop99] Variational Principal Components, C. Bishop, ICANN 1999 - http://research.microsoft.com/pubs/67241/bishop-vpca-icann-99.pdf\n",
      "\n",
      "Below, you will find some code to get you started."
     ]
    },
    {
     "cell_type": "code",
     "collapsed": false,
     "input": [
      "%pylab inline\n",
      "import scipy.special as sp\n",
      "import scipy.special as special\n",
      "class BayesianPCA(object):\n",
      "    \n",
      "    def __init__(self, d, N, a_alpha=10e-3, b_alpha=10e-3, a_tau=10e-3, b_tau=10e-3, beta=10e-3):\n",
      "        \"\"\"\n",
      "        \"\"\"\n",
      "        self.d = d # number of dimensions\n",
      "        q = d\n",
      "        self.q = q\n",
      "        self.N = N # number of data points\n",
      "        \n",
      "        # Hyperparameters\n",
      "        self.a_alpha = a_alpha\n",
      "        self.b_alpha = b_alpha\n",
      "        self.a_tau = a_tau\n",
      "        self.b_tau = b_tau\n",
      "        self.beta = beta\n",
      "\n",
      "        # Variational parameters\n",
      "        self.means_z = np.random.randn(q, N) # called x in bishop99\n",
      "        self.sigma_z = np.random.randn(q, q)\n",
      "#         self.means_x = np.random.randn(q, N) called x in bishop99\n",
      "#         self.sigma_x = np.random.randn(q, q)\n",
      "        self.mean_mu = np.random.randn(d, 1)\n",
      "        self.sigma_mu = np.random.randn(d, d)\n",
      "        self.means_w = np.random.randn(d, q)\n",
      "        self.sigma_w = np.random.randn(q, q)\n",
      "        self.a_alpha_tilde = self.a_alpha + d/2.0\n",
      "        self.bs_alpha_tilde = np.abs(np.random.randn(q, 1))\n",
      "        self.a_tau_tilde = self.a_tau + (N*d)/2.0\n",
      "        self.b_tau_tilde = np.abs(np.random.randn(1))\n",
      "#         self.d = d # number of dimensions\n",
      "#         self.N = N # number of data points\n",
      "        \n",
      "#         # Hyperparameters\n",
      "#         self.a_alpha = a_alpha\n",
      "#         self.b_alpha = b_alpha\n",
      "#         self.a_tau = a_tau\n",
      "#         self.b_tau = b_tau\n",
      "#         self.beta = beta\n",
      "\n",
      "#         # Variational parameters\n",
      "#         self.means_x = np.random.randn(d, N)\n",
      "#         self.sigma_x = np.random.randn(d, d)\n",
      "#         self.mean_mu = np.random.randn(d, 1)\n",
      "#         self.sigma_mu = np.random.randn(d, d)\n",
      "#         self.means_w = np.random.randn(d, d)\n",
      "#         self.sigma_w = np.random.randn(d, d)\n",
      "#         self.a_alpha_tilde = self.a_alpha + d/2.0\n",
      "#         self.bs_alpha_tilde = np.abs(np.random.randn(d, 1))\n",
      "#         self.a_tau_tilde = self.a_tau + (N*d)/2.0\n",
      "#         self.b_tau_tilde = np.abs(np.random.randn(1)) \n",
      "        \n",
      "    def get_exp_WtW(self):\n",
      "        return np.add( np.dot(self.means_w.T, self.means_w), self.sigma_w)\n",
      "        \n",
      "    \n",
      "    def update_z(self, D):\n",
      "        self.sigma_z = np.linalg.inv(np.identity(self.d) + (self.a_tau_tilde/self.b_tau_tilde)*( np.trace(self.sigma_w) + dot(self.means_w.T,self.means_w)))\n",
      "        self.means_z = (self.a_tau_tilde/self.b_tau_tilde)*dot(dot(self.sigma_z,self.means_w.T) , (X - self.mean_mu))\n",
      "        \n",
      "    def update_mu(self, D):\n",
      "        # Update sigma of mu        \n",
      "        exp_tau = self.a_tau_tilde / float(self.b_tau_tilde)\n",
      "        self.sigma_mu = (1/float(self.beta+N*exp_tau)) * numpy.identity(self.d)\n",
      "                \n",
      "        \n",
      "        # Update means of mu \n",
      "        summed = np.zeros((self.d,1))\n",
      "        for n in range(self.N):\n",
      "            exp_xn = np.array([self.means_z[:,n]]).T\n",
      "            tn = np.array([D[:,n]]).T\n",
      "            product  = np.dot(self.means_w, exp_xn)\n",
      "            diff = tn - product\n",
      "            summed += diff\n",
      "        final_product = np.dot(self.sigma_mu, summed)\n",
      "        self.mean_mu = exp_tau *  final_product\n",
      "        \n",
      "            \n",
      "    def update_w(self, D):\n",
      "#         # Update sigma of W\n",
      "        exp_tau = self.a_tau_tilde / float(self.b_tau_tilde)\n",
      "        \n",
      "        exp_alpha = map( lambda x : self.a_alpha_tilde/float(x), self.bs_alpha_tilde)\n",
      "        exp_alpha_diag = np.diag(exp_alpha)         \n",
      "        \n",
      "        sum_exp_xxt = np.zeros((self.d,self.d))\n",
      "        for i in range(self.N):\n",
      "            exp_x = np.array([self.means_z[:,i]]).T\n",
      "            exp_xxt = np.dot(exp_x, exp_x.T) + self.sigma_z\n",
      "            sum_exp_xxt = sum_exp_xxt +  exp_xxt\n",
      "                \n",
      "        self.sigma_w = numpy.linalg.inv(exp_alpha_diag +  (exp_tau * sum_exp_xxt))\n",
      "#         self.sigma_w = np.linalg.inv( diagflat(self.a_alpha_tilde/self.bs_alpha_tilde) + (self.a_tau_tilde/self.b_tau_tilde)*dot(self.means_z,self.means_z.T) )\n",
      "               \n",
      "        # Update mu of W\n",
      "        # w(k) is a column\n",
      "        for k in range(self.d):# for each column\n",
      "            summed = np.zeros((self.d,1))\n",
      "            for i in range(self.N):\n",
      "                exp_xn = self.means_z[:,i]\n",
      "                diff = D[k,i] - self.mean_mu[k]\n",
      "                product = exp_xn * diff                \n",
      "                summed = summed + array([product]).T\n",
      "                        \n",
      "            self.means_w[:,k] = np.dot(np.multiply(exp_tau, self.sigma_mu), summed)[:,0]        \n",
      "        \n",
      "        \n",
      "    def update_alpha(self):\n",
      "        # a_alpha_tilde is a constant: a_alpha + d/2 so set it in the initialization and do not change anymore\n",
      "        \n",
      "        # b alpha tilde\n",
      "        for i in range(self.d):\n",
      "            wi = np.array([self.means_w[:,i]]).T\n",
      "            exp_wtw =  np.trace(self.sigma_w) + np.dot(wi.T, wi)\n",
      "                        \n",
      "            self.bs_alpha_tilde[i,0] = self.b_alpha + exp_wtw/2.0\n",
      "                \n",
      "        \n",
      "    def update_tau(self, D):\n",
      "        # a_tau is a constant so set in the initialization\n",
      "        \n",
      "        exp_WtW = self.get_exp_WtW()\n",
      "        exp_mutmu = np.trace(self.sigma_mu) + np.dot(self.mean_mu.T, self.mean_mu)        \n",
      "        summed = 0.0\n",
      "        \n",
      "        for i in range(N):\n",
      "            tn = np.array([D[:,i]]).T\n",
      "            exp_xn = np.array([self.means_z[:,i]]).T\n",
      "            exp_xxt = np.dot(exp_xn, exp_xn.T) + self.sigma_z\n",
      "            \n",
      "            summed += np.dot(tn.T, tn) + exp_mutmu                         \n",
      "            summed += np.trace(np.dot(exp_WtW, exp_xxt))\n",
      "            summed += 2.0 * np.dot(np.dot(self.mean_mu.T, self.means_w), exp_xn)\n",
      "            summed -= 2.0 * np.dot(np.dot(tn.T, self.means_w), exp_xn)\n",
      "            summed -= 2.0 * np.dot(tn.T, self.mean_mu)\n",
      "                \n",
      "        self.b_tau_tilde = self.b_tau + 0.5* summed\n",
      "        \n",
      "        \n",
      "        \n",
      "    def __update_z(self, X):\n",
      "        E_tau = self.a_tau_tilde / self.b_tau_tilde\n",
      "        E_W = self.means_w\n",
      "        E_mu = self.mean_mu\n",
      "        for n in range(0,self.N):\n",
      "            t_n = np.reshape(X.T[n],(self.d,1)) \n",
      "            self.means_z.T[n] = reshape(E_tau * dot ( dot( self.sigma_z , E_W.T ) , (t_n - E_mu)) ,self.q)\n",
      "        self.sigma_z = np.linalg.inv(np.identity(self.q) + E_tau*( np.trace(self.sigma_w) +  dot(E_W.T,E_W)))\n",
      "        \n",
      "    def __update_mu(self,X):\n",
      "        E_tau = self.a_tau_tilde / self.b_tau_tilde\n",
      "        E_W = self.means_w\n",
      "        S = 0\n",
      "        for n in range(0,self.N):\n",
      "            t_n = np.reshape(X.T[n],(self.d,1)) \n",
      "            x_n = np.reshape(self.means_z.T[n],(self.q,1)) \n",
      "            S += t_n - dot(E_W,x_n)\n",
      "        self.mean_mu = E_tau*dot(self.sigma_mu,S)\n",
      "        self.sigma_mu = np.identity(self.d) / (self.beta + self.N*(self.a_tau_tilde/self.b_tau_tilde))\n",
      "    \n",
      "    def __update_w(self, X):\n",
      "        \n",
      "        S = 0\n",
      "        for n in range(0,self.N):\n",
      "            x_n = np.reshape(self.means_z.T[n],(self.q,1)) \n",
      "            S += self.sigma_z + dot(x_n,x_n.T)\n",
      "        self.sigma_w = np.linalg.inv( diagflat(self.a_alpha_tilde/self.bs_alpha_tilde) + (self.a_tau_tilde/self.b_tau_tilde)*(S))\n",
      "        \n",
      "        \n",
      "        E_tau = self.a_tau_tilde / self.b_tau_tilde\n",
      "        S = 0\n",
      "        for k in range(0,self.d):\n",
      "            mu_k = self.mean_mu[k]\n",
      "            for n in range(0,self.N):\n",
      "                t_n_k = X.T[n][k]\n",
      "                x_n = np.reshape(self.means_z.T[n],(self.q,1))\n",
      "                S += x_n*(t_n_k - mu_k)\n",
      "            self.means_w[k] = np.reshape( E_tau* dot(self.sigma_w,S) , self.q )\n",
      "                    \n",
      "        \n",
      "    \n",
      "    def __update_alpha(self):\n",
      "        self.a_alpha_tilde = self.a_alpha + self.d/2\n",
      "        for i in range(0 , self.q):\n",
      "            self.bs_alpha_tilde[i] = self.b_alpha + (np.trace(np.cov(self.means_w)) +dot(self.means_w.T[i].T,self.means_w.T[i])) / 2\n",
      "         \n",
      "        \n",
      "    def __update_tau(self, X):\n",
      "        self.a_tau_tilde = self.a_tau + self.N*self.d / 2\n",
      "        A = 0\n",
      "        E_W = self.means_w\n",
      "        for i in range(0,self.N):\n",
      "            t_n = np.reshape(X.T[i],(self.d,1))\n",
      "            x_n = np.reshape(self.means_z.T[i],(self.q,1))\n",
      "            A += dot(t_n.T,t_n) + np.trace(self.sigma_mu) + dot(self.mean_mu.T,self.mean_mu)\n",
      "            A += np.trace( dot( np.trace(self.sigma_w) + dot(E_W.T,E_W), self.sigma_z + dot(x_n,x_n.T)) )\n",
      "            A += 2*dot(dot(self.mean_mu.T,self.means_w),x_n)\n",
      "            A += -2* dot(dot(t_n.T,self.means_w),x_n) - 2*dot(t_n.T,self.mean_mu)\n",
      "        self.b_tau_tilde = self.b_tau + 0.5*A\n",
      "\n",
      "    def L(self, X):\n",
      "        \n",
      "        L = 0\n",
      "        ###Terms from expectations###\n",
      "        #N(X_n|Z_n)\n",
      "        L += -self.N*self.d/2 * (special.digamma(self.a_tau_tilde) - np.log(self.b_tau_tilde)) - self.d/2 *np.log(2*np.pi)\n",
      "        S = 0\n",
      "        for n in range(0,self.N):\n",
      "            S += dot(X[:,n].T, X[:,n])\n",
      "            S += dot(dot(X[:,n].T,self.means_w),self.means_z[:,n]) \n",
      "            S += dot(X[:,n].T, self.mean_mu)[0]\n",
      "            S -= dot(dot(self.means_w.T,self.means_z[:,n].T) ,X[:,n])\n",
      "            S -= dot(dot(self.means_w.T,self.means_z[:,n].T) ,self.mean_mu)    \n",
      "            S += dot( self.mean_mu.T,X[:,n])[0]\n",
      "            S -= dot(dot(self.mean_mu.T,self.means_w) ,self.means_z[:,n]) \n",
      "            S += np.trace(self.sigma_mu) + dot( self.mean_mu.T,self.mean_mu)[0]\n",
      "            S += dot(self.mean_mu.T, X[:,n].T)[0]\n",
      "            S -= dot (dot (self.mean_mu.T, self.means_w), self.means_z[:,n])[0]\n",
      "            S += np.trace(self.sigma_mu) + dot(self.mean_mu.T, self.mean_mu)[0][0]\n",
      "        L +=  self.N/2 *(self.a_tau_tilde/self.b_tau_tilde)*S\n",
      "        \n",
      "        #sum ln N(z_n)\n",
      "        L += - self.N / 2 * np.trace(self.sigma_z) - self.N*self.d/2 *np.log(2*np.pi)\n",
      "        for n in range(0,self.N):\n",
      "            L += - 1/2 * dot(self.means_z.T[n].T, self.means_z.T[n])\n",
      "        \n",
      "        #sum ln(W|a)\n",
      "        L += self.q * self.d /2 \n",
      "        for i in range(0, self.d):\n",
      "            L+= -self.d /2 * (special.digamma(self.a_alpha_tilde) - log(self.bs_alpha_tilde[i][0]) ) - 1/2 * (np.trace(self.sigma_w) + dot(self.means_w.T[i].T, self.means_w.T[i]))\n",
      "        \n",
      "        #sum ln (Ga(a_i))\n",
      "        for i in range(0, self.q):\n",
      "            L += (self.a_alpha - 1) * ( -log(self.bs_alpha_tilde[i][0]) + special.digamma(self.a_alpha_tilde))- self.b_alpha * (self.a_alpha_tilde / self.bs_alpha_tilde[i][0])\n",
      "        \n",
      "        #ln(N(\\mu))\n",
      "        L += - self.beta/2*(np.trace(self.sigma_mu) + dot(self.mean_mu.T, self.mean_mu)[0][0])\n",
      "        \n",
      "        #ln(Ga(\\tau))\n",
      "        L +=  -log(self.b_tau_tilde[0]) + special.digamma(self.a_tau_tilde) - (self.a_tau_tilde / self.b_tau_tilde[0])\n",
      "\n",
      "        ###Terms from entropies\n",
      "        #H[Q(Z)]\n",
      "        L += self.N*( self.d/2*(1+ np.log(2*np.pi)) + 1/2 * log(linalg.det(self.sigma_z)))\n",
      "        \n",
      "        #H[Q(\\mu)]\n",
      "        L += (0.5)*log(linalg.det(self.sigma_mu))  + self.d/2*(1+ np.log(2*np.pi))\n",
      "        \n",
      "        #H[Q(W)]\n",
      "        L += self.d*(self.d /2 *(1+ np.log(2*np.pi)) + 1/2*log(linalg.det(self.sigma_w)) )\n",
      "        \n",
      "        #H[Q(\\alpha)]\n",
      "        L += self.q * (self.a_alpha_tilde + log(special.gamma(self.a_alpha_tilde)) + (1-self.a_alpha_tilde)*special.digamma(self.a_alpha_tilde)) \n",
      "        for i in range(0,self.d):\n",
      "            L += -log(self.bs_alpha_tilde[i][0])\n",
      "      \n",
      "        #H[Q(\\tau)]\n",
      "        L += self.a_tau_tilde - log(self.b_tau_tilde[0]) + (1-self.a_tau_tilde) * special.digamma(self.a_tau_tilde)\n",
      "        ## the term Gamma(a_tau_tilde) is inf so we ignore it...\n",
      "        \n",
      "        return L\n",
      "    \n",
      "    def printshapes(self):\n",
      "#         print \" ------------- INFO --------------------------\"\n",
      "#         print \"Shape of means_z : \" , self.means_z.shape\n",
      "#         print \"Shape of sigma_z : \" , self.sigma_z.shape\n",
      "#         print \"mean_mu : \" , self.mean_mu\n",
      "#         print \"sigma_mu : \" , self.sigma_mu\n",
      "#         print \"Shape of means_w : \" , self.means_w\n",
      "#         print \"Shape of sigma_w : \" , self.sigma_w\n",
      "#         print \"a_alpha_tilde : \" , self.a_alpha_tilde \n",
      "#         print \"bs_alpha_tilde  : \" , self.bs_alpha_tilde \n",
      "#         print \"a_tau_tilde : \" , self.a_tau_tilde\n",
      "#         print \"b_tau_tilde : \" , self.b_tau_tilde \n",
      "        \n",
      "        pass\n",
      "        \n",
      "    def fit1(self, X , iterations):\n",
      "        for i in range(0,iterations):\n",
      "            for j in range(50):\n",
      "                self.__update_z(X)\n",
      "            for j in range(50):\n",
      "                self.__update_mu(X)\n",
      "            for j in range(50):\n",
      "                self.__update_w(X)\n",
      "            for j in range(50):\n",
      "                self.__update_alpha()\n",
      "            for j in range(50):\n",
      "                self.__update_tau(X)\n",
      "            print i\n",
      "            print self.L(X)\n",
      "            self.printshapes()\n",
      "    def fit2(self, X , iterations):\n",
      "        for i in range(0,iterations):\n",
      "            self.__update_tau(X)\n",
      "            self.__update_alpha()\n",
      "            self.__update_mu(X)\n",
      "            self.__update_w(X)\n",
      "            self.__update_z(X)\n",
      "                           \n",
      "            if i % (iterations/10) == 1 :\n",
      "                print i\n",
      "                print self.L(X)\n",
      "                self.printshapes()\n",
      "                \n",
      "    def fit(self, X, max_it):\n",
      "        print 'dimensions data:', X.shape\n",
      "        print 'a alpha tilde =', self.a_alpha_tilde\n",
      "        self.__update_tau(X)\n",
      "        for i in range(max_it):\n",
      "            if i%10 == 0:\n",
      "                print i,\n",
      "            \n",
      "            self.__update_tau(X)\n",
      "            self.__update_mu(X)\n",
      "            self.__update_alpha()            \n",
      "            self.update_w(X)\n",
      "            self.update_z(X)  \n",
      "                        \n",
      "            #print '\\n w at',i, ':\\n', self.means_w\n",
      "            \n",
      "            if i % 100 == 1 :\n",
      "                print i\n",
      "                print self.L(X)\n",
      "#                 self.printshapes()               \n",
      "                #print '\\n w after',i+1, 'iterations:\\n', self.means_w\n",
      "                \n",
      "#                 print 'means of mu:', self.mean_mu.T\n",
      "#                 exp_tau = self.a_tau_tilde / float(self.b_tau_tilde)\n",
      "#                 print 'expectation of tau:', exp_tau\n",
      "#                 #exp_alpha = map( lambda x : self.a_alpha_tilde/float(x), self.bs_alpha_tilde) \n",
      "#                 #print 'expectation of alpha:', exp_alpha\n",
      "#                 #print 'bs of alpha:', self.bs_alpha_tilde.T\n",
      "#                 print '\\n\\n'\n",
      "            \n",
      "                \n",
      "        print '\\n w final:\\n', self.means_w"
     ],
     "language": "python",
     "metadata": {},
     "outputs": [
      {
       "output_type": "stream",
       "stream": "stdout",
       "text": [
        "Populating the interactive namespace from numpy and matplotlib\n"
       ]
      },
      {
       "output_type": "stream",
       "stream": "stderr",
       "text": [
        "WARNING: pylab import has clobbered these variables: ['test']\n",
        "`%pylab --no-import-all` prevents importing * from pylab and numpy\n"
       ]
      }
     ],
     "prompt_number": 1119
    },
    {
     "cell_type": "code",
     "collapsed": false,
     "input": [
      "A = np.array([ [0.4246,-0.1753,-0.1466,-0.0956,0.7864,0.3741]\n",
      "                ,[0.5199,0.3483,0.2280,-0.4751,-0.4102,0.4031]\n",
      "                ,[-0.2212,-0.7183,-0.2838,-0.2656,-0.3263,0.4213]\n",
      "                ,[-0.5600,0.0724,0.6716,-0.1030,0.2397,0.4025]\n",
      "                ,[0.2692,-0.1393,0.2114,0.8147,-0.2223,0.3876]\n",
      "                ,[-0.3382,0.5544,-0.5918,0.1422,-0.0037,0.4558]])\n",
      "\n",
      "# eigenvalues on a diagonal matrix representing the magnitude of the variance\n",
      "L = np.diag( [15,15,1,1,1,1])\n",
      "\n",
      "# Covariance matrix generated based on A and L\n",
      "covariance = np.dot(np.dot(A, L) , A.T)\n",
      "means = [0,0,0,0,0,0]\n",
      "\n",
      "dims = 6\n",
      "N = 500\n",
      "\n",
      "X = numpy.random.multivariate_normal(means, covariance, (N)).T"
     ],
     "language": "python",
     "metadata": {},
     "outputs": [],
     "prompt_number": 1104
    },
    {
     "cell_type": "code",
     "collapsed": false,
     "input": [
      "mu = np.zeros(10)\n",
      "Sigma = np.diag([5,4,3,2,1,1,1,1,1,1])\n",
      "N = 100\n",
      "X = np.random.multivariate_normal(mu, Sigma, N).T"
     ],
     "language": "python",
     "metadata": {},
     "outputs": [
      {
       "output_type": "stream",
       "stream": "stdout",
       "text": [
        "\n"
       ]
      }
     ],
     "prompt_number": 1114
    },
    {
     "cell_type": "code",
     "collapsed": false,
     "input": [
      "test = BayesianPCA(10,100)"
     ],
     "language": "python",
     "metadata": {},
     "outputs": [],
     "prompt_number": 1115
    },
    {
     "cell_type": "code",
     "collapsed": false,
     "input": [
      "test.fit(X,1000)"
     ],
     "language": "python",
     "metadata": {},
     "outputs": [
      {
       "output_type": "stream",
       "stream": "stdout",
       "text": [
        "dimensions data: (10, 100)\n",
        "a alpha tilde = 5.01\n",
        "0 "
       ]
      },
      {
       "output_type": "stream",
       "stream": "stdout",
       "text": [
        "1\n",
        "[[ 6119.30298933]]\n",
        "10"
       ]
      },
      {
       "output_type": "stream",
       "stream": "stdout",
       "text": [
        " 20 "
       ]
      },
      {
       "output_type": "stream",
       "stream": "stdout",
       "text": [
        "30 "
       ]
      },
      {
       "output_type": "stream",
       "stream": "stdout",
       "text": [
        "40 "
       ]
      },
      {
       "output_type": "stream",
       "stream": "stdout",
       "text": [
        "50 "
       ]
      },
      {
       "output_type": "stream",
       "stream": "stdout",
       "text": [
        "60 "
       ]
      },
      {
       "output_type": "stream",
       "stream": "stdout",
       "text": [
        "70 "
       ]
      },
      {
       "output_type": "stream",
       "stream": "stdout",
       "text": [
        "80 "
       ]
      },
      {
       "output_type": "stream",
       "stream": "stdout",
       "text": [
        "90 "
       ]
      },
      {
       "output_type": "stream",
       "stream": "stdout",
       "text": [
        "100 "
       ]
      },
      {
       "output_type": "stream",
       "stream": "stdout",
       "text": [
        "101\n",
        "[[ 125815.47611655]]\n",
        "110"
       ]
      },
      {
       "output_type": "stream",
       "stream": "stdout",
       "text": [
        " 120 "
       ]
      },
      {
       "output_type": "stream",
       "stream": "stdout",
       "text": [
        "130 "
       ]
      },
      {
       "output_type": "stream",
       "stream": "stdout",
       "text": [
        "140 "
       ]
      },
      {
       "output_type": "stream",
       "stream": "stdout",
       "text": [
        "150 "
       ]
      },
      {
       "output_type": "stream",
       "stream": "stdout",
       "text": [
        "160 "
       ]
      },
      {
       "output_type": "stream",
       "stream": "stdout",
       "text": [
        "170 "
       ]
      },
      {
       "output_type": "stream",
       "stream": "stdout",
       "text": [
        "180 "
       ]
      },
      {
       "output_type": "stream",
       "stream": "stdout",
       "text": [
        "190 "
       ]
      },
      {
       "output_type": "stream",
       "stream": "stdout",
       "text": [
        "200 "
       ]
      },
      {
       "output_type": "stream",
       "stream": "stdout",
       "text": [
        "201\n",
        "[[ 128345.89821713]]\n",
        "210"
       ]
      },
      {
       "output_type": "stream",
       "stream": "stdout",
       "text": [
        " 220 "
       ]
      },
      {
       "output_type": "stream",
       "stream": "stdout",
       "text": [
        "230 "
       ]
      },
      {
       "output_type": "stream",
       "stream": "stdout",
       "text": [
        "240 "
       ]
      },
      {
       "output_type": "stream",
       "stream": "stdout",
       "text": [
        "250 "
       ]
      },
      {
       "output_type": "stream",
       "stream": "stdout",
       "text": [
        "260 "
       ]
      },
      {
       "output_type": "stream",
       "stream": "stdout",
       "text": [
        "270 "
       ]
      },
      {
       "output_type": "stream",
       "stream": "stdout",
       "text": [
        "280 "
       ]
      },
      {
       "output_type": "stream",
       "stream": "stdout",
       "text": [
        "290 "
       ]
      },
      {
       "output_type": "stream",
       "stream": "stdout",
       "text": [
        "300 "
       ]
      },
      {
       "output_type": "stream",
       "stream": "stdout",
       "text": [
        "301\n",
        "[[ 127551.43157791]]\n",
        "310"
       ]
      },
      {
       "output_type": "stream",
       "stream": "stdout",
       "text": [
        " 320 "
       ]
      },
      {
       "output_type": "stream",
       "stream": "stdout",
       "text": [
        "330 "
       ]
      },
      {
       "output_type": "stream",
       "stream": "stdout",
       "text": [
        "340 "
       ]
      },
      {
       "output_type": "stream",
       "stream": "stdout",
       "text": [
        "350 "
       ]
      },
      {
       "output_type": "stream",
       "stream": "stdout",
       "text": [
        "360 "
       ]
      },
      {
       "output_type": "stream",
       "stream": "stdout",
       "text": [
        "370 "
       ]
      },
      {
       "output_type": "stream",
       "stream": "stdout",
       "text": [
        "380 "
       ]
      },
      {
       "output_type": "stream",
       "stream": "stdout",
       "text": [
        "390 "
       ]
      },
      {
       "output_type": "stream",
       "stream": "stdout",
       "text": [
        "400 "
       ]
      },
      {
       "output_type": "stream",
       "stream": "stdout",
       "text": [
        "401\n",
        "[[ 129480.48531173]]\n",
        "410"
       ]
      },
      {
       "output_type": "stream",
       "stream": "stdout",
       "text": [
        " 420 "
       ]
      },
      {
       "output_type": "stream",
       "stream": "stdout",
       "text": [
        "430 "
       ]
      },
      {
       "output_type": "stream",
       "stream": "stdout",
       "text": [
        "440 "
       ]
      },
      {
       "output_type": "stream",
       "stream": "stdout",
       "text": [
        "450 "
       ]
      },
      {
       "output_type": "stream",
       "stream": "stdout",
       "text": [
        "460 "
       ]
      },
      {
       "output_type": "stream",
       "stream": "stdout",
       "text": [
        "470 "
       ]
      },
      {
       "output_type": "stream",
       "stream": "stdout",
       "text": [
        "480 "
       ]
      },
      {
       "output_type": "stream",
       "stream": "stdout",
       "text": [
        "490 "
       ]
      },
      {
       "output_type": "stream",
       "stream": "stdout",
       "text": [
        "500 "
       ]
      },
      {
       "output_type": "stream",
       "stream": "stdout",
       "text": [
        "501\n",
        "[[ 132956.50140092]]\n",
        "510"
       ]
      },
      {
       "output_type": "stream",
       "stream": "stdout",
       "text": [
        " 520 "
       ]
      },
      {
       "output_type": "stream",
       "stream": "stdout",
       "text": [
        "530 "
       ]
      },
      {
       "output_type": "stream",
       "stream": "stdout",
       "text": [
        "540 "
       ]
      },
      {
       "output_type": "stream",
       "stream": "stdout",
       "text": [
        "550 "
       ]
      },
      {
       "output_type": "stream",
       "stream": "stdout",
       "text": [
        "560 "
       ]
      },
      {
       "output_type": "stream",
       "stream": "stdout",
       "text": [
        "570 "
       ]
      },
      {
       "output_type": "stream",
       "stream": "stdout",
       "text": [
        "580 "
       ]
      },
      {
       "output_type": "stream",
       "stream": "stdout",
       "text": [
        "590 "
       ]
      },
      {
       "output_type": "stream",
       "stream": "stdout",
       "text": [
        "600 "
       ]
      },
      {
       "output_type": "stream",
       "stream": "stdout",
       "text": [
        "601\n",
        "[[ 136576.46633299]]\n",
        "610"
       ]
      },
      {
       "output_type": "stream",
       "stream": "stdout",
       "text": [
        " 620 "
       ]
      },
      {
       "output_type": "stream",
       "stream": "stdout",
       "text": [
        "630 "
       ]
      },
      {
       "output_type": "stream",
       "stream": "stdout",
       "text": [
        "640 "
       ]
      },
      {
       "output_type": "stream",
       "stream": "stdout",
       "text": [
        "650 "
       ]
      },
      {
       "output_type": "stream",
       "stream": "stdout",
       "text": [
        "660 "
       ]
      },
      {
       "output_type": "stream",
       "stream": "stdout",
       "text": [
        "670 "
       ]
      },
      {
       "output_type": "stream",
       "stream": "stdout",
       "text": [
        "680 "
       ]
      },
      {
       "output_type": "stream",
       "stream": "stdout",
       "text": [
        "690 "
       ]
      },
      {
       "output_type": "stream",
       "stream": "stdout",
       "text": [
        "700 "
       ]
      },
      {
       "output_type": "stream",
       "stream": "stdout",
       "text": [
        "701\n",
        "[[ 139676.1864763]]\n",
        "710"
       ]
      },
      {
       "output_type": "stream",
       "stream": "stdout",
       "text": [
        " 720 "
       ]
      },
      {
       "output_type": "stream",
       "stream": "stdout",
       "text": [
        "730 "
       ]
      },
      {
       "output_type": "stream",
       "stream": "stdout",
       "text": [
        "740 "
       ]
      },
      {
       "output_type": "stream",
       "stream": "stdout",
       "text": [
        "750 "
       ]
      },
      {
       "output_type": "stream",
       "stream": "stdout",
       "text": [
        "760 "
       ]
      },
      {
       "output_type": "stream",
       "stream": "stdout",
       "text": [
        "770 "
       ]
      },
      {
       "output_type": "stream",
       "stream": "stdout",
       "text": [
        "780 "
       ]
      },
      {
       "output_type": "stream",
       "stream": "stdout",
       "text": [
        "790 "
       ]
      },
      {
       "output_type": "stream",
       "stream": "stdout",
       "text": [
        "800 "
       ]
      },
      {
       "output_type": "stream",
       "stream": "stdout",
       "text": [
        "801\n",
        "[[ 142063.21620862]]\n",
        "810"
       ]
      },
      {
       "output_type": "stream",
       "stream": "stdout",
       "text": [
        " 820 "
       ]
      },
      {
       "output_type": "stream",
       "stream": "stdout",
       "text": [
        "830 "
       ]
      },
      {
       "output_type": "stream",
       "stream": "stdout",
       "text": [
        "840 "
       ]
      },
      {
       "output_type": "stream",
       "stream": "stdout",
       "text": [
        "850 "
       ]
      },
      {
       "output_type": "stream",
       "stream": "stdout",
       "text": [
        "860 "
       ]
      },
      {
       "output_type": "stream",
       "stream": "stdout",
       "text": [
        "870 "
       ]
      },
      {
       "output_type": "stream",
       "stream": "stdout",
       "text": [
        "880 "
       ]
      },
      {
       "output_type": "stream",
       "stream": "stdout",
       "text": [
        "890 "
       ]
      },
      {
       "output_type": "stream",
       "stream": "stdout",
       "text": [
        "900 "
       ]
      },
      {
       "output_type": "stream",
       "stream": "stdout",
       "text": [
        "901\n",
        "[[ 143776.7820775]]\n",
        "910"
       ]
      },
      {
       "output_type": "stream",
       "stream": "stdout",
       "text": [
        " 920 "
       ]
      },
      {
       "output_type": "stream",
       "stream": "stdout",
       "text": [
        "930 "
       ]
      },
      {
       "output_type": "stream",
       "stream": "stdout",
       "text": [
        "940 "
       ]
      },
      {
       "output_type": "stream",
       "stream": "stdout",
       "text": [
        "950 "
       ]
      },
      {
       "output_type": "stream",
       "stream": "stdout",
       "text": [
        "960 "
       ]
      },
      {
       "output_type": "stream",
       "stream": "stdout",
       "text": [
        "970 "
       ]
      },
      {
       "output_type": "stream",
       "stream": "stdout",
       "text": [
        "980 "
       ]
      },
      {
       "output_type": "stream",
       "stream": "stdout",
       "text": [
        "990 "
       ]
      },
      {
       "output_type": "stream",
       "stream": "stdout",
       "text": [
        "\n",
        " w final:\n",
        "[[  3.43939696e-01  -3.21360336e-01  -2.22671371e-01  -6.77885105e-01\n",
        "   -3.33606413e-02  -3.51953956e-02  -1.14863302e-02   1.21827112e-01\n",
        "    3.83180357e-02  -2.76411564e-02]\n",
        " [  7.09659365e-01   1.17340045e-01   1.38271756e+00  -3.36975200e-01\n",
        "   -9.93017145e-02  -2.04064488e-01   7.25357348e-02  -5.78315363e-02\n",
        "   -7.64843005e-04  -3.18782434e-02]\n",
        " [  2.89609659e-01  -1.33892080e+00   3.97406413e-01   4.08689053e-01\n",
        "   -8.53286113e-03  -1.28779361e-01   5.97847624e-02  -1.06022909e-01\n",
        "    9.05806242e-02  -1.35822681e-01]\n",
        " [  1.51388504e+00   1.16843227e-01  -6.22215950e-01   4.20082092e-03\n",
        "   -4.17754158e-03  -1.78549909e-01   1.70712278e-02  -4.40220802e-02\n",
        "    6.42430251e-02   1.89187430e-01]\n",
        " [ -1.13602552e-01   1.48304727e-01  -1.05718028e-01   3.77956613e-02\n",
        "    1.00564382e-02   2.99920303e-02  -9.71477305e-03   4.38763334e-03\n",
        "   -1.23869109e-02   1.61913960e-02]\n",
        " [ -2.80697719e-01   2.37820524e-01  -1.32206556e-02   1.10698576e-01\n",
        "    1.35040477e-02   5.02608308e-02  -1.03648521e-02  -6.27609408e-03\n",
        "   -2.64150215e-02   9.53268940e-03]\n",
        " [ -1.04913433e-01  -4.63987809e-03  -8.62538459e-02   4.16047318e-02\n",
        "    8.65138845e-03   2.17023713e-02  -5.90145695e-03   2.98452114e-03\n",
        "   -2.60009267e-03  -2.00913391e-03]\n",
        " [ -5.39391768e-01   1.64517181e-01   1.26394341e-02   6.73132183e-02\n",
        "    1.56812526e-02   8.57693466e-02  -1.70642529e-02   1.41838430e-02\n",
        "   -3.26805141e-02  -2.59531097e-02]\n",
        " [ -2.13144191e-01   7.32771739e-02  -1.68728237e-01   3.09846426e-02\n",
        "    1.47453799e-02   4.74221109e-02  -1.44869852e-02   1.50419939e-02\n",
        "   -1.06400040e-02   2.37927145e-03]\n",
        " [  3.57021961e-02   1.35661497e-01   3.26436592e-02  -9.22667407e-02\n",
        "   -6.73622404e-03  -1.57528152e-03  -2.13745071e-03   1.23707644e-02\n",
        "   -7.68710616e-03   1.20884819e-02]]\n"
       ]
      }
     ],
     "prompt_number": 1116
    },
    {
     "cell_type": "code",
     "collapsed": false,
     "input": [
      "# print test.bs_alpha_tilde\n",
      "print test.means_w\n",
      "print test.mean_mu\n",
      "print test.a_tau_tilde/test.b_tau_tilde"
     ],
     "language": "python",
     "metadata": {},
     "outputs": [
      {
       "output_type": "stream",
       "stream": "stdout",
       "text": [
        "[[  3.43939696e-01  -3.21360336e-01  -2.22671371e-01  -6.77885105e-01\n",
        "   -3.33606413e-02  -3.51953956e-02  -1.14863302e-02   1.21827112e-01\n",
        "    3.83180357e-02  -2.76411564e-02]\n",
        " [  7.09659365e-01   1.17340045e-01   1.38271756e+00  -3.36975200e-01\n",
        "   -9.93017145e-02  -2.04064488e-01   7.25357348e-02  -5.78315363e-02\n",
        "   -7.64843005e-04  -3.18782434e-02]\n",
        " [  2.89609659e-01  -1.33892080e+00   3.97406413e-01   4.08689053e-01\n",
        "   -8.53286113e-03  -1.28779361e-01   5.97847624e-02  -1.06022909e-01\n",
        "    9.05806242e-02  -1.35822681e-01]\n",
        " [  1.51388504e+00   1.16843227e-01  -6.22215950e-01   4.20082092e-03\n",
        "   -4.17754158e-03  -1.78549909e-01   1.70712278e-02  -4.40220802e-02\n",
        "    6.42430251e-02   1.89187430e-01]\n",
        " [ -1.13602552e-01   1.48304727e-01  -1.05718028e-01   3.77956613e-02\n",
        "    1.00564382e-02   2.99920303e-02  -9.71477305e-03   4.38763334e-03\n",
        "   -1.23869109e-02   1.61913960e-02]\n",
        " [ -2.80697719e-01   2.37820524e-01  -1.32206556e-02   1.10698576e-01\n",
        "    1.35040477e-02   5.02608308e-02  -1.03648521e-02  -6.27609408e-03\n",
        "   -2.64150215e-02   9.53268940e-03]\n",
        " [ -1.04913433e-01  -4.63987809e-03  -8.62538459e-02   4.16047318e-02\n",
        "    8.65138845e-03   2.17023713e-02  -5.90145695e-03   2.98452114e-03\n",
        "   -2.60009267e-03  -2.00913391e-03]\n",
        " [ -5.39391768e-01   1.64517181e-01   1.26394341e-02   6.73132183e-02\n",
        "    1.56812526e-02   8.57693466e-02  -1.70642529e-02   1.41838430e-02\n",
        "   -3.26805141e-02  -2.59531097e-02]\n",
        " [ -2.13144191e-01   7.32771739e-02  -1.68728237e-01   3.09846426e-02\n",
        "    1.47453799e-02   4.74221109e-02  -1.44869852e-02   1.50419939e-02\n",
        "   -1.06400040e-02   2.37927145e-03]\n",
        " [  3.57021961e-02   1.35661497e-01   3.26436592e-02  -9.22667407e-02\n",
        "   -6.73622404e-03  -1.57528152e-03  -2.13745071e-03   1.23707644e-02\n",
        "   -7.68710616e-03   1.20884819e-02]]\n",
        "[[ 0.45198512]\n",
        " [ 0.05987251]\n",
        " [-0.03784749]\n",
        " [ 0.08955266]\n",
        " [-0.1423981 ]\n",
        " [ 0.03018649]\n",
        " [-0.02837243]\n",
        " [ 0.01821629]\n",
        " [ 0.13107696]\n",
        " [-0.10608923]]\n",
        "[[ 0.7849119]]\n"
       ]
      }
     ],
     "prompt_number": 1117
    },
    {
     "cell_type": "markdown",
     "metadata": {},
     "source": [
      "### 1. The Q-distribution (5 points)\n",
      "\n",
      "In variational Bayes, we introduce a distribution $Q(\\Theta)$ over parameters / latent variables in order to make inference tractable. We can think of $Q$ as being an approximation of a certain distribution. What function does $Q$ approximate, $p(D|\\Theta)$, $p(\\Theta|D)$, $p(D, \\Theta)$, $p(\\Theta)$, or $p(D)$, and how do you see that from the equation $\\ln p(D) = \\mathcal{L}(Q) + \\mathrm{KL}(Q||P)$?"
     ]
    },
    {
     "cell_type": "code",
     "collapsed": false,
     "input": [
      "import pylab as pl\n",
      "\n",
      "def _blob(x,y,area,colour):\n",
      "    \"\"\"\n",
      "    Source: http://wiki.scipy.org/Cookbook/Matplotlib/HintonDiagrams\n",
      "    Draws a square-shaped blob with the given area (< 1) at\n",
      "    the given coordinates.\n",
      "    \"\"\"\n",
      "    hs = np.sqrt(area) / 2\n",
      "    xcorners = np.array([x - hs, x + hs, x + hs, x - hs])\n",
      "    ycorners = np.array([y - hs, y - hs, y + hs, y + hs])\n",
      "    pl.fill(xcorners, ycorners, colour, edgecolor=colour)\n",
      "    \n",
      "def hinton(W, maxWeight=None):\n",
      "    \"\"\"\n",
      "    Source: http://wiki.scipy.org/Cookbook/Matplotlib/HintonDiagrams\n",
      "    Draws a Hinton diagram for visualizing a weight matrix.\n",
      "    Temporarily disables matplotlib interactive mode if it is on,\n",
      "    otherwise this takes forever.\n",
      "    \"\"\"\n",
      "    reenable = False\n",
      "    if pl.isinteractive():\n",
      "        pl.ioff()\n",
      "    pl.clf()\n",
      "    height, width = W.shape\n",
      "    if not maxWeight:\n",
      "        maxWeight = 2**np.ceil(np.log(np.max(np.abs(W)))/np.log(2))\n",
      "\n",
      "    pl.fill(np.array([0,width,width,0]),np.array([0,0,height,height]),'gray')\n",
      "    pl.axis('off')\n",
      "    pl.axis('equal')\n",
      "    for x in xrange(width):\n",
      "        for y in xrange(height):\n",
      "            _x = x+1\n",
      "            _y = y+1\n",
      "            w = W[y,x]\n",
      "            if w > 0:\n",
      "                _blob(_x - 0.5, height - _y + 0.5, min(1,w/maxWeight),'white')\n",
      "            elif w < 0:\n",
      "                _blob(_x - 0.5, height - _y + 0.5, min(1,-w/maxWeight),'black')\n",
      "    if reenable:\n",
      "        pl.ion()\n",
      "    pl.show()\n",
      "\n",
      "hinton(test.means_w )"
     ],
     "language": "python",
     "metadata": {},
     "outputs": [
      {
       "metadata": {},
       "output_type": "display_data",
       "png": "[encoded data removed]",
       "text": [
        "<matplotlib.figure.Figure at 0x5240a50>"
       ]
      }
     ],
     "prompt_number": 1118
    },
    {
     "cell_type": "markdown",
     "metadata": {},
     "source": [
      "### 2. The mean-field approximation (15 points)\n",
      "\n",
      "Equation 13 from [Bishop99] is a very powerful result: assuming only that $Q(\\Theta)$ factorizes in a certain way (no assumptions on the functional form of the factors $Q_i$!), we get a set of coupled equations for the $Q_i$.\n",
      "\n",
      "However, the expression given in eq. 13 for Q_i contains a small mistake. Starting with the expression for the lower bound $\\mathcal{L}(Q)$, derive the correct expression (and include your derivation). You can proceed as follows: first, substitute the factorization of $Q$ (eq. 12) into the definition of $\\mathcal{L}(Q)$ and separate $\\mathcal{L}(Q)$ into $Q_i$-dependent and $Q_i$-independent terms. At this point, you should be able to spot the expectations $\\langle\\cdot\\rangle_{k \\neq i}$ over the other $Q$-distributions that appear in Bishop's solution (eq. 13). Now, keeping all $Q_k, k \\neq i$ fixed, maximize the expression with respect to $Q_i$. You should be able to spot the form of the optimal $ln Q_i$, from which $Q_i$ can easily be obtained."
     ]
    },
    {
     "cell_type": "markdown",
     "metadata": {},
     "source": [
      "### 3. The log-probability (10 points)\n",
      "\n",
      "Write down the log-prob of data and parameters, $\\ln p(\\mathbf{X}, \\mathbf{Z}, \\mathbf{W}, \\mathbf{\\alpha}, \\tau, \\mathbf{\\mu})$, in full detail (where $\\mathbf{X}$ are observed, $\\mathbf{Z}$ is latent; this is different from [Bishop99] who uses $\\mathbf{T}$ and $\\mathbf{X}$ respectively, but $\\mathbf{X}$ and $\\mathbf{Z}$ are consistent with the PRML book and are more common nowadays). Could we use this to assess the convergence of the variational Bayesian PCA algorithm? If yes, how? If no, why not?"
     ]
    },
    {
     "cell_type": "markdown",
     "metadata": {},
     "source": [
      "### 4. The lower bound $\\mathcal{L}(Q)$ (25 points)\n",
      "\n",
      "Derive an expression for the lower bound $\\mathcal{L}(Q)$ of the log-prob $\\ln p(X)$ for Bayesian PCA, making use of the factorization (eq. 12) and the form of the Q-distributions (eq. 16-20) as listed in [Bishop99]. Show your steps. Implement this function.\n",
      "\n",
      "The following result may be useful:\n",
      "\n",
      "For $x \\sim \\Gamma(a,b)$, we have $\\langle \\ln x\\rangle = \\ln b + \\psi(a)$, where $\\psi(a) = \\frac{\\Gamma'(a)}{\\Gamma(a)}$ is the digamma function (which is implemented in numpy.special)."
     ]
    },
    {
     "cell_type": "markdown",
     "metadata": {},
     "source": [
      "### 5. Optimize variational parameters (50 points)\n",
      "Implement the update equations for the Q-distributions, in the __update_XXX methods. Each update function should re-estimate the variational parameters of the Q-distribution corresponding to one group of variables (i.e. either $Z$, $\\mu$, $W$, $\\alpha$ or $\\tau$)."
     ]
    },
    {
     "cell_type": "markdown",
     "metadata": {},
     "source": [
      "### 6. Learning algorithm (10 points)\n",
      "Implement the learning algorithm described in [Bishop99], i.e. iteratively optimize each of the Q-distributions holding the others fixed.\n",
      "\n",
      "What would be a good way to track convergence of the algorithm? Implement your suggestion.\n",
      "\n",
      "Test the algorithm on some test data drawn from a Gaussian with different variances in orthogonal directions. "
     ]
    },
    {
     "cell_type": "markdown",
     "metadata": {},
     "source": [
      "### 7. PCA Representation of MNIST (10 points)\n",
      "\n",
      "Download the MNIST dataset from here http://deeplearning.net/tutorial/gettingstarted.html (the page contains python code for loading the data). Run your algorithm on (part of) this dataset, and visualize the results.\n"
     ]
    },
    {
     "cell_type": "code",
     "collapsed": false,
     "input": [
      "a = np.array([2.0])\n",
      "b = np.array([[1.0,2.0]])\n",
      "\n",
      "b.T[0][0] = 5\n"
     ],
     "language": "python",
     "metadata": {},
     "outputs": [],
     "prompt_number": 768
    },
    {
     "cell_type": "code",
     "collapsed": false,
     "input": [
      "# dot(b,b.T)\n",
      "np.linalg.norm(b)"
     ],
     "language": "python",
     "metadata": {},
     "outputs": [
      {
       "metadata": {},
       "output_type": "pyout",
       "prompt_number": 772,
       "text": [
        "5.3851648071345037"
       ]
      }
     ],
     "prompt_number": 772
    },
    {
     "cell_type": "code",
     "collapsed": false,
     "input": [
      "np.power(b,3)"
     ],
     "language": "python",
     "metadata": {},
     "outputs": [
      {
       "metadata": {},
       "output_type": "pyout",
       "prompt_number": 782,
       "text": [
        "array([[ 125.,    8.]])"
       ]
      }
     ],
     "prompt_number": 782
    },
    {
     "cell_type": "code",
     "collapsed": false,
     "input": [],
     "language": "python",
     "metadata": {},
     "outputs": []
    }
   ],
   "metadata": {}
  }
 ]
}